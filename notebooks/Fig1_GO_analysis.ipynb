{
 "cells": [
  {
   "cell_type": "code",
   "execution_count": 1,
   "metadata": {},
   "outputs": [],
   "source": [
    "import pandas as pd"
   ]
  },
  {
   "cell_type": "code",
   "execution_count": 2,
   "metadata": {},
   "outputs": [],
   "source": [
    "import numpy as np\n",
    "import pandas as pd\n",
    "import os\n",
    "\n",
    "import matplotlib.pyplot as plt\n",
    "import seaborn as sns\n",
    "sns.set_style('white')\n",
    "sns.set_style('ticks')\n",
    "%matplotlib inline\n",
    "\n",
    "import matplotlib as mpl\n",
    "mpl.rcParams['pdf.fonttype'] = 42"
   ]
  },
  {
   "cell_type": "markdown",
   "metadata": {},
   "source": [
    "## Class I "
   ]
  },
  {
   "cell_type": "code",
   "execution_count": 3,
   "metadata": {},
   "outputs": [
    {
     "name": "stdout",
     "output_type": "stream",
     "text": [
      "(208, 12)\n"
     ]
    },
    {
     "data": {
      "text/html": [
       "<div>\n",
       "<style scoped>\n",
       "    .dataframe tbody tr th:only-of-type {\n",
       "        vertical-align: middle;\n",
       "    }\n",
       "\n",
       "    .dataframe tbody tr th {\n",
       "        vertical-align: top;\n",
       "    }\n",
       "\n",
       "    .dataframe thead th {\n",
       "        text-align: right;\n",
       "    }\n",
       "</style>\n",
       "<table border=\"1\" class=\"dataframe\">\n",
       "  <thead>\n",
       "    <tr style=\"text-align: right;\">\n",
       "      <th></th>\n",
       "      <th># GO</th>\n",
       "      <th>NS</th>\n",
       "      <th>enrichment</th>\n",
       "      <th>name</th>\n",
       "      <th>ratio_in_study</th>\n",
       "      <th>ratio_in_pop</th>\n",
       "      <th>p_uncorrected</th>\n",
       "      <th>depth</th>\n",
       "      <th>study_count</th>\n",
       "      <th>p_fdr_bh</th>\n",
       "      <th>study_items</th>\n",
       "      <th>tissue</th>\n",
       "    </tr>\n",
       "  </thead>\n",
       "  <tbody>\n",
       "    <tr>\n",
       "      <th>238</th>\n",
       "      <td>GO:0022624</td>\n",
       "      <td>CC</td>\n",
       "      <td>e</td>\n",
       "      <td>proteasome accessory complex</td>\n",
       "      <td>16/5914</td>\n",
       "      <td>17/19370</td>\n",
       "      <td>6.816294e-08</td>\n",
       "      <td>2</td>\n",
       "      <td>16</td>\n",
       "      <td>0.000106</td>\n",
       "      <td>5700, 5701, 5702, 5704, 5705, 5706, 5707, 5708...</td>\n",
       "      <td>Abelin2017</td>\n",
       "    </tr>\n",
       "    <tr>\n",
       "      <th>239</th>\n",
       "      <td>GO:0071007</td>\n",
       "      <td>CC</td>\n",
       "      <td>e</td>\n",
       "      <td>U2-type catalytic step 2 spliceosome</td>\n",
       "      <td>26/5914</td>\n",
       "      <td>30/19370</td>\n",
       "      <td>2.505053e-07</td>\n",
       "      <td>5</td>\n",
       "      <td>26</td>\n",
       "      <td>0.000106</td>\n",
       "      <td>988, 1659, 5356, 6627, 6629, 6632, 6633, 6634,...</td>\n",
       "      <td>Abelin2017</td>\n",
       "    </tr>\n",
       "  </tbody>\n",
       "</table>\n",
       "</div>"
      ],
      "text/plain": [
       "           # GO  NS enrichment                                  name  \\\n",
       "238  GO:0022624  CC          e          proteasome accessory complex   \n",
       "239  GO:0071007  CC          e  U2-type catalytic step 2 spliceosome   \n",
       "\n",
       "    ratio_in_study ratio_in_pop  p_uncorrected  depth  study_count  p_fdr_bh  \\\n",
       "238        16/5914     17/19370   6.816294e-08      2           16  0.000106   \n",
       "239        26/5914     30/19370   2.505053e-07      5           26  0.000106   \n",
       "\n",
       "                                           study_items      tissue  \n",
       "238  5700, 5701, 5702, 5704, 5705, 5706, 5707, 5708...  Abelin2017  \n",
       "239  988, 1659, 5356, 6627, 6629, 6632, 6633, 6634,...  Abelin2017  "
      ]
     },
     "execution_count": 3,
     "metadata": {},
     "output_type": "execute_result"
    }
   ],
   "source": [
    "abelin_I_df = pd.read_csv('../data/abelin_classI/GO.txt', sep='\\t')\n",
    "abelin_I_df = abelin_I_df[abelin_I_df['NS']=='CC']\n",
    "\n",
    "abelin_I_df['tissue'] = 'Abelin2017'\n",
    "print(abelin_I_df.shape)\n",
    "\n",
    "abelin_I_df.head(2)"
   ]
  },
  {
   "cell_type": "code",
   "execution_count": 5,
   "metadata": {},
   "outputs": [
    {
     "name": "stdout",
     "output_type": "stream",
     "text": [
      "29\n",
      "(6624, 12)\n"
     ]
    },
    {
     "data": {
      "text/html": [
       "<div>\n",
       "<style scoped>\n",
       "    .dataframe tbody tr th:only-of-type {\n",
       "        vertical-align: middle;\n",
       "    }\n",
       "\n",
       "    .dataframe tbody tr th {\n",
       "        vertical-align: top;\n",
       "    }\n",
       "\n",
       "    .dataframe thead th {\n",
       "        text-align: right;\n",
       "    }\n",
       "</style>\n",
       "<table border=\"1\" class=\"dataframe\">\n",
       "  <thead>\n",
       "    <tr style=\"text-align: right;\">\n",
       "      <th></th>\n",
       "      <th># GO</th>\n",
       "      <th>NS</th>\n",
       "      <th>enrichment</th>\n",
       "      <th>name</th>\n",
       "      <th>ratio_in_study</th>\n",
       "      <th>ratio_in_pop</th>\n",
       "      <th>p_uncorrected</th>\n",
       "      <th>depth</th>\n",
       "      <th>study_count</th>\n",
       "      <th>p_fdr_bh</th>\n",
       "      <th>study_items</th>\n",
       "      <th>tissue</th>\n",
       "    </tr>\n",
       "  </thead>\n",
       "  <tbody>\n",
       "    <tr>\n",
       "      <th>0</th>\n",
       "      <td>GO:0005839</td>\n",
       "      <td>CC</td>\n",
       "      <td>e</td>\n",
       "      <td>proteasome core complex</td>\n",
       "      <td>20/9025</td>\n",
       "      <td>20/19370</td>\n",
       "      <td>2.298601e-07</td>\n",
       "      <td>2</td>\n",
       "      <td>20</td>\n",
       "      <td>0.000114</td>\n",
       "      <td>5682, 5683, 5684, 5685, 5686, 5687, 5688, 5689...</td>\n",
       "      <td>Thymus (N)</td>\n",
       "    </tr>\n",
       "    <tr>\n",
       "      <th>1</th>\n",
       "      <td>GO:0005844</td>\n",
       "      <td>CC</td>\n",
       "      <td>e</td>\n",
       "      <td>polysome</td>\n",
       "      <td>32/9025</td>\n",
       "      <td>35/19370</td>\n",
       "      <td>3.821333e-07</td>\n",
       "      <td>3</td>\n",
       "      <td>32</td>\n",
       "      <td>0.000114</td>\n",
       "      <td>811, 1660, 1965, 1981, 2332, 2521, 3069, 4440,...</td>\n",
       "      <td>Thymus (N)</td>\n",
       "    </tr>\n",
       "  </tbody>\n",
       "</table>\n",
       "</div>"
      ],
      "text/plain": [
       "         # GO  NS enrichment                     name ratio_in_study  \\\n",
       "0  GO:0005839  CC          e  proteasome core complex        20/9025   \n",
       "1  GO:0005844  CC          e                 polysome        32/9025   \n",
       "\n",
       "  ratio_in_pop  p_uncorrected  depth  study_count  p_fdr_bh  \\\n",
       "0     20/19370   2.298601e-07      2           20  0.000114   \n",
       "1     35/19370   3.821333e-07      3           32  0.000114   \n",
       "\n",
       "                                         study_items      tissue  \n",
       "0  5682, 5683, 5684, 5685, 5686, 5687, 5688, 5689...  Thymus (N)  \n",
       "1  811, 1660, 1965, 1981, 2332, 2521, 3069, 4440,...  Thymus (N)  "
      ]
     },
     "execution_count": 5,
     "metadata": {},
     "output_type": "execute_result"
    }
   ],
   "source": [
    "atlas_df = pd.read_csv('../data/HLA_ligand_atlas/HLA-I.GO.output.txt', sep='\\t')\n",
    "atlas_df = atlas_df[atlas_df['NS']=='CC']\n",
    "atlas_df['tissue'] = atlas_df['tissue'].apply(lambda x: '{} (N)'.format(x))\n",
    "print(len(atlas_df['tissue'].unique()))\n",
    "\n",
    "print(atlas_df.shape)\n",
    "atlas_df.head(2)"
   ]
  },
  {
   "cell_type": "code",
   "execution_count": 6,
   "metadata": {},
   "outputs": [
    {
     "name": "stdout",
     "output_type": "stream",
     "text": [
      "(6832, 12)\n"
     ]
    },
    {
     "data": {
      "text/html": [
       "<div>\n",
       "<style scoped>\n",
       "    .dataframe tbody tr th:only-of-type {\n",
       "        vertical-align: middle;\n",
       "    }\n",
       "\n",
       "    .dataframe tbody tr th {\n",
       "        vertical-align: top;\n",
       "    }\n",
       "\n",
       "    .dataframe thead th {\n",
       "        text-align: right;\n",
       "    }\n",
       "</style>\n",
       "<table border=\"1\" class=\"dataframe\">\n",
       "  <thead>\n",
       "    <tr style=\"text-align: right;\">\n",
       "      <th></th>\n",
       "      <th># GO</th>\n",
       "      <th>NS</th>\n",
       "      <th>enrichment</th>\n",
       "      <th>name</th>\n",
       "      <th>ratio_in_study</th>\n",
       "      <th>ratio_in_pop</th>\n",
       "      <th>p_uncorrected</th>\n",
       "      <th>depth</th>\n",
       "      <th>study_count</th>\n",
       "      <th>p_fdr_bh</th>\n",
       "      <th>study_items</th>\n",
       "      <th>tissue</th>\n",
       "    </tr>\n",
       "  </thead>\n",
       "  <tbody>\n",
       "    <tr>\n",
       "      <th>238</th>\n",
       "      <td>GO:0022624</td>\n",
       "      <td>CC</td>\n",
       "      <td>e</td>\n",
       "      <td>proteasome accessory complex</td>\n",
       "      <td>16/5914</td>\n",
       "      <td>17/19370</td>\n",
       "      <td>6.816294e-08</td>\n",
       "      <td>2</td>\n",
       "      <td>16</td>\n",
       "      <td>0.000106</td>\n",
       "      <td>5700, 5701, 5702, 5704, 5705, 5706, 5707, 5708...</td>\n",
       "      <td>Abelin2017</td>\n",
       "    </tr>\n",
       "    <tr>\n",
       "      <th>239</th>\n",
       "      <td>GO:0071007</td>\n",
       "      <td>CC</td>\n",
       "      <td>e</td>\n",
       "      <td>U2-type catalytic step 2 spliceosome</td>\n",
       "      <td>26/5914</td>\n",
       "      <td>30/19370</td>\n",
       "      <td>2.505053e-07</td>\n",
       "      <td>5</td>\n",
       "      <td>26</td>\n",
       "      <td>0.000106</td>\n",
       "      <td>988, 1659, 5356, 6627, 6629, 6632, 6633, 6634,...</td>\n",
       "      <td>Abelin2017</td>\n",
       "    </tr>\n",
       "  </tbody>\n",
       "</table>\n",
       "</div>"
      ],
      "text/plain": [
       "           # GO  NS enrichment                                  name  \\\n",
       "238  GO:0022624  CC          e          proteasome accessory complex   \n",
       "239  GO:0071007  CC          e  U2-type catalytic step 2 spliceosome   \n",
       "\n",
       "    ratio_in_study ratio_in_pop  p_uncorrected  depth  study_count  p_fdr_bh  \\\n",
       "238        16/5914     17/19370   6.816294e-08      2           16  0.000106   \n",
       "239        26/5914     30/19370   2.505053e-07      5           26  0.000106   \n",
       "\n",
       "                                           study_items      tissue  \n",
       "238  5700, 5701, 5702, 5704, 5705, 5706, 5707, 5708...  Abelin2017  \n",
       "239  988, 1659, 5356, 6627, 6629, 6632, 6633, 6634,...  Abelin2017  "
      ]
     },
     "execution_count": 6,
     "metadata": {},
     "output_type": "execute_result"
    }
   ],
   "source": [
    "total = abelin_I_df.append(atlas_df)\n",
    "print(total.shape)\n",
    "total.head(2)"
   ]
  },
  {
   "cell_type": "code",
   "execution_count": 7,
   "metadata": {
    "scrolled": true
   },
   "outputs": [
    {
     "name": "stdout",
     "output_type": "stream",
     "text": [
      "Saving to ../data/generated_data/all_eluted.GO.class_i.txt\n"
     ]
    }
   ],
   "source": [
    "# save\n",
    "savepath = '../data/generated_data/all_eluted.GO.class_i.txt'\n",
    "print('Saving to {}'.format(savepath))\n",
    "total.to_csv(savepath, sep='\\t', index=False)"
   ]
  },
  {
   "cell_type": "code",
   "execution_count": 8,
   "metadata": {
    "scrolled": true
   },
   "outputs": [
    {
     "name": "stdout",
     "output_type": "stream",
     "text": [
      "(6832, 12)\n"
     ]
    },
    {
     "data": {
      "text/html": [
       "<div>\n",
       "<style scoped>\n",
       "    .dataframe tbody tr th:only-of-type {\n",
       "        vertical-align: middle;\n",
       "    }\n",
       "\n",
       "    .dataframe tbody tr th {\n",
       "        vertical-align: top;\n",
       "    }\n",
       "\n",
       "    .dataframe thead th {\n",
       "        text-align: right;\n",
       "    }\n",
       "</style>\n",
       "<table border=\"1\" class=\"dataframe\">\n",
       "  <thead>\n",
       "    <tr style=\"text-align: right;\">\n",
       "      <th></th>\n",
       "      <th># GO</th>\n",
       "      <th>NS</th>\n",
       "      <th>enrichment</th>\n",
       "      <th>name</th>\n",
       "      <th>ratio_in_study</th>\n",
       "      <th>ratio_in_pop</th>\n",
       "      <th>p_uncorrected</th>\n",
       "      <th>depth</th>\n",
       "      <th>study_count</th>\n",
       "      <th>p_fdr_bh</th>\n",
       "      <th>study_items</th>\n",
       "      <th>tissue</th>\n",
       "    </tr>\n",
       "  </thead>\n",
       "  <tbody>\n",
       "    <tr>\n",
       "      <th>0</th>\n",
       "      <td>GO:0022624</td>\n",
       "      <td>CC</td>\n",
       "      <td>e</td>\n",
       "      <td>proteasome accessory complex</td>\n",
       "      <td>16/5914</td>\n",
       "      <td>17/19370</td>\n",
       "      <td>6.816294e-08</td>\n",
       "      <td>2</td>\n",
       "      <td>16</td>\n",
       "      <td>0.000106</td>\n",
       "      <td>5700, 5701, 5702, 5704, 5705, 5706, 5707, 5708...</td>\n",
       "      <td>Abelin2017</td>\n",
       "    </tr>\n",
       "    <tr>\n",
       "      <th>1</th>\n",
       "      <td>GO:0071007</td>\n",
       "      <td>CC</td>\n",
       "      <td>e</td>\n",
       "      <td>U2-type catalytic step 2 spliceosome</td>\n",
       "      <td>26/5914</td>\n",
       "      <td>30/19370</td>\n",
       "      <td>2.505053e-07</td>\n",
       "      <td>5</td>\n",
       "      <td>26</td>\n",
       "      <td>0.000106</td>\n",
       "      <td>988, 1659, 5356, 6627, 6629, 6632, 6633, 6634,...</td>\n",
       "      <td>Abelin2017</td>\n",
       "    </tr>\n",
       "  </tbody>\n",
       "</table>\n",
       "</div>"
      ],
      "text/plain": [
       "         # GO  NS enrichment                                  name  \\\n",
       "0  GO:0022624  CC          e          proteasome accessory complex   \n",
       "1  GO:0071007  CC          e  U2-type catalytic step 2 spliceosome   \n",
       "\n",
       "  ratio_in_study ratio_in_pop  p_uncorrected  depth  study_count  p_fdr_bh  \\\n",
       "0        16/5914     17/19370   6.816294e-08      2           16  0.000106   \n",
       "1        26/5914     30/19370   2.505053e-07      5           26  0.000106   \n",
       "\n",
       "                                         study_items      tissue  \n",
       "0  5700, 5701, 5702, 5704, 5705, 5706, 5707, 5708...  Abelin2017  \n",
       "1  988, 1659, 5356, 6627, 6629, 6632, 6633, 6634,...  Abelin2017  "
      ]
     },
     "execution_count": 8,
     "metadata": {},
     "output_type": "execute_result"
    }
   ],
   "source": [
    "total = pd.read_csv('../data/generated_data/all_eluted.GO.class_i.txt', sep='\\t')\n",
    "print(total.shape)\n",
    "total.head(2)"
   ]
  },
  {
   "cell_type": "markdown",
   "metadata": {},
   "source": [
    "##### enriched"
   ]
  },
  {
   "cell_type": "code",
   "execution_count": 9,
   "metadata": {},
   "outputs": [
    {
     "name": "stdout",
     "output_type": "stream",
     "text": [
      "(6475, 12)\n",
      "19\n"
     ]
    }
   ],
   "source": [
    "e_df = total[total['enrichment']=='e']\n",
    "print(e_df.shape)\n",
    "most_freq = e_df['name'].value_counts()[e_df['name'].value_counts()>=30].index\n",
    "print(len(most_freq))"
   ]
  },
  {
   "cell_type": "code",
   "execution_count": 10,
   "metadata": {},
   "outputs": [
    {
     "name": "stdout",
     "output_type": "stream",
     "text": [
      "../data/generated_data/GO.class_i.enriched.total.tsv\n"
     ]
    }
   ],
   "source": [
    "savepath = '../data/generated_data/GO.class_i.enriched.total.tsv'\n",
    "print(savepath)\n",
    "e_df.to_csv(savepath, sep='\\t', index=False)"
   ]
  },
  {
   "cell_type": "code",
   "execution_count": 11,
   "metadata": {
    "scrolled": true
   },
   "outputs": [
    {
     "name": "stdout",
     "output_type": "stream",
     "text": [
      "(570, 13)\n"
     ]
    }
   ],
   "source": [
    "e_df = e_df[e_df['name'].isin(most_freq)]\n",
    "e_df['ratio_in_pop'] = e_df['ratio_in_pop'].apply(lambda x: np.divide(*map(int, x.split('/'))))\n",
    "e_df['ratio_in_study'] = e_df['ratio_in_study'].apply(lambda x: np.divide(*map(int, x.split('/'))))\n",
    "\n",
    "e_df['diff_study-pop'] = e_df['ratio_in_study'] - e_df['ratio_in_pop']\n",
    "e_df = e_df.sort_values(by=['diff_study-pop'], ascending=False)\n",
    "print(e_df.shape)"
   ]
  },
  {
   "cell_type": "code",
   "execution_count": 12,
   "metadata": {
    "scrolled": true
   },
   "outputs": [],
   "source": [
    "h = e_df.pivot(index='name', columns=['tissue'], values=['diff_study-pop'])\n",
    "h.index = h.index.get_level_values(0)\n",
    "h.columns = h.columns.get_level_values(1)"
   ]
  },
  {
   "cell_type": "code",
   "execution_count": 13,
   "metadata": {},
   "outputs": [
    {
     "name": "stdout",
     "output_type": "stream",
     "text": [
      "Saving to ../data/publication_figures/class_i.enriched_in_all_tissues.clustermap.pdf\n"
     ]
    },
    {
     "data": {
      "image/png": "[encoded data removed]",
      "text/plain": [
       "<Figure size 720x720 with 4 Axes>"
      ]
     },
     "metadata": {
      "needs_background": "light"
     },
     "output_type": "display_data"
    }
   ],
   "source": [
    "cm = sns.clustermap(h, lw=0.1, cmap='OrRd')\n",
    "savepath = '../data/publication_figures/class_i.enriched_in_all_tissues.clustermap.pdf'\n",
    "print('Saving to {}'.format(savepath))\n",
    "cm.fig.savefig(savepath, bbox_inches='tight')"
   ]
  },
  {
   "cell_type": "markdown",
   "metadata": {},
   "source": [
    "##### depleted"
   ]
  },
  {
   "cell_type": "code",
   "execution_count": 14,
   "metadata": {},
   "outputs": [
    {
     "name": "stdout",
     "output_type": "stream",
     "text": [
      "(357, 12)\n"
     ]
    }
   ],
   "source": [
    "d_df = total[total['enrichment']=='p']\n",
    "print(d_df.shape)"
   ]
  },
  {
   "cell_type": "code",
   "execution_count": 15,
   "metadata": {},
   "outputs": [
    {
     "name": "stdout",
     "output_type": "stream",
     "text": [
      "../data/generated_data/GO.class_i.depleted.total.tsv\n"
     ]
    }
   ],
   "source": [
    "savepath = '../data/generated_data/GO.class_i.depleted.total.tsv'\n",
    "print(savepath)\n",
    "d_df.to_csv(savepath, sep='\\t', index=False)"
   ]
  },
  {
   "cell_type": "code",
   "execution_count": 16,
   "metadata": {},
   "outputs": [
    {
     "name": "stdout",
     "output_type": "stream",
     "text": [
      "20\n"
     ]
    }
   ],
   "source": [
    "most_freq = d_df['name'].value_counts().index[:20]\n",
    "print(len(most_freq))"
   ]
  },
  {
   "cell_type": "code",
   "execution_count": 17,
   "metadata": {},
   "outputs": [
    {
     "name": "stdout",
     "output_type": "stream",
     "text": [
      "(297, 13)\n"
     ]
    }
   ],
   "source": [
    "d_df = d_df[d_df['name'].isin(most_freq)]\n",
    "d_df['ratio_in_pop'] = d_df['ratio_in_pop'].apply(lambda x: np.divide(*map(int, x.split('/'))))\n",
    "d_df['ratio_in_study'] = d_df['ratio_in_study'].apply(lambda x: np.divide(*map(int, x.split('/'))))\n",
    "\n",
    "d_df['diff_study-pop'] = d_df['ratio_in_study'] - d_df['ratio_in_pop']\n",
    "d_df = d_df.sort_values(by=['diff_study-pop'], ascending=False)\n",
    "print(d_df.shape)"
   ]
  },
  {
   "cell_type": "code",
   "execution_count": 18,
   "metadata": {},
   "outputs": [],
   "source": [
    "h = d_df.pivot(index='name', columns=['tissue'], values=['diff_study-pop']).fillna(0)\n",
    "h.index = h.index.get_level_values(0)\n",
    "h.columns = h.columns.get_level_values(1)"
   ]
  },
  {
   "cell_type": "code",
   "execution_count": 19,
   "metadata": {},
   "outputs": [
    {
     "name": "stdout",
     "output_type": "stream",
     "text": [
      "Saving to ../data/publication_figures/class_i.depleted_in_all_tissues.clustermap.pdf\n"
     ]
    },
    {
     "data": {
      "image/png": "[encoded data removed]",
      "text/plain": [
       "<Figure size 720x720 with 4 Axes>"
      ]
     },
     "metadata": {
      "needs_background": "light"
     },
     "output_type": "display_data"
    }
   ],
   "source": [
    "cm = sns.clustermap(h, lw=0.1, cmap='PuBu_r', mask=(h==0), )\n",
    "savepath = '../data/publication_figures/class_i.depleted_in_all_tissues.clustermap.pdf'\n",
    "print('Saving to {}'.format(savepath))\n",
    "cm.fig.savefig(savepath, bbox_inches='tight')"
   ]
  },
  {
   "cell_type": "markdown",
   "metadata": {},
   "source": [
    "## Class II"
   ]
  },
  {
   "cell_type": "code",
   "execution_count": 20,
   "metadata": {},
   "outputs": [
    {
     "name": "stdout",
     "output_type": "stream",
     "text": [
      "(378, 12)\n"
     ]
    },
    {
     "data": {
      "text/html": [
       "<div>\n",
       "<style scoped>\n",
       "    .dataframe tbody tr th:only-of-type {\n",
       "        vertical-align: middle;\n",
       "    }\n",
       "\n",
       "    .dataframe tbody tr th {\n",
       "        vertical-align: top;\n",
       "    }\n",
       "\n",
       "    .dataframe thead th {\n",
       "        text-align: right;\n",
       "    }\n",
       "</style>\n",
       "<table border=\"1\" class=\"dataframe\">\n",
       "  <thead>\n",
       "    <tr style=\"text-align: right;\">\n",
       "      <th></th>\n",
       "      <th># GO</th>\n",
       "      <th>NS</th>\n",
       "      <th>enrichment</th>\n",
       "      <th>name</th>\n",
       "      <th>ratio_in_study</th>\n",
       "      <th>ratio_in_pop</th>\n",
       "      <th>p_uncorrected</th>\n",
       "      <th>depth</th>\n",
       "      <th>study_count</th>\n",
       "      <th>p_fdr_bh</th>\n",
       "      <th>study_items</th>\n",
       "      <th>tissue</th>\n",
       "    </tr>\n",
       "  </thead>\n",
       "  <tbody>\n",
       "    <tr>\n",
       "      <th>21</th>\n",
       "      <td>GO:0043202</td>\n",
       "      <td>CC</td>\n",
       "      <td>e</td>\n",
       "      <td>lysosomal lumen</td>\n",
       "      <td>13/221</td>\n",
       "      <td>95/19370</td>\n",
       "      <td>1.322774e-07</td>\n",
       "      <td>6</td>\n",
       "      <td>13</td>\n",
       "      <td>0.000091</td>\n",
       "      <td>338, 972, 1509, 1520, 2548, 2717, 3074, 3320, ...</td>\n",
       "      <td>HeLa+INFg cells</td>\n",
       "    </tr>\n",
       "    <tr>\n",
       "      <th>22</th>\n",
       "      <td>GO:0042470</td>\n",
       "      <td>CC</td>\n",
       "      <td>e</td>\n",
       "      <td>melanosome</td>\n",
       "      <td>18/221</td>\n",
       "      <td>100/19370</td>\n",
       "      <td>2.156326e-07</td>\n",
       "      <td>8</td>\n",
       "      <td>18</td>\n",
       "      <td>0.000091</td>\n",
       "      <td>302, 476, 967, 1509, 2040, 3320, 5868, 5869, 5...</td>\n",
       "      <td>HeLa+INFg cells</td>\n",
       "    </tr>\n",
       "  </tbody>\n",
       "</table>\n",
       "</div>"
      ],
      "text/plain": [
       "          # GO  NS enrichment             name ratio_in_study ratio_in_pop  \\\n",
       "21  GO:0043202  CC          e  lysosomal lumen         13/221     95/19370   \n",
       "22  GO:0042470  CC          e       melanosome         18/221    100/19370   \n",
       "\n",
       "    p_uncorrected  depth  study_count  p_fdr_bh  \\\n",
       "21   1.322774e-07      6           13  0.000091   \n",
       "22   2.156326e-07      8           18  0.000091   \n",
       "\n",
       "                                          study_items           tissue  \n",
       "21  338, 972, 1509, 1520, 2548, 2717, 3074, 3320, ...  HeLa+INFg cells  \n",
       "22  302, 476, 967, 1509, 2040, 3320, 5868, 5869, 5...  HeLa+INFg cells  "
      ]
     },
     "execution_count": 20,
     "metadata": {},
     "output_type": "execute_result"
    }
   ],
   "source": [
    "b_df = pd.DataFrame()\n",
    "for f in os.listdir('../data/saghar_II/'):\n",
    "    if f.startswith('GO.B'):\n",
    "        temp = pd.read_csv('../data/saghar_II/{}'.format(f), sep='\\t')\n",
    "        temp['tissue'] = f.split('.')[2]\n",
    "        b_df = b_df.append(temp)\n",
    "\n",
    "hela_df = pd.read_csv('../data/saghar_II/GO.HeLa.output.txt', sep='\\t')\n",
    "hela_df['tissue'] = 'HeLa+INFg cells'\n",
    "\n",
    "saghar_df = hela_df.append(b_df)\n",
    "saghar_df = saghar_df[saghar_df['NS']=='CC']\n",
    "print(saghar_df.shape)\n",
    "saghar_df.head(2)"
   ]
  },
  {
   "cell_type": "code",
   "execution_count": 21,
   "metadata": {},
   "outputs": [
    {
     "name": "stdout",
     "output_type": "stream",
     "text": [
      "(866, 13)\n"
     ]
    },
    {
     "data": {
      "text/html": [
       "<div>\n",
       "<style scoped>\n",
       "    .dataframe tbody tr th:only-of-type {\n",
       "        vertical-align: middle;\n",
       "    }\n",
       "\n",
       "    .dataframe tbody tr th {\n",
       "        vertical-align: top;\n",
       "    }\n",
       "\n",
       "    .dataframe thead th {\n",
       "        text-align: right;\n",
       "    }\n",
       "</style>\n",
       "<table border=\"1\" class=\"dataframe\">\n",
       "  <thead>\n",
       "    <tr style=\"text-align: right;\">\n",
       "      <th></th>\n",
       "      <th># GO</th>\n",
       "      <th>NS</th>\n",
       "      <th>enrichment</th>\n",
       "      <th>name</th>\n",
       "      <th>ratio_in_study</th>\n",
       "      <th>ratio_in_pop</th>\n",
       "      <th>p_uncorrected</th>\n",
       "      <th>depth</th>\n",
       "      <th>study_count</th>\n",
       "      <th>p_fdr_bh</th>\n",
       "      <th>study_items</th>\n",
       "      <th>category</th>\n",
       "      <th>tissue</th>\n",
       "    </tr>\n",
       "  </thead>\n",
       "  <tbody>\n",
       "    <tr>\n",
       "      <th>166</th>\n",
       "      <td>GO:0005770</td>\n",
       "      <td>CC</td>\n",
       "      <td>e</td>\n",
       "      <td>late endosome</td>\n",
       "      <td>25/970</td>\n",
       "      <td>138/19370</td>\n",
       "      <td>3.565928e-07</td>\n",
       "      <td>8</td>\n",
       "      <td>25</td>\n",
       "      <td>0.000075</td>\n",
       "      <td>1182, 3312, 3482, 3643, 3916, 3949, 4077, 5605...</td>\n",
       "      <td>A375 Melanoma cells</td>\n",
       "      <td>A375 Melanoma cells</td>\n",
       "    </tr>\n",
       "    <tr>\n",
       "      <th>167</th>\n",
       "      <td>GO:1903561</td>\n",
       "      <td>CC</td>\n",
       "      <td>e</td>\n",
       "      <td>extracellular vesicle</td>\n",
       "      <td>15/970</td>\n",
       "      <td>55/19370</td>\n",
       "      <td>3.612162e-07</td>\n",
       "      <td>5</td>\n",
       "      <td>15</td>\n",
       "      <td>0.000075</td>\n",
       "      <td>476, 1293, 1303, 2771, 2782, 5270, 5315, 6386,...</td>\n",
       "      <td>A375 Melanoma cells</td>\n",
       "      <td>A375 Melanoma cells</td>\n",
       "    </tr>\n",
       "  </tbody>\n",
       "</table>\n",
       "</div>"
      ],
      "text/plain": [
       "           # GO  NS enrichment                   name ratio_in_study  \\\n",
       "166  GO:0005770  CC          e          late endosome         25/970   \n",
       "167  GO:1903561  CC          e  extracellular vesicle         15/970   \n",
       "\n",
       "    ratio_in_pop  p_uncorrected  depth  study_count  p_fdr_bh  \\\n",
       "166    138/19370   3.565928e-07      8           25  0.000075   \n",
       "167     55/19370   3.612162e-07      5           15  0.000075   \n",
       "\n",
       "                                           study_items             category  \\\n",
       "166  1182, 3312, 3482, 3643, 3916, 3949, 4077, 5605...  A375 Melanoma cells   \n",
       "167  476, 1293, 1303, 2771, 2782, 5270, 5315, 6386,...  A375 Melanoma cells   \n",
       "\n",
       "                  tissue  \n",
       "166  A375 Melanoma cells  \n",
       "167  A375 Melanoma cells  "
      ]
     },
     "execution_count": 21,
     "metadata": {},
     "output_type": "execute_result"
    }
   ],
   "source": [
    "abelin_II_df = pd.read_csv('../data/abelin_classII/GO.II.aggregated.output.txt', sep='\\t')\n",
    "abelin_II_df = abelin_II_df[abelin_II_df['category'].isin(['A375 Melanoma cells', 'Lung (N)', 'PBMC', \n",
    "                                                           'MAPTAC_class_II','K562+DC (phagocytosis)', \n",
    "                                                           'K562+DC (macropinocytosis)','Spleen (N)'])]\n",
    "abelin_II_df['tissue'] = abelin_II_df['category']\n",
    "abelin_II_df['tissue'] = abelin_II_df['tissue'].replace({'Lung (N)': 'Abelin2019 Lung (N)',\n",
    "                                                         'Spleen (N)': 'Abelin2019 Spleen (N)'})\n",
    "abelin_II_df = abelin_II_df[abelin_II_df['NS']=='CC']\n",
    "print(abelin_II_df.shape)\n",
    "abelin_II_df.head(2)"
   ]
  },
  {
   "cell_type": "code",
   "execution_count": 23,
   "metadata": {},
   "outputs": [
    {
     "name": "stdout",
     "output_type": "stream",
     "text": [
      "(5972, 12)\n"
     ]
    },
    {
     "data": {
      "text/html": [
       "<div>\n",
       "<style scoped>\n",
       "    .dataframe tbody tr th:only-of-type {\n",
       "        vertical-align: middle;\n",
       "    }\n",
       "\n",
       "    .dataframe tbody tr th {\n",
       "        vertical-align: top;\n",
       "    }\n",
       "\n",
       "    .dataframe thead th {\n",
       "        text-align: right;\n",
       "    }\n",
       "</style>\n",
       "<table border=\"1\" class=\"dataframe\">\n",
       "  <thead>\n",
       "    <tr style=\"text-align: right;\">\n",
       "      <th></th>\n",
       "      <th># GO</th>\n",
       "      <th>NS</th>\n",
       "      <th>enrichment</th>\n",
       "      <th>name</th>\n",
       "      <th>ratio_in_study</th>\n",
       "      <th>ratio_in_pop</th>\n",
       "      <th>p_uncorrected</th>\n",
       "      <th>depth</th>\n",
       "      <th>study_count</th>\n",
       "      <th>p_fdr_bh</th>\n",
       "      <th>study_items</th>\n",
       "      <th>tissue</th>\n",
       "    </tr>\n",
       "  </thead>\n",
       "  <tbody>\n",
       "    <tr>\n",
       "      <th>0</th>\n",
       "      <td>GO:0034366</td>\n",
       "      <td>CC</td>\n",
       "      <td>e</td>\n",
       "      <td>spherical high-density lipoprotein particle</td>\n",
       "      <td>8/2307</td>\n",
       "      <td>8/19370</td>\n",
       "      <td>4.005852e-08</td>\n",
       "      <td>6</td>\n",
       "      <td>8</td>\n",
       "      <td>0.000037</td>\n",
       "      <td>335, 336, 344, 345, 1191, 3250, 5444, 55937</td>\n",
       "      <td>Adrenal gland (N)</td>\n",
       "    </tr>\n",
       "    <tr>\n",
       "      <th>1</th>\n",
       "      <td>GO:0000276</td>\n",
       "      <td>CC</td>\n",
       "      <td>e</td>\n",
       "      <td>mitochondrial proton-transporting ATP synthase...</td>\n",
       "      <td>9/2307</td>\n",
       "      <td>10/19370</td>\n",
       "      <td>4.248359e-08</td>\n",
       "      <td>5</td>\n",
       "      <td>9</td>\n",
       "      <td>0.000037</td>\n",
       "      <td>515, 516, 517, 518, 521, 522, 4509, 9551, 10632</td>\n",
       "      <td>Adrenal gland (N)</td>\n",
       "    </tr>\n",
       "  </tbody>\n",
       "</table>\n",
       "</div>"
      ],
      "text/plain": [
       "         # GO  NS enrichment  \\\n",
       "0  GO:0034366  CC          e   \n",
       "1  GO:0000276  CC          e   \n",
       "\n",
       "                                                name ratio_in_study  \\\n",
       "0        spherical high-density lipoprotein particle         8/2307   \n",
       "1  mitochondrial proton-transporting ATP synthase...         9/2307   \n",
       "\n",
       "  ratio_in_pop  p_uncorrected  depth  study_count  p_fdr_bh  \\\n",
       "0      8/19370   4.005852e-08      6            8  0.000037   \n",
       "1     10/19370   4.248359e-08      5            9  0.000037   \n",
       "\n",
       "                                       study_items             tissue  \n",
       "0      335, 336, 344, 345, 1191, 3250, 5444, 55937  Adrenal gland (N)  \n",
       "1  515, 516, 517, 518, 521, 522, 4509, 9551, 10632  Adrenal gland (N)  "
      ]
     },
     "execution_count": 23,
     "metadata": {},
     "output_type": "execute_result"
    }
   ],
   "source": [
    "atlas_II_df = pd.read_csv('../data/HLA_ligand_atlas/HLA-II.GO.output.txt', sep='\\t')\n",
    "atlas_II_df = atlas_II_df[atlas_II_df['NS']=='CC']\n",
    "atlas_II_df['tissue'] = atlas_II_df['tissue'].apply(lambda x: '{} (N)'.format(x))\n",
    "\n",
    "print(atlas_II_df.shape)\n",
    "atlas_II_df.head(2)"
   ]
  },
  {
   "cell_type": "code",
   "execution_count": 24,
   "metadata": {},
   "outputs": [
    {
     "name": "stdout",
     "output_type": "stream",
     "text": [
      "(7216, 13)\n"
     ]
    },
    {
     "data": {
      "text/html": [
       "<div>\n",
       "<style scoped>\n",
       "    .dataframe tbody tr th:only-of-type {\n",
       "        vertical-align: middle;\n",
       "    }\n",
       "\n",
       "    .dataframe tbody tr th {\n",
       "        vertical-align: top;\n",
       "    }\n",
       "\n",
       "    .dataframe thead th {\n",
       "        text-align: right;\n",
       "    }\n",
       "</style>\n",
       "<table border=\"1\" class=\"dataframe\">\n",
       "  <thead>\n",
       "    <tr style=\"text-align: right;\">\n",
       "      <th></th>\n",
       "      <th># GO</th>\n",
       "      <th>NS</th>\n",
       "      <th>enrichment</th>\n",
       "      <th>name</th>\n",
       "      <th>ratio_in_study</th>\n",
       "      <th>ratio_in_pop</th>\n",
       "      <th>p_uncorrected</th>\n",
       "      <th>depth</th>\n",
       "      <th>study_count</th>\n",
       "      <th>p_fdr_bh</th>\n",
       "      <th>study_items</th>\n",
       "      <th>tissue</th>\n",
       "      <th>category</th>\n",
       "    </tr>\n",
       "  </thead>\n",
       "  <tbody>\n",
       "    <tr>\n",
       "      <th>21</th>\n",
       "      <td>GO:0043202</td>\n",
       "      <td>CC</td>\n",
       "      <td>e</td>\n",
       "      <td>lysosomal lumen</td>\n",
       "      <td>13/221</td>\n",
       "      <td>95/19370</td>\n",
       "      <td>1.322774e-07</td>\n",
       "      <td>6</td>\n",
       "      <td>13</td>\n",
       "      <td>0.000091</td>\n",
       "      <td>338, 972, 1509, 1520, 2548, 2717, 3074, 3320, ...</td>\n",
       "      <td>HeLa+INFg cells</td>\n",
       "      <td>NaN</td>\n",
       "    </tr>\n",
       "    <tr>\n",
       "      <th>22</th>\n",
       "      <td>GO:0042470</td>\n",
       "      <td>CC</td>\n",
       "      <td>e</td>\n",
       "      <td>melanosome</td>\n",
       "      <td>18/221</td>\n",
       "      <td>100/19370</td>\n",
       "      <td>2.156326e-07</td>\n",
       "      <td>8</td>\n",
       "      <td>18</td>\n",
       "      <td>0.000091</td>\n",
       "      <td>302, 476, 967, 1509, 2040, 3320, 5868, 5869, 5...</td>\n",
       "      <td>HeLa+INFg cells</td>\n",
       "      <td>NaN</td>\n",
       "    </tr>\n",
       "  </tbody>\n",
       "</table>\n",
       "</div>"
      ],
      "text/plain": [
       "          # GO  NS enrichment             name ratio_in_study ratio_in_pop  \\\n",
       "21  GO:0043202  CC          e  lysosomal lumen         13/221     95/19370   \n",
       "22  GO:0042470  CC          e       melanosome         18/221    100/19370   \n",
       "\n",
       "    p_uncorrected  depth  study_count  p_fdr_bh  \\\n",
       "21   1.322774e-07      6           13  0.000091   \n",
       "22   2.156326e-07      8           18  0.000091   \n",
       "\n",
       "                                          study_items           tissue  \\\n",
       "21  338, 972, 1509, 1520, 2548, 2717, 3074, 3320, ...  HeLa+INFg cells   \n",
       "22  302, 476, 967, 1509, 2040, 3320, 5868, 5869, 5...  HeLa+INFg cells   \n",
       "\n",
       "   category  \n",
       "21      NaN  \n",
       "22      NaN  "
      ]
     },
     "execution_count": 24,
     "metadata": {},
     "output_type": "execute_result"
    }
   ],
   "source": [
    "total_II = saghar_df.append(abelin_II_df).append(atlas_II_df)\n",
    "print(total_II.shape)\n",
    "total_II.head(2)"
   ]
  },
  {
   "cell_type": "markdown",
   "metadata": {},
   "source": [
    "##### enriched"
   ]
  },
  {
   "cell_type": "code",
   "execution_count": 25,
   "metadata": {
    "scrolled": true
   },
   "outputs": [
    {
     "name": "stdout",
     "output_type": "stream",
     "text": [
      "(7057, 13)\n",
      "../data/generated_data/GO.class_ii.enriched.total.tsv\n"
     ]
    }
   ],
   "source": [
    "e_df = total_II[total_II['enrichment']=='e']\n",
    "print(e_df.shape)\n",
    "\n",
    "savepath = '../data/generated_data/GO.class_ii.enriched.total.tsv'\n",
    "print(savepath)\n",
    "e_df.to_csv(savepath, sep='\\t', index=False)"
   ]
  },
  {
   "cell_type": "code",
   "execution_count": 26,
   "metadata": {},
   "outputs": [
    {
     "name": "stdout",
     "output_type": "stream",
     "text": [
      "35\n"
     ]
    }
   ],
   "source": [
    "most_freq = e_df['name'].value_counts()[e_df['name'].value_counts()>=37].index\n",
    "print(len(most_freq))"
   ]
  },
  {
   "cell_type": "code",
   "execution_count": 27,
   "metadata": {
    "scrolled": true
   },
   "outputs": [
    {
     "name": "stdout",
     "output_type": "stream",
     "text": [
      "(1374, 14)\n"
     ]
    }
   ],
   "source": [
    "e_df = e_df[e_df['name'].isin(most_freq)]\n",
    "e_df['ratio_in_pop'] = e_df['ratio_in_pop'].apply(lambda x: np.divide(*map(int, x.split('/'))))\n",
    "e_df['ratio_in_study'] = e_df['ratio_in_study'].apply(lambda x: np.divide(*map(int, x.split('/'))))\n",
    "\n",
    "e_df['diff_study-pop'] = e_df['ratio_in_study'] - e_df['ratio_in_pop']\n",
    "e_df = e_df.sort_values(by=['diff_study-pop'], ascending=False)\n",
    "\n",
    "print(e_df.shape)"
   ]
  },
  {
   "cell_type": "code",
   "execution_count": 28,
   "metadata": {},
   "outputs": [
    {
     "name": "stdout",
     "output_type": "stream",
     "text": [
      "['extracellular exosome' 'extracellular space' 'extracellular region'\n",
      " 'membrane' 'collagen-containing extracellular matrix' 'plasma membrane'\n",
      " 'cytosol' 'blood microparticle' 'endoplasmic reticulum lumen'\n",
      " 'focal adhesion' 'cell surface' 'lysosomal membrane'\n",
      " 'endoplasmic reticulum' 'lysosome' 'perinuclear region of cytoplasm'\n",
      " 'external side of plasma membrane' 'melanosome' 'endosome membrane'\n",
      " 'membrane raft' 'ficolin-1-rich granule lumen']\n"
     ]
    },
    {
     "data": {
      "text/plain": [
       "(796, 14)"
      ]
     },
     "execution_count": 28,
     "metadata": {},
     "output_type": "execute_result"
    }
   ],
   "source": [
    "# take top 20 most enriched\n",
    "top_enriched = e_df.drop_duplicates(subset=['name'])['name'].values[:20]\n",
    "print(top_enriched)\n",
    "\n",
    "e_df = e_df[e_df['name'].isin(top_enriched)]\n",
    "e_df.shape"
   ]
  },
  {
   "cell_type": "code",
   "execution_count": 29,
   "metadata": {
    "scrolled": true
   },
   "outputs": [],
   "source": [
    "h = e_df.pivot(index='name', columns=['tissue'], values=['diff_study-pop']).fillna(0)\n",
    "h.index = h.index.get_level_values(0)\n",
    "h.columns = h.columns.get_level_values(1)"
   ]
  },
  {
   "cell_type": "code",
   "execution_count": 30,
   "metadata": {},
   "outputs": [
    {
     "name": "stdout",
     "output_type": "stream",
     "text": [
      "Saving to ../data/publication_figures/class_ii.enriched_in_all_tissues.top20enriched.clustermap.pdf\n"
     ]
    },
    {
     "data": {
      "image/png": "[encoded data removed]",
      "text/plain": [
       "<Figure size 720x720 with 4 Axes>"
      ]
     },
     "metadata": {
      "needs_background": "light"
     },
     "output_type": "display_data"
    }
   ],
   "source": [
    "cm = sns.clustermap(h, lw=0.1, cmap='OrRd', mask=(h==0), xticklabels=True, row_cluster=False)\n",
    "savepath = '../data/publication_figures/class_ii.enriched_in_all_tissues.top20enriched.clustermap.pdf'\n",
    "print('Saving to {}'.format(savepath))\n",
    "cm.fig.savefig(savepath, bbox_inches='tight')"
   ]
  },
  {
   "cell_type": "markdown",
   "metadata": {},
   "source": [
    "##### depleted"
   ]
  },
  {
   "cell_type": "code",
   "execution_count": 31,
   "metadata": {},
   "outputs": [
    {
     "name": "stdout",
     "output_type": "stream",
     "text": [
      "(159, 13)\n",
      "../data/generated_data/GO.class_ii.depleted.total.tsv\n"
     ]
    }
   ],
   "source": [
    "d_df = total_II[total_II['enrichment']=='p']\n",
    "print(d_df.shape)\n",
    "savepath = '../data/generated_data/GO.class_ii.depleted.total.tsv'\n",
    "print(savepath)\n",
    "d_df.to_csv(savepath, sep='\\t', index=False)"
   ]
  },
  {
   "cell_type": "code",
   "execution_count": 32,
   "metadata": {},
   "outputs": [
    {
     "name": "stdout",
     "output_type": "stream",
     "text": [
      "20\n"
     ]
    }
   ],
   "source": [
    "most_freq = d_df['name'].value_counts().index[:20]\n",
    "print(len(most_freq))"
   ]
  },
  {
   "cell_type": "code",
   "execution_count": 33,
   "metadata": {},
   "outputs": [
    {
     "name": "stdout",
     "output_type": "stream",
     "text": [
      "(157, 14)\n"
     ]
    }
   ],
   "source": [
    "d_df = d_df[d_df['name'].isin(most_freq)]\n",
    "d_df['ratio_in_pop'] = d_df['ratio_in_pop'].apply(lambda x: np.divide(*map(int, x.split('/'))))\n",
    "d_df['ratio_in_study'] = d_df['ratio_in_study'].apply(lambda x: np.divide(*map(int, x.split('/'))))\n",
    "\n",
    "d_df['diff_study-pop'] = d_df['ratio_in_study'] - d_df['ratio_in_pop']\n",
    "d_df = d_df.sort_values(by=['diff_study-pop'], ascending=False)\n",
    "print(d_df.shape)"
   ]
  },
  {
   "cell_type": "code",
   "execution_count": 34,
   "metadata": {},
   "outputs": [],
   "source": [
    "h = d_df.pivot(index='name', columns=['tissue'], values=['diff_study-pop']).fillna(0)\n",
    "h.index = h.index.get_level_values(0)\n",
    "h.columns = h.columns.get_level_values(1)"
   ]
  },
  {
   "cell_type": "code",
   "execution_count": 35,
   "metadata": {},
   "outputs": [
    {
     "name": "stdout",
     "output_type": "stream",
     "text": [
      "Saving to ../data/publication_figures/class_ii.depleted_in_all_tissues.top20depleted.clustermap.pdf\n"
     ]
    },
    {
     "data": {
      "image/png": "[encoded data removed]",
      "text/plain": [
       "<Figure size 720x720 with 4 Axes>"
      ]
     },
     "metadata": {
      "needs_background": "light"
     },
     "output_type": "display_data"
    }
   ],
   "source": [
    "cm = sns.clustermap(h, lw=0.1, cmap='PuBu_r', mask=(h==0), xticklabels=True, row_cluster=False)\n",
    "savepath = '../data/publication_figures/class_ii.depleted_in_all_tissues.top20depleted.clustermap.pdf'\n",
    "print('Saving to {}'.format(savepath))\n",
    "cm.fig.savefig(savepath, bbox_inches='tight')"
   ]
  },
  {
   "cell_type": "markdown",
   "metadata": {},
   "source": [
    "## Thymus figure\n",
    "- What locations are enriched or depleted in the thymus?"
   ]
  },
  {
   "cell_type": "code",
   "execution_count": 36,
   "metadata": {},
   "outputs": [
    {
     "name": "stdout",
     "output_type": "stream",
     "text": [
      "(223, 13)\n"
     ]
    },
    {
     "name": "stderr",
     "output_type": "stream",
     "text": [
      "/cellar/users/andreabc/miniconda3/lib/python3.6/site-packages/ipykernel_launcher.py:2: SettingWithCopyWarning: \n",
      "A value is trying to be set on a copy of a slice from a DataFrame.\n",
      "Try using .loc[row_indexer,col_indexer] = value instead\n",
      "\n",
      "See the caveats in the documentation: https://pandas.pydata.org/pandas-docs/stable/user_guide/indexing.html#returning-a-view-versus-a-copy\n",
      "  \n"
     ]
    },
    {
     "data": {
      "text/html": [
       "<div>\n",
       "<style scoped>\n",
       "    .dataframe tbody tr th:only-of-type {\n",
       "        vertical-align: middle;\n",
       "    }\n",
       "\n",
       "    .dataframe tbody tr th {\n",
       "        vertical-align: top;\n",
       "    }\n",
       "\n",
       "    .dataframe thead th {\n",
       "        text-align: right;\n",
       "    }\n",
       "</style>\n",
       "<table border=\"1\" class=\"dataframe\">\n",
       "  <thead>\n",
       "    <tr style=\"text-align: right;\">\n",
       "      <th></th>\n",
       "      <th># GO</th>\n",
       "      <th>NS</th>\n",
       "      <th>enrichment</th>\n",
       "      <th>name</th>\n",
       "      <th>ratio_in_study</th>\n",
       "      <th>ratio_in_pop</th>\n",
       "      <th>p_uncorrected</th>\n",
       "      <th>depth</th>\n",
       "      <th>study_count</th>\n",
       "      <th>p_fdr_bh</th>\n",
       "      <th>study_items</th>\n",
       "      <th>tissue</th>\n",
       "      <th>class</th>\n",
       "    </tr>\n",
       "  </thead>\n",
       "  <tbody>\n",
       "    <tr>\n",
       "      <th>208</th>\n",
       "      <td>GO:0005839</td>\n",
       "      <td>CC</td>\n",
       "      <td>e</td>\n",
       "      <td>proteasome core complex</td>\n",
       "      <td>20/9025</td>\n",
       "      <td>20/19370</td>\n",
       "      <td>2.298601e-07</td>\n",
       "      <td>2</td>\n",
       "      <td>20</td>\n",
       "      <td>0.000114</td>\n",
       "      <td>5682, 5683, 5684, 5685, 5686, 5687, 5688, 5689...</td>\n",
       "      <td>Thymus (N)</td>\n",
       "      <td>MHC-I</td>\n",
       "    </tr>\n",
       "    <tr>\n",
       "      <th>209</th>\n",
       "      <td>GO:0005844</td>\n",
       "      <td>CC</td>\n",
       "      <td>e</td>\n",
       "      <td>polysome</td>\n",
       "      <td>32/9025</td>\n",
       "      <td>35/19370</td>\n",
       "      <td>3.821333e-07</td>\n",
       "      <td>3</td>\n",
       "      <td>32</td>\n",
       "      <td>0.000114</td>\n",
       "      <td>811, 1660, 1965, 1981, 2332, 2521, 3069, 4440,...</td>\n",
       "      <td>Thymus (N)</td>\n",
       "      <td>MHC-I</td>\n",
       "    </tr>\n",
       "  </tbody>\n",
       "</table>\n",
       "</div>"
      ],
      "text/plain": [
       "           # GO  NS enrichment                     name ratio_in_study  \\\n",
       "208  GO:0005839  CC          e  proteasome core complex        20/9025   \n",
       "209  GO:0005844  CC          e                 polysome        32/9025   \n",
       "\n",
       "    ratio_in_pop  p_uncorrected  depth  study_count  p_fdr_bh  \\\n",
       "208     20/19370   2.298601e-07      2           20  0.000114   \n",
       "209     35/19370   3.821333e-07      3           32  0.000114   \n",
       "\n",
       "                                           study_items      tissue  class  \n",
       "208  5682, 5683, 5684, 5685, 5686, 5687, 5688, 5689...  Thymus (N)  MHC-I  \n",
       "209  811, 1660, 1965, 1981, 2332, 2521, 3069, 4440,...  Thymus (N)  MHC-I  "
      ]
     },
     "execution_count": 36,
     "metadata": {},
     "output_type": "execute_result"
    }
   ],
   "source": [
    "thymus_I = total[total['tissue']=='Thymus (N)']\n",
    "thymus_I['class'] = 'MHC-I'\n",
    "print(thymus_I.shape)\n",
    "thymus_I.head(2)"
   ]
  },
  {
   "cell_type": "code",
   "execution_count": 37,
   "metadata": {},
   "outputs": [
    {
     "name": "stdout",
     "output_type": "stream",
     "text": [
      "(274, 14)\n"
     ]
    },
    {
     "name": "stderr",
     "output_type": "stream",
     "text": [
      "/cellar/users/andreabc/miniconda3/lib/python3.6/site-packages/ipykernel_launcher.py:2: SettingWithCopyWarning: \n",
      "A value is trying to be set on a copy of a slice from a DataFrame.\n",
      "Try using .loc[row_indexer,col_indexer] = value instead\n",
      "\n",
      "See the caveats in the documentation: https://pandas.pydata.org/pandas-docs/stable/user_guide/indexing.html#returning-a-view-versus-a-copy\n",
      "  \n"
     ]
    },
    {
     "data": {
      "text/html": [
       "<div>\n",
       "<style scoped>\n",
       "    .dataframe tbody tr th:only-of-type {\n",
       "        vertical-align: middle;\n",
       "    }\n",
       "\n",
       "    .dataframe tbody tr th {\n",
       "        vertical-align: top;\n",
       "    }\n",
       "\n",
       "    .dataframe thead th {\n",
       "        text-align: right;\n",
       "    }\n",
       "</style>\n",
       "<table border=\"1\" class=\"dataframe\">\n",
       "  <thead>\n",
       "    <tr style=\"text-align: right;\">\n",
       "      <th></th>\n",
       "      <th># GO</th>\n",
       "      <th>NS</th>\n",
       "      <th>enrichment</th>\n",
       "      <th>name</th>\n",
       "      <th>ratio_in_study</th>\n",
       "      <th>ratio_in_pop</th>\n",
       "      <th>p_uncorrected</th>\n",
       "      <th>depth</th>\n",
       "      <th>study_count</th>\n",
       "      <th>p_fdr_bh</th>\n",
       "      <th>study_items</th>\n",
       "      <th>tissue</th>\n",
       "      <th>category</th>\n",
       "      <th>class</th>\n",
       "    </tr>\n",
       "  </thead>\n",
       "  <tbody>\n",
       "    <tr>\n",
       "      <th>4424</th>\n",
       "      <td>GO:0071682</td>\n",
       "      <td>CC</td>\n",
       "      <td>e</td>\n",
       "      <td>endocytic vesicle lumen</td>\n",
       "      <td>16/3720</td>\n",
       "      <td>18/19370</td>\n",
       "      <td>1.268965e-07</td>\n",
       "      <td>5</td>\n",
       "      <td>16</td>\n",
       "      <td>0.000047</td>\n",
       "      <td>335, 338, 348, 811, 1514, 3039, 3040, 3043, 32...</td>\n",
       "      <td>Thymus (N)</td>\n",
       "      <td>NaN</td>\n",
       "      <td>MHC-II</td>\n",
       "    </tr>\n",
       "    <tr>\n",
       "      <th>4425</th>\n",
       "      <td>GO:0034364</td>\n",
       "      <td>CC</td>\n",
       "      <td>e</td>\n",
       "      <td>high-density lipoprotein particle</td>\n",
       "      <td>16/3720</td>\n",
       "      <td>23/19370</td>\n",
       "      <td>2.043833e-07</td>\n",
       "      <td>5</td>\n",
       "      <td>16</td>\n",
       "      <td>0.000047</td>\n",
       "      <td>319, 335, 336, 337, 338, 341, 348, 350, 5360, ...</td>\n",
       "      <td>Thymus (N)</td>\n",
       "      <td>NaN</td>\n",
       "      <td>MHC-II</td>\n",
       "    </tr>\n",
       "  </tbody>\n",
       "</table>\n",
       "</div>"
      ],
      "text/plain": [
       "            # GO  NS enrichment                               name  \\\n",
       "4424  GO:0071682  CC          e            endocytic vesicle lumen   \n",
       "4425  GO:0034364  CC          e  high-density lipoprotein particle   \n",
       "\n",
       "     ratio_in_study ratio_in_pop  p_uncorrected  depth  study_count  p_fdr_bh  \\\n",
       "4424        16/3720     18/19370   1.268965e-07      5           16  0.000047   \n",
       "4425        16/3720     23/19370   2.043833e-07      5           16  0.000047   \n",
       "\n",
       "                                            study_items      tissue category  \\\n",
       "4424  335, 338, 348, 811, 1514, 3039, 3040, 3043, 32...  Thymus (N)      NaN   \n",
       "4425  319, 335, 336, 337, 338, 341, 348, 350, 5360, ...  Thymus (N)      NaN   \n",
       "\n",
       "       class  \n",
       "4424  MHC-II  \n",
       "4425  MHC-II  "
      ]
     },
     "execution_count": 37,
     "metadata": {},
     "output_type": "execute_result"
    }
   ],
   "source": [
    "thymus_II = total_II[total_II['tissue']=='Thymus (N)']\n",
    "thymus_II['class'] = 'MHC-II'\n",
    "print(thymus_II.shape)\n",
    "thymus_II.head(2)"
   ]
  },
  {
   "cell_type": "code",
   "execution_count": 38,
   "metadata": {},
   "outputs": [
    {
     "name": "stdout",
     "output_type": "stream",
     "text": [
      "(497, 14)\n"
     ]
    },
    {
     "data": {
      "text/html": [
       "<div>\n",
       "<style scoped>\n",
       "    .dataframe tbody tr th:only-of-type {\n",
       "        vertical-align: middle;\n",
       "    }\n",
       "\n",
       "    .dataframe tbody tr th {\n",
       "        vertical-align: top;\n",
       "    }\n",
       "\n",
       "    .dataframe thead th {\n",
       "        text-align: right;\n",
       "    }\n",
       "</style>\n",
       "<table border=\"1\" class=\"dataframe\">\n",
       "  <thead>\n",
       "    <tr style=\"text-align: right;\">\n",
       "      <th></th>\n",
       "      <th># GO</th>\n",
       "      <th>NS</th>\n",
       "      <th>enrichment</th>\n",
       "      <th>name</th>\n",
       "      <th>ratio_in_study</th>\n",
       "      <th>ratio_in_pop</th>\n",
       "      <th>p_uncorrected</th>\n",
       "      <th>depth</th>\n",
       "      <th>study_count</th>\n",
       "      <th>p_fdr_bh</th>\n",
       "      <th>study_items</th>\n",
       "      <th>tissue</th>\n",
       "      <th>class</th>\n",
       "      <th>category</th>\n",
       "    </tr>\n",
       "  </thead>\n",
       "  <tbody>\n",
       "    <tr>\n",
       "      <th>208</th>\n",
       "      <td>GO:0005839</td>\n",
       "      <td>CC</td>\n",
       "      <td>e</td>\n",
       "      <td>proteasome core complex</td>\n",
       "      <td>20/9025</td>\n",
       "      <td>20/19370</td>\n",
       "      <td>2.298601e-07</td>\n",
       "      <td>2</td>\n",
       "      <td>20</td>\n",
       "      <td>0.000114</td>\n",
       "      <td>5682, 5683, 5684, 5685, 5686, 5687, 5688, 5689...</td>\n",
       "      <td>Thymus (N)</td>\n",
       "      <td>MHC-I</td>\n",
       "      <td>NaN</td>\n",
       "    </tr>\n",
       "    <tr>\n",
       "      <th>209</th>\n",
       "      <td>GO:0005844</td>\n",
       "      <td>CC</td>\n",
       "      <td>e</td>\n",
       "      <td>polysome</td>\n",
       "      <td>32/9025</td>\n",
       "      <td>35/19370</td>\n",
       "      <td>3.821333e-07</td>\n",
       "      <td>3</td>\n",
       "      <td>32</td>\n",
       "      <td>0.000114</td>\n",
       "      <td>811, 1660, 1965, 1981, 2332, 2521, 3069, 4440,...</td>\n",
       "      <td>Thymus (N)</td>\n",
       "      <td>MHC-I</td>\n",
       "      <td>NaN</td>\n",
       "    </tr>\n",
       "  </tbody>\n",
       "</table>\n",
       "</div>"
      ],
      "text/plain": [
       "           # GO  NS enrichment                     name ratio_in_study  \\\n",
       "208  GO:0005839  CC          e  proteasome core complex        20/9025   \n",
       "209  GO:0005844  CC          e                 polysome        32/9025   \n",
       "\n",
       "    ratio_in_pop  p_uncorrected  depth  study_count  p_fdr_bh  \\\n",
       "208     20/19370   2.298601e-07      2           20  0.000114   \n",
       "209     35/19370   3.821333e-07      3           32  0.000114   \n",
       "\n",
       "                                           study_items      tissue  class  \\\n",
       "208  5682, 5683, 5684, 5685, 5686, 5687, 5688, 5689...  Thymus (N)  MHC-I   \n",
       "209  811, 1660, 1965, 1981, 2332, 2521, 3069, 4440,...  Thymus (N)  MHC-I   \n",
       "\n",
       "    category  \n",
       "208      NaN  \n",
       "209      NaN  "
      ]
     },
     "execution_count": 38,
     "metadata": {},
     "output_type": "execute_result"
    }
   ],
   "source": [
    "thymus_df = thymus_I.append(thymus_II)\n",
    "print(thymus_df.shape)\n",
    "thymus_df.head(2)"
   ]
  },
  {
   "cell_type": "code",
   "execution_count": 39,
   "metadata": {},
   "outputs": [],
   "source": [
    "thymus_df['ratio_in_pop'] = thymus_df['ratio_in_pop'].apply(lambda x: np.divide(*map(int, x.split('/'))))\n",
    "thymus_df['ratio_in_study'] = thymus_df['ratio_in_study'].apply(lambda x: np.divide(*map(int, x.split('/'))))\n",
    "\n",
    "thymus_df['diff_study-pop'] = thymus_df['ratio_in_study'] - thymus_df['ratio_in_pop']\n",
    "thymus_df['abs_diff'] = thymus_df['diff_study-pop'].apply(abs)\n",
    "\n",
    "thymus_df = thymus_df.sort_values(by=['abs_diff'], ascending=False)"
   ]
  },
  {
   "cell_type": "code",
   "execution_count": 40,
   "metadata": {},
   "outputs": [
    {
     "data": {
      "text/html": [
       "<div>\n",
       "<style scoped>\n",
       "    .dataframe tbody tr th:only-of-type {\n",
       "        vertical-align: middle;\n",
       "    }\n",
       "\n",
       "    .dataframe tbody tr th {\n",
       "        vertical-align: top;\n",
       "    }\n",
       "\n",
       "    .dataframe thead th {\n",
       "        text-align: right;\n",
       "    }\n",
       "</style>\n",
       "<table border=\"1\" class=\"dataframe\">\n",
       "  <thead>\n",
       "    <tr style=\"text-align: right;\">\n",
       "      <th></th>\n",
       "      <th># GO</th>\n",
       "      <th>NS</th>\n",
       "      <th>enrichment</th>\n",
       "      <th>name</th>\n",
       "      <th>ratio_in_study</th>\n",
       "      <th>ratio_in_pop</th>\n",
       "      <th>p_uncorrected</th>\n",
       "      <th>depth</th>\n",
       "      <th>study_count</th>\n",
       "      <th>p_fdr_bh</th>\n",
       "      <th>study_items</th>\n",
       "      <th>tissue</th>\n",
       "      <th>class</th>\n",
       "      <th>category</th>\n",
       "      <th>diff_study-pop</th>\n",
       "      <th>abs_diff</th>\n",
       "    </tr>\n",
       "  </thead>\n",
       "  <tbody>\n",
       "    <tr>\n",
       "      <th>416</th>\n",
       "      <td>GO:0016021</td>\n",
       "      <td>CC</td>\n",
       "      <td>p</td>\n",
       "      <td>integral component of membrane</td>\n",
       "      <td>0.120222</td>\n",
       "      <td>0.180692</td>\n",
       "      <td>0.000012</td>\n",
       "      <td>3</td>\n",
       "      <td>1085</td>\n",
       "      <td>0.000244</td>\n",
       "      <td>20, 21, 53, 102, 109, 111, 113, 225, 241, 267,...</td>\n",
       "      <td>Thymus (N)</td>\n",
       "      <td>MHC-I</td>\n",
       "      <td>NaN</td>\n",
       "      <td>-0.060470</td>\n",
       "      <td>0.060470</td>\n",
       "    </tr>\n",
       "    <tr>\n",
       "      <th>415</th>\n",
       "      <td>GO:0005576</td>\n",
       "      <td>CC</td>\n",
       "      <td>p</td>\n",
       "      <td>extracellular region</td>\n",
       "      <td>0.061274</td>\n",
       "      <td>0.094992</td>\n",
       "      <td>0.000010</td>\n",
       "      <td>2</td>\n",
       "      <td>553</td>\n",
       "      <td>0.000209</td>\n",
       "      <td>2, 26, 43, 47, 81, 87, 88, 123, 165, 176, 178,...</td>\n",
       "      <td>Thymus (N)</td>\n",
       "      <td>MHC-I</td>\n",
       "      <td>NaN</td>\n",
       "      <td>-0.033718</td>\n",
       "      <td>0.033718</td>\n",
       "    </tr>\n",
       "    <tr>\n",
       "      <th>417</th>\n",
       "      <td>GO:0005886</td>\n",
       "      <td>CC</td>\n",
       "      <td>p</td>\n",
       "      <td>plasma membrane</td>\n",
       "      <td>0.198116</td>\n",
       "      <td>0.230718</td>\n",
       "      <td>0.000013</td>\n",
       "      <td>3</td>\n",
       "      <td>1788</td>\n",
       "      <td>0.000256</td>\n",
       "      <td>14, 19, 20, 21, 26, 43, 47, 60, 71, 86, 87, 88...</td>\n",
       "      <td>Thymus (N)</td>\n",
       "      <td>MHC-I</td>\n",
       "      <td>NaN</td>\n",
       "      <td>-0.032601</td>\n",
       "      <td>0.032601</td>\n",
       "    </tr>\n",
       "    <tr>\n",
       "      <th>4691</th>\n",
       "      <td>GO:0000785</td>\n",
       "      <td>CC</td>\n",
       "      <td>p</td>\n",
       "      <td>chromatin</td>\n",
       "      <td>0.018817</td>\n",
       "      <td>0.050490</td>\n",
       "      <td>0.000004</td>\n",
       "      <td>2</td>\n",
       "      <td>70</td>\n",
       "      <td>0.000078</td>\n",
       "      <td>60, 824, 1051, 1108, 1387, 1879, 3005, 3007, 3...</td>\n",
       "      <td>Thymus (N)</td>\n",
       "      <td>MHC-II</td>\n",
       "      <td>NaN</td>\n",
       "      <td>-0.031673</td>\n",
       "      <td>0.031673</td>\n",
       "    </tr>\n",
       "    <tr>\n",
       "      <th>413</th>\n",
       "      <td>GO:0005615</td>\n",
       "      <td>CC</td>\n",
       "      <td>p</td>\n",
       "      <td>extracellular space</td>\n",
       "      <td>0.050637</td>\n",
       "      <td>0.077026</td>\n",
       "      <td>0.000008</td>\n",
       "      <td>2</td>\n",
       "      <td>457</td>\n",
       "      <td>0.000189</td>\n",
       "      <td>2, 21, 26, 43, 58, 59, 60, 70, 71, 72, 81, 87,...</td>\n",
       "      <td>Thymus (N)</td>\n",
       "      <td>MHC-I</td>\n",
       "      <td>NaN</td>\n",
       "      <td>-0.026389</td>\n",
       "      <td>0.026389</td>\n",
       "    </tr>\n",
       "    <tr>\n",
       "      <th>414</th>\n",
       "      <td>GO:0005887</td>\n",
       "      <td>CC</td>\n",
       "      <td>p</td>\n",
       "      <td>integral component of plasma membrane</td>\n",
       "      <td>0.047756</td>\n",
       "      <td>0.072277</td>\n",
       "      <td>0.000008</td>\n",
       "      <td>4</td>\n",
       "      <td>431</td>\n",
       "      <td>0.000191</td>\n",
       "      <td>19, 24, 90, 94, 101, 107, 108, 109, 111, 112, ...</td>\n",
       "      <td>Thymus (N)</td>\n",
       "      <td>MHC-I</td>\n",
       "      <td>NaN</td>\n",
       "      <td>-0.024520</td>\n",
       "      <td>0.024520</td>\n",
       "    </tr>\n",
       "    <tr>\n",
       "      <th>411</th>\n",
       "      <td>GO:0031012</td>\n",
       "      <td>CC</td>\n",
       "      <td>p</td>\n",
       "      <td>extracellular matrix</td>\n",
       "      <td>0.005762</td>\n",
       "      <td>0.012648</td>\n",
       "      <td>0.000003</td>\n",
       "      <td>3</td>\n",
       "      <td>52</td>\n",
       "      <td>0.000114</td>\n",
       "      <td>176, 348, 633, 1116, 1278, 1284, 1287, 1293, 1...</td>\n",
       "      <td>Thymus (N)</td>\n",
       "      <td>MHC-I</td>\n",
       "      <td>NaN</td>\n",
       "      <td>-0.006887</td>\n",
       "      <td>0.006887</td>\n",
       "    </tr>\n",
       "    <tr>\n",
       "      <th>4692</th>\n",
       "      <td>GO:0005667</td>\n",
       "      <td>CC</td>\n",
       "      <td>p</td>\n",
       "      <td>transcription regulator complex</td>\n",
       "      <td>0.004570</td>\n",
       "      <td>0.010170</td>\n",
       "      <td>0.000054</td>\n",
       "      <td>2</td>\n",
       "      <td>17</td>\n",
       "      <td>0.000758</td>\n",
       "      <td>142, 328, 1387, 1499, 1602, 2547, 5591, 8804, ...</td>\n",
       "      <td>Thymus (N)</td>\n",
       "      <td>MHC-II</td>\n",
       "      <td>NaN</td>\n",
       "      <td>-0.005600</td>\n",
       "      <td>0.005600</td>\n",
       "    </tr>\n",
       "    <tr>\n",
       "      <th>4693</th>\n",
       "      <td>GO:0005694</td>\n",
       "      <td>CC</td>\n",
       "      <td>p</td>\n",
       "      <td>chromosome</td>\n",
       "      <td>0.005376</td>\n",
       "      <td>0.010222</td>\n",
       "      <td>0.000727</td>\n",
       "      <td>5</td>\n",
       "      <td>20</td>\n",
       "      <td>0.007157</td>\n",
       "      <td>2091, 2271, 2332, 4691, 5058, 8243, 8815, 8888...</td>\n",
       "      <td>Thymus (N)</td>\n",
       "      <td>MHC-II</td>\n",
       "      <td>NaN</td>\n",
       "      <td>-0.004846</td>\n",
       "      <td>0.004846</td>\n",
       "    </tr>\n",
       "    <tr>\n",
       "      <th>4695</th>\n",
       "      <td>GO:0005929</td>\n",
       "      <td>CC</td>\n",
       "      <td>p</td>\n",
       "      <td>cilium</td>\n",
       "      <td>0.006452</td>\n",
       "      <td>0.010842</td>\n",
       "      <td>0.003484</td>\n",
       "      <td>4</td>\n",
       "      <td>24</td>\n",
       "      <td>0.026555</td>\n",
       "      <td>156, 867, 1452, 2847, 3842, 4853, 5082, 5156, ...</td>\n",
       "      <td>Thymus (N)</td>\n",
       "      <td>MHC-II</td>\n",
       "      <td>NaN</td>\n",
       "      <td>-0.004390</td>\n",
       "      <td>0.004390</td>\n",
       "    </tr>\n",
       "    <tr>\n",
       "      <th>418</th>\n",
       "      <td>GO:0062023</td>\n",
       "      <td>CC</td>\n",
       "      <td>p</td>\n",
       "      <td>collagen-containing extracellular matrix</td>\n",
       "      <td>0.015180</td>\n",
       "      <td>0.019308</td>\n",
       "      <td>0.000103</td>\n",
       "      <td>4</td>\n",
       "      <td>137</td>\n",
       "      <td>0.001576</td>\n",
       "      <td>2, 165, 176, 301, 302, 307, 308, 309, 310, 311...</td>\n",
       "      <td>Thymus (N)</td>\n",
       "      <td>MHC-I</td>\n",
       "      <td>NaN</td>\n",
       "      <td>-0.004128</td>\n",
       "      <td>0.004128</td>\n",
       "    </tr>\n",
       "    <tr>\n",
       "      <th>410</th>\n",
       "      <td>GO:0031225</td>\n",
       "      <td>CC</td>\n",
       "      <td>p</td>\n",
       "      <td>anchored component of membrane</td>\n",
       "      <td>0.001108</td>\n",
       "      <td>0.005059</td>\n",
       "      <td>0.000002</td>\n",
       "      <td>3</td>\n",
       "      <td>10</td>\n",
       "      <td>0.000114</td>\n",
       "      <td>43, 684, 1043, 2675, 5067, 7369, 8434, 8482, 8...</td>\n",
       "      <td>Thymus (N)</td>\n",
       "      <td>MHC-I</td>\n",
       "      <td>NaN</td>\n",
       "      <td>-0.003951</td>\n",
       "      <td>0.003951</td>\n",
       "    </tr>\n",
       "    <tr>\n",
       "      <th>4697</th>\n",
       "      <td>GO:0036064</td>\n",
       "      <td>CC</td>\n",
       "      <td>p</td>\n",
       "      <td>ciliary basal body</td>\n",
       "      <td>0.004570</td>\n",
       "      <td>0.008157</td>\n",
       "      <td>0.005898</td>\n",
       "      <td>3</td>\n",
       "      <td>17</td>\n",
       "      <td>0.039612</td>\n",
       "      <td>1452, 1453, 1540, 5108, 5692, 6102, 7283, 7430...</td>\n",
       "      <td>Thymus (N)</td>\n",
       "      <td>MHC-II</td>\n",
       "      <td>NaN</td>\n",
       "      <td>-0.003587</td>\n",
       "      <td>0.003587</td>\n",
       "    </tr>\n",
       "    <tr>\n",
       "      <th>4694</th>\n",
       "      <td>GO:0005762</td>\n",
       "      <td>CC</td>\n",
       "      <td>p</td>\n",
       "      <td>mitochondrial large ribosomal subunit</td>\n",
       "      <td>0.000538</td>\n",
       "      <td>0.002788</td>\n",
       "      <td>0.001546</td>\n",
       "      <td>6</td>\n",
       "      <td>2</td>\n",
       "      <td>0.012963</td>\n",
       "      <td>11222, 122704</td>\n",
       "      <td>Thymus (N)</td>\n",
       "      <td>MHC-II</td>\n",
       "      <td>NaN</td>\n",
       "      <td>-0.002250</td>\n",
       "      <td>0.002250</td>\n",
       "    </tr>\n",
       "    <tr>\n",
       "      <th>422</th>\n",
       "      <td>GO:0045095</td>\n",
       "      <td>CC</td>\n",
       "      <td>p</td>\n",
       "      <td>keratin filament</td>\n",
       "      <td>0.002992</td>\n",
       "      <td>0.004904</td>\n",
       "      <td>0.000400</td>\n",
       "      <td>7</td>\n",
       "      <td>27</td>\n",
       "      <td>0.004871</td>\n",
       "      <td>1452, 3848, 3849, 3850, 3851, 3852, 3853, 3854...</td>\n",
       "      <td>Thymus (N)</td>\n",
       "      <td>MHC-I</td>\n",
       "      <td>NaN</td>\n",
       "      <td>-0.001913</td>\n",
       "      <td>0.001913</td>\n",
       "    </tr>\n",
       "    <tr>\n",
       "      <th>421</th>\n",
       "      <td>GO:0008076</td>\n",
       "      <td>CC</td>\n",
       "      <td>p</td>\n",
       "      <td>voltage-gated potassium channel complex</td>\n",
       "      <td>0.002216</td>\n",
       "      <td>0.003975</td>\n",
       "      <td>0.000324</td>\n",
       "      <td>7</td>\n",
       "      <td>20</td>\n",
       "      <td>0.004000</td>\n",
       "      <td>801, 805, 808, 1804, 3736, 3737, 3738, 3755, 3...</td>\n",
       "      <td>Thymus (N)</td>\n",
       "      <td>MHC-I</td>\n",
       "      <td>NaN</td>\n",
       "      <td>-0.001759</td>\n",
       "      <td>0.001759</td>\n",
       "    </tr>\n",
       "    <tr>\n",
       "      <th>412</th>\n",
       "      <td>GO:0099061</td>\n",
       "      <td>CC</td>\n",
       "      <td>p</td>\n",
       "      <td>integral component of postsynaptic density mem...</td>\n",
       "      <td>0.000776</td>\n",
       "      <td>0.002478</td>\n",
       "      <td>0.000007</td>\n",
       "      <td>8</td>\n",
       "      <td>7</td>\n",
       "      <td>0.000165</td>\n",
       "      <td>107, 1630, 5802, 9123, 9746, 22883, 27020</td>\n",
       "      <td>Thymus (N)</td>\n",
       "      <td>MHC-I</td>\n",
       "      <td>NaN</td>\n",
       "      <td>-0.001702</td>\n",
       "      <td>0.001702</td>\n",
       "    </tr>\n",
       "    <tr>\n",
       "      <th>424</th>\n",
       "      <td>GO:0005796</td>\n",
       "      <td>CC</td>\n",
       "      <td>p</td>\n",
       "      <td>Golgi lumen</td>\n",
       "      <td>0.003657</td>\n",
       "      <td>0.005318</td>\n",
       "      <td>0.002898</td>\n",
       "      <td>5</td>\n",
       "      <td>33</td>\n",
       "      <td>0.026882</td>\n",
       "      <td>176, 351, 633, 1462, 1667, 1668, 1670, 2157, 2...</td>\n",
       "      <td>Thymus (N)</td>\n",
       "      <td>MHC-I</td>\n",
       "      <td>NaN</td>\n",
       "      <td>-0.001661</td>\n",
       "      <td>0.001661</td>\n",
       "    </tr>\n",
       "    <tr>\n",
       "      <th>420</th>\n",
       "      <td>GO:0005581</td>\n",
       "      <td>CC</td>\n",
       "      <td>p</td>\n",
       "      <td>collagen trimer</td>\n",
       "      <td>0.001551</td>\n",
       "      <td>0.003098</td>\n",
       "      <td>0.000241</td>\n",
       "      <td>2</td>\n",
       "      <td>14</td>\n",
       "      <td>0.003275</td>\n",
       "      <td>714, 1292, 1296, 1308, 7373, 9370, 11117, 5143...</td>\n",
       "      <td>Thymus (N)</td>\n",
       "      <td>MHC-I</td>\n",
       "      <td>NaN</td>\n",
       "      <td>-0.001546</td>\n",
       "      <td>0.001546</td>\n",
       "    </tr>\n",
       "    <tr>\n",
       "      <th>4696</th>\n",
       "      <td>GO:0032281</td>\n",
       "      <td>CC</td>\n",
       "      <td>p</td>\n",
       "      <td>AMPA glutamate receptor complex</td>\n",
       "      <td>0.000000</td>\n",
       "      <td>0.001342</td>\n",
       "      <td>0.005508</td>\n",
       "      <td>7</td>\n",
       "      <td>0</td>\n",
       "      <td>0.039070</td>\n",
       "      <td>NaN</td>\n",
       "      <td>Thymus (N)</td>\n",
       "      <td>MHC-II</td>\n",
       "      <td>NaN</td>\n",
       "      <td>-0.001342</td>\n",
       "      <td>0.001342</td>\n",
       "    </tr>\n",
       "    <tr>\n",
       "      <th>419</th>\n",
       "      <td>GO:0097381</td>\n",
       "      <td>CC</td>\n",
       "      <td>p</td>\n",
       "      <td>photoreceptor disc membrane</td>\n",
       "      <td>0.000222</td>\n",
       "      <td>0.001187</td>\n",
       "      <td>0.000186</td>\n",
       "      <td>4</td>\n",
       "      <td>2</td>\n",
       "      <td>0.002668</td>\n",
       "      <td>24, 2782</td>\n",
       "      <td>Thymus (N)</td>\n",
       "      <td>MHC-I</td>\n",
       "      <td>NaN</td>\n",
       "      <td>-0.000966</td>\n",
       "      <td>0.000966</td>\n",
       "    </tr>\n",
       "    <tr>\n",
       "      <th>425</th>\n",
       "      <td>GO:0005891</td>\n",
       "      <td>CC</td>\n",
       "      <td>p</td>\n",
       "      <td>voltage-gated calcium channel complex</td>\n",
       "      <td>0.000554</td>\n",
       "      <td>0.001394</td>\n",
       "      <td>0.003290</td>\n",
       "      <td>7</td>\n",
       "      <td>5</td>\n",
       "      <td>0.030036</td>\n",
       "      <td>781, 5142, 5144, 9254, 55799</td>\n",
       "      <td>Thymus (N)</td>\n",
       "      <td>MHC-I</td>\n",
       "      <td>NaN</td>\n",
       "      <td>-0.000840</td>\n",
       "      <td>0.000840</td>\n",
       "    </tr>\n",
       "    <tr>\n",
       "      <th>429</th>\n",
       "      <td>GO:0032281</td>\n",
       "      <td>CC</td>\n",
       "      <td>p</td>\n",
       "      <td>AMPA glutamate receptor complex</td>\n",
       "      <td>0.000554</td>\n",
       "      <td>0.001342</td>\n",
       "      <td>0.005226</td>\n",
       "      <td>7</td>\n",
       "      <td>5</td>\n",
       "      <td>0.041643</td>\n",
       "      <td>1741, 26090, 57406, 93145, 126129</td>\n",
       "      <td>Thymus (N)</td>\n",
       "      <td>MHC-I</td>\n",
       "      <td>NaN</td>\n",
       "      <td>-0.000788</td>\n",
       "      <td>0.000788</td>\n",
       "    </tr>\n",
       "    <tr>\n",
       "      <th>426</th>\n",
       "      <td>GO:0005922</td>\n",
       "      <td>CC</td>\n",
       "      <td>p</td>\n",
       "      <td>connexin complex</td>\n",
       "      <td>0.000332</td>\n",
       "      <td>0.001084</td>\n",
       "      <td>0.003375</td>\n",
       "      <td>4</td>\n",
       "      <td>3</td>\n",
       "      <td>0.030652</td>\n",
       "      <td>2697, 2701, 2706</td>\n",
       "      <td>Thymus (N)</td>\n",
       "      <td>MHC-I</td>\n",
       "      <td>NaN</td>\n",
       "      <td>-0.000752</td>\n",
       "      <td>0.000752</td>\n",
       "    </tr>\n",
       "    <tr>\n",
       "      <th>430</th>\n",
       "      <td>GO:0001518</td>\n",
       "      <td>CC</td>\n",
       "      <td>p</td>\n",
       "      <td>voltage-gated sodium channel complex</td>\n",
       "      <td>0.000222</td>\n",
       "      <td>0.000878</td>\n",
       "      <td>0.005584</td>\n",
       "      <td>7</td>\n",
       "      <td>2</td>\n",
       "      <td>0.043898</td>\n",
       "      <td>6327, 6334</td>\n",
       "      <td>Thymus (N)</td>\n",
       "      <td>MHC-I</td>\n",
       "      <td>NaN</td>\n",
       "      <td>-0.000656</td>\n",
       "      <td>0.000656</td>\n",
       "    </tr>\n",
       "    <tr>\n",
       "      <th>423</th>\n",
       "      <td>GO:0031045</td>\n",
       "      <td>CC</td>\n",
       "      <td>p</td>\n",
       "      <td>dense core granule</td>\n",
       "      <td>0.000111</td>\n",
       "      <td>0.000723</td>\n",
       "      <td>0.002410</td>\n",
       "      <td>9</td>\n",
       "      <td>1</td>\n",
       "      <td>0.022956</td>\n",
       "      <td>6647</td>\n",
       "      <td>Thymus (N)</td>\n",
       "      <td>MHC-I</td>\n",
       "      <td>NaN</td>\n",
       "      <td>-0.000612</td>\n",
       "      <td>0.000612</td>\n",
       "    </tr>\n",
       "    <tr>\n",
       "      <th>427</th>\n",
       "      <td>GO:0044214</td>\n",
       "      <td>CC</td>\n",
       "      <td>p</td>\n",
       "      <td>spanning component of plasma membrane</td>\n",
       "      <td>0.000111</td>\n",
       "      <td>0.000671</td>\n",
       "      <td>0.004314</td>\n",
       "      <td>5</td>\n",
       "      <td>1</td>\n",
       "      <td>0.037621</td>\n",
       "      <td>659</td>\n",
       "      <td>Thymus (N)</td>\n",
       "      <td>MHC-I</td>\n",
       "      <td>NaN</td>\n",
       "      <td>-0.000560</td>\n",
       "      <td>0.000560</td>\n",
       "    </tr>\n",
       "    <tr>\n",
       "      <th>428</th>\n",
       "      <td>GO:0014701</td>\n",
       "      <td>CC</td>\n",
       "      <td>p</td>\n",
       "      <td>junctional sarcoplasmic reticulum membrane</td>\n",
       "      <td>0.000000</td>\n",
       "      <td>0.000465</td>\n",
       "      <td>0.004562</td>\n",
       "      <td>6</td>\n",
       "      <td>0</td>\n",
       "      <td>0.038638</td>\n",
       "      <td>NaN</td>\n",
       "      <td>Thymus (N)</td>\n",
       "      <td>MHC-I</td>\n",
       "      <td>NaN</td>\n",
       "      <td>-0.000465</td>\n",
       "      <td>0.000465</td>\n",
       "    </tr>\n",
       "  </tbody>\n",
       "</table>\n",
       "</div>"
      ],
      "text/plain": [
       "            # GO  NS enrichment  \\\n",
       "416   GO:0016021  CC          p   \n",
       "415   GO:0005576  CC          p   \n",
       "417   GO:0005886  CC          p   \n",
       "4691  GO:0000785  CC          p   \n",
       "413   GO:0005615  CC          p   \n",
       "414   GO:0005887  CC          p   \n",
       "411   GO:0031012  CC          p   \n",
       "4692  GO:0005667  CC          p   \n",
       "4693  GO:0005694  CC          p   \n",
       "4695  GO:0005929  CC          p   \n",
       "418   GO:0062023  CC          p   \n",
       "410   GO:0031225  CC          p   \n",
       "4697  GO:0036064  CC          p   \n",
       "4694  GO:0005762  CC          p   \n",
       "422   GO:0045095  CC          p   \n",
       "421   GO:0008076  CC          p   \n",
       "412   GO:0099061  CC          p   \n",
       "424   GO:0005796  CC          p   \n",
       "420   GO:0005581  CC          p   \n",
       "4696  GO:0032281  CC          p   \n",
       "419   GO:0097381  CC          p   \n",
       "425   GO:0005891  CC          p   \n",
       "429   GO:0032281  CC          p   \n",
       "426   GO:0005922  CC          p   \n",
       "430   GO:0001518  CC          p   \n",
       "423   GO:0031045  CC          p   \n",
       "427   GO:0044214  CC          p   \n",
       "428   GO:0014701  CC          p   \n",
       "\n",
       "                                                   name  ratio_in_study  \\\n",
       "416                      integral component of membrane        0.120222   \n",
       "415                                extracellular region        0.061274   \n",
       "417                                     plasma membrane        0.198116   \n",
       "4691                                          chromatin        0.018817   \n",
       "413                                 extracellular space        0.050637   \n",
       "414               integral component of plasma membrane        0.047756   \n",
       "411                                extracellular matrix        0.005762   \n",
       "4692                    transcription regulator complex        0.004570   \n",
       "4693                                         chromosome        0.005376   \n",
       "4695                                             cilium        0.006452   \n",
       "418            collagen-containing extracellular matrix        0.015180   \n",
       "410                      anchored component of membrane        0.001108   \n",
       "4697                                 ciliary basal body        0.004570   \n",
       "4694              mitochondrial large ribosomal subunit        0.000538   \n",
       "422                                    keratin filament        0.002992   \n",
       "421             voltage-gated potassium channel complex        0.002216   \n",
       "412   integral component of postsynaptic density mem...        0.000776   \n",
       "424                                         Golgi lumen        0.003657   \n",
       "420                                     collagen trimer        0.001551   \n",
       "4696                    AMPA glutamate receptor complex        0.000000   \n",
       "419                         photoreceptor disc membrane        0.000222   \n",
       "425               voltage-gated calcium channel complex        0.000554   \n",
       "429                     AMPA glutamate receptor complex        0.000554   \n",
       "426                                    connexin complex        0.000332   \n",
       "430                voltage-gated sodium channel complex        0.000222   \n",
       "423                                  dense core granule        0.000111   \n",
       "427               spanning component of plasma membrane        0.000111   \n",
       "428          junctional sarcoplasmic reticulum membrane        0.000000   \n",
       "\n",
       "      ratio_in_pop  p_uncorrected  depth  study_count  p_fdr_bh  \\\n",
       "416       0.180692       0.000012      3         1085  0.000244   \n",
       "415       0.094992       0.000010      2          553  0.000209   \n",
       "417       0.230718       0.000013      3         1788  0.000256   \n",
       "4691      0.050490       0.000004      2           70  0.000078   \n",
       "413       0.077026       0.000008      2          457  0.000189   \n",
       "414       0.072277       0.000008      4          431  0.000191   \n",
       "411       0.012648       0.000003      3           52  0.000114   \n",
       "4692      0.010170       0.000054      2           17  0.000758   \n",
       "4693      0.010222       0.000727      5           20  0.007157   \n",
       "4695      0.010842       0.003484      4           24  0.026555   \n",
       "418       0.019308       0.000103      4          137  0.001576   \n",
       "410       0.005059       0.000002      3           10  0.000114   \n",
       "4697      0.008157       0.005898      3           17  0.039612   \n",
       "4694      0.002788       0.001546      6            2  0.012963   \n",
       "422       0.004904       0.000400      7           27  0.004871   \n",
       "421       0.003975       0.000324      7           20  0.004000   \n",
       "412       0.002478       0.000007      8            7  0.000165   \n",
       "424       0.005318       0.002898      5           33  0.026882   \n",
       "420       0.003098       0.000241      2           14  0.003275   \n",
       "4696      0.001342       0.005508      7            0  0.039070   \n",
       "419       0.001187       0.000186      4            2  0.002668   \n",
       "425       0.001394       0.003290      7            5  0.030036   \n",
       "429       0.001342       0.005226      7            5  0.041643   \n",
       "426       0.001084       0.003375      4            3  0.030652   \n",
       "430       0.000878       0.005584      7            2  0.043898   \n",
       "423       0.000723       0.002410      9            1  0.022956   \n",
       "427       0.000671       0.004314      5            1  0.037621   \n",
       "428       0.000465       0.004562      6            0  0.038638   \n",
       "\n",
       "                                            study_items      tissue   class  \\\n",
       "416   20, 21, 53, 102, 109, 111, 113, 225, 241, 267,...  Thymus (N)   MHC-I   \n",
       "415   2, 26, 43, 47, 81, 87, 88, 123, 165, 176, 178,...  Thymus (N)   MHC-I   \n",
       "417   14, 19, 20, 21, 26, 43, 47, 60, 71, 86, 87, 88...  Thymus (N)   MHC-I   \n",
       "4691  60, 824, 1051, 1108, 1387, 1879, 3005, 3007, 3...  Thymus (N)  MHC-II   \n",
       "413   2, 21, 26, 43, 58, 59, 60, 70, 71, 72, 81, 87,...  Thymus (N)   MHC-I   \n",
       "414   19, 24, 90, 94, 101, 107, 108, 109, 111, 112, ...  Thymus (N)   MHC-I   \n",
       "411   176, 348, 633, 1116, 1278, 1284, 1287, 1293, 1...  Thymus (N)   MHC-I   \n",
       "4692  142, 328, 1387, 1499, 1602, 2547, 5591, 8804, ...  Thymus (N)  MHC-II   \n",
       "4693  2091, 2271, 2332, 4691, 5058, 8243, 8815, 8888...  Thymus (N)  MHC-II   \n",
       "4695  156, 867, 1452, 2847, 3842, 4853, 5082, 5156, ...  Thymus (N)  MHC-II   \n",
       "418   2, 165, 176, 301, 302, 307, 308, 309, 310, 311...  Thymus (N)   MHC-I   \n",
       "410   43, 684, 1043, 2675, 5067, 7369, 8434, 8482, 8...  Thymus (N)   MHC-I   \n",
       "4697  1452, 1453, 1540, 5108, 5692, 6102, 7283, 7430...  Thymus (N)  MHC-II   \n",
       "4694                                      11222, 122704  Thymus (N)  MHC-II   \n",
       "422   1452, 3848, 3849, 3850, 3851, 3852, 3853, 3854...  Thymus (N)   MHC-I   \n",
       "421   801, 805, 808, 1804, 3736, 3737, 3738, 3755, 3...  Thymus (N)   MHC-I   \n",
       "412           107, 1630, 5802, 9123, 9746, 22883, 27020  Thymus (N)   MHC-I   \n",
       "424   176, 351, 633, 1462, 1667, 1668, 1670, 2157, 2...  Thymus (N)   MHC-I   \n",
       "420   714, 1292, 1296, 1308, 7373, 9370, 11117, 5143...  Thymus (N)   MHC-I   \n",
       "4696                                                NaN  Thymus (N)  MHC-II   \n",
       "419                                            24, 2782  Thymus (N)   MHC-I   \n",
       "425                        781, 5142, 5144, 9254, 55799  Thymus (N)   MHC-I   \n",
       "429                   1741, 26090, 57406, 93145, 126129  Thymus (N)   MHC-I   \n",
       "426                                    2697, 2701, 2706  Thymus (N)   MHC-I   \n",
       "430                                          6327, 6334  Thymus (N)   MHC-I   \n",
       "423                                                6647  Thymus (N)   MHC-I   \n",
       "427                                                 659  Thymus (N)   MHC-I   \n",
       "428                                                 NaN  Thymus (N)   MHC-I   \n",
       "\n",
       "     category  diff_study-pop  abs_diff  \n",
       "416       NaN       -0.060470  0.060470  \n",
       "415       NaN       -0.033718  0.033718  \n",
       "417       NaN       -0.032601  0.032601  \n",
       "4691      NaN       -0.031673  0.031673  \n",
       "413       NaN       -0.026389  0.026389  \n",
       "414       NaN       -0.024520  0.024520  \n",
       "411       NaN       -0.006887  0.006887  \n",
       "4692      NaN       -0.005600  0.005600  \n",
       "4693      NaN       -0.004846  0.004846  \n",
       "4695      NaN       -0.004390  0.004390  \n",
       "418       NaN       -0.004128  0.004128  \n",
       "410       NaN       -0.003951  0.003951  \n",
       "4697      NaN       -0.003587  0.003587  \n",
       "4694      NaN       -0.002250  0.002250  \n",
       "422       NaN       -0.001913  0.001913  \n",
       "421       NaN       -0.001759  0.001759  \n",
       "412       NaN       -0.001702  0.001702  \n",
       "424       NaN       -0.001661  0.001661  \n",
       "420       NaN       -0.001546  0.001546  \n",
       "4696      NaN       -0.001342  0.001342  \n",
       "419       NaN       -0.000966  0.000966  \n",
       "425       NaN       -0.000840  0.000840  \n",
       "429       NaN       -0.000788  0.000788  \n",
       "426       NaN       -0.000752  0.000752  \n",
       "430       NaN       -0.000656  0.000656  \n",
       "423       NaN       -0.000612  0.000612  \n",
       "427       NaN       -0.000560  0.000560  \n",
       "428       NaN       -0.000465  0.000465  "
      ]
     },
     "execution_count": 40,
     "metadata": {},
     "output_type": "execute_result"
    }
   ],
   "source": [
    "thymus_df[thymus_df['enrichment']=='p']"
   ]
  },
  {
   "cell_type": "code",
   "execution_count": 41,
   "metadata": {},
   "outputs": [
    {
     "name": "stdout",
     "output_type": "stream",
     "text": [
      "../data/publication_figures/Supplementary.thymus.clustermap.pdf\n"
     ]
    },
    {
     "data": {
      "image/png": "[encoded data removed]",
      "text/plain": [
       "<Figure size 720x432 with 4 Axes>"
      ]
     },
     "metadata": {
      "needs_background": "light"
     },
     "output_type": "display_data"
    }
   ],
   "source": [
    "h = thymus_df.iloc[:40].pivot(index='class', columns='name', values='diff_study-pop').fillna(0)\n",
    "cm = sns.clustermap(h, lw=0.1, cmap='PuOr_r', figsize=(10,6), mask=(h==0), row_cluster=False, center=0)\n",
    "plt.setp(cm.ax_heatmap.yaxis.get_majorticklabels(), rotation=0)\n",
    "\n",
    "savepath = '../data/publication_figures/Supplementary.thymus.clustermap.pdf'\n",
    "print(savepath)\n",
    "plt.savefig(savepath, bbox_inches='tight')"
   ]
  },
  {
   "cell_type": "code",
   "execution_count": null,
   "metadata": {},
   "outputs": [],
   "source": []
  }
 ],
 "metadata": {
  "kernelspec": {
   "display_name": "Python 3",
   "language": "python",
   "name": "python3"
  },
  "language_info": {
   "codemirror_mode": {
    "name": "ipython",
    "version": 3
   },
   "file_extension": ".py",
   "mimetype": "text/x-python",
   "name": "python",
   "nbconvert_exporter": "python",
   "pygments_lexer": "ipython3",
   "version": "3.6.8"
  }
 },
 "nbformat": 4,
 "nbformat_minor": 4
}
