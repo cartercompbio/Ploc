{
 "cells": [
  {
   "cell_type": "code",
   "execution_count": 1,
   "metadata": {},
   "outputs": [],
   "source": [
    "import numpy as np\n",
    "import pandas as pd"
   ]
  },
  {
   "cell_type": "code",
   "execution_count": 2,
   "metadata": {},
   "outputs": [],
   "source": [
    "import matplotlib.pyplot as plt\n",
    "import seaborn as sns\n",
    "sns.set_style('white')\n",
    "sns.set_style('ticks')\n",
    "%matplotlib inline\n",
    "from statannot import add_stat_annotation\n",
    "\n",
    "import matplotlib as mpl\n",
    "mpl.rcParams['pdf.fonttype'] = 42\n",
    "flierprops = dict(markerfacecolor='lightgrey',markeredgecolor='lightgrey')"
   ]
  },
  {
   "cell_type": "code",
   "execution_count": 3,
   "metadata": {},
   "outputs": [],
   "source": [
    "import sys\n",
    "sys.path.append('../utils/')\n",
    "from stat_annot_utils import create_pairs, create_hue_pairs, parse_results_from_statannot\n",
    "from plot_medians_in_boxplot import plot_medians_in_boxplot\n",
    "from cliffs_d import calc_boxplot_effect_size\n",
    "from stat_annot_utils import create_pairs"
   ]
  },
  {
   "cell_type": "code",
   "execution_count": 4,
   "metadata": {},
   "outputs": [],
   "source": [
    "from lifelines import KaplanMeierFitter, CoxPHFitter\n",
    "from lifelines.statistics import logrank_test"
   ]
  },
  {
   "cell_type": "markdown",
   "metadata": {
    "scrolled": true
   },
   "source": [
    "### TMB boxplots"
   ]
  },
  {
   "cell_type": "code",
   "execution_count": 5,
   "metadata": {},
   "outputs": [
    {
     "name": "stdout",
     "output_type": "stream",
     "text": [
      "(83, 9)\n"
     ]
    },
    {
     "data": {
      "text/html": [
       "<div>\n",
       "<style scoped>\n",
       "    .dataframe tbody tr th:only-of-type {\n",
       "        vertical-align: middle;\n",
       "    }\n",
       "\n",
       "    .dataframe tbody tr th {\n",
       "        vertical-align: top;\n",
       "    }\n",
       "\n",
       "    .dataframe thead th {\n",
       "        text-align: right;\n",
       "    }\n",
       "</style>\n",
       "<table border=\"1\" class=\"dataframe\">\n",
       "  <thead>\n",
       "    <tr style=\"text-align: right;\">\n",
       "      <th></th>\n",
       "      <th>tmb_unfiltered</th>\n",
       "      <th>tmb_filtered</th>\n",
       "      <th>Gender</th>\n",
       "      <th>Age (at treatment with immunotherapy)</th>\n",
       "      <th>OS from the start of IO (months)</th>\n",
       "      <th>Dead (yes =1, no =0)</th>\n",
       "      <th>PFS (startdate to PD)</th>\n",
       "      <th>Progression = 1</th>\n",
       "      <th>response</th>\n",
       "    </tr>\n",
       "  </thead>\n",
       "  <tbody>\n",
       "    <tr>\n",
       "      <th>0</th>\n",
       "      <td>2</td>\n",
       "      <td>2.0</td>\n",
       "      <td>Female</td>\n",
       "      <td>44.2</td>\n",
       "      <td>6.3</td>\n",
       "      <td>0</td>\n",
       "      <td>1.1</td>\n",
       "      <td>1</td>\n",
       "      <td>nonresponse</td>\n",
       "    </tr>\n",
       "    <tr>\n",
       "      <th>1</th>\n",
       "      <td>3</td>\n",
       "      <td>1.0</td>\n",
       "      <td>Female</td>\n",
       "      <td>72.5</td>\n",
       "      <td>0.5</td>\n",
       "      <td>1</td>\n",
       "      <td>0.5</td>\n",
       "      <td>1</td>\n",
       "      <td>nonresponse</td>\n",
       "    </tr>\n",
       "  </tbody>\n",
       "</table>\n",
       "</div>"
      ],
      "text/plain": [
       "   tmb_unfiltered  tmb_filtered  Gender  \\\n",
       "0               2           2.0  Female   \n",
       "1               3           1.0  Female   \n",
       "\n",
       "   Age (at treatment with immunotherapy)  OS from the start of IO (months)  \\\n",
       "0                                   44.2                               6.3   \n",
       "1                                   72.5                               0.5   \n",
       "\n",
       "   Dead (yes =1, no =0)  PFS (startdate to PD)  Progression = 1     response  \n",
       "0                     0                    1.1                1  nonresponse  \n",
       "1                     1                    0.5                1  nonresponse  "
      ]
     },
     "execution_count": 5,
     "metadata": {},
     "output_type": "execute_result"
    }
   ],
   "source": [
    "tmb_df = pd.read_csv('../data/moores_predict/tmb.tsv', sep='\\t')\n",
    "print(tmb_df.shape)\n",
    "tmb_df.head(2)"
   ]
  },
  {
   "cell_type": "code",
   "execution_count": 6,
   "metadata": {},
   "outputs": [
    {
     "name": "stdout",
     "output_type": "stream",
     "text": [
      "tmb_filtered Effect size: SD/response r=0.439\n",
      "tmb_filtered Effect size: nonresponse/response r=0.336\n",
      "tmb_filtered Effect size: SD/nonresponse r=0.179\n",
      "\n",
      "\n",
      "tmb_unfiltered Effect size: SD/response r=0.384\n",
      "tmb_unfiltered Effect size: nonresponse/response r=0.442\n",
      "tmb_unfiltered Effect size: SD/nonresponse r=0.106\n",
      "\n",
      "\n",
      "../data/publication_figures/Fig5.TMB_filtered_vs_response.pdf\n"
     ]
    },
    {
     "data": {
      "image/png": "[encoded data removed]",
      "text/plain": [
       "<Figure size 432x288 with 2 Axes>"
      ]
     },
     "metadata": {
      "needs_background": "light"
     },
     "output_type": "display_data"
    }
   ],
   "source": [
    "x = 'response'\n",
    "tmb_df[x] = tmb_df[x].apply(str)\n",
    "order = ['response','SD','nonresponse']\n",
    "ylim_dict = {'tmb_filtered': (-2,21), 'tmb_unfiltered': (-5,105)}\n",
    "\n",
    "plt.figure(figsize=(6,4))\n",
    "i=1\n",
    "for y in ['tmb_filtered','tmb_unfiltered']:\n",
    "    plt.subplot(1,2,i)\n",
    "\n",
    "    bp = sns.boxplot(x=x, y=y, data=tmb_df, order=order, palette='spring', flierprops=flierprops)\n",
    "    plt.ylim(ylim_dict[y])\n",
    "\n",
    "    stat_res = add_stat_annotation(ax=bp, x=x, y=y, box_pairs=create_pairs(order), order=order, \n",
    "                            test='Mann-Whitney',comparisons_correction=None, text_format='simple',\n",
    "                            data=tmb_df, loc='inside', verbose=False)\n",
    "    \n",
    "    # effect sizes\n",
    "    stat_res = parse_results_from_statannot(stat_res)\n",
    "    for pair in create_pairs(order):\n",
    "        pair = sorted(pair)\n",
    "        U = stat_res[tuple(pair)][0]\n",
    "        e = calc_boxplot_effect_size(len(tmb_df[tmb_df[x]==pair[0]]), len(tmb_df[tmb_df[x]==pair[1]]), U)\n",
    "    \n",
    "        print(y, 'Effect size: {} r={:.3}'.format('/'.join(pair), e))\n",
    "\n",
    "    # plot medians and number of samples info\n",
    "    medians = tmb_df.groupby([x])[y].median()\n",
    "    plot_medians_in_boxplot(medians, vertical_offset=0.1, ax=bp)\n",
    "    \n",
    "    counts = tmb_df[x].value_counts()\n",
    "    bp.set_xticklabels(['{}\\n({})'.format(x.get_text(), counts.loc[x.get_text()]) for x in bp.get_xticklabels()])\n",
    "    \n",
    "    plt.xlabel('')\n",
    "    plt.ylabel('TMB (filtered by 40 genes)') if y=='tmb_filtered' else plt.ylabel('TMB (unfiltered)')\n",
    "    \n",
    "    i+=1\n",
    "    print('\\n')\n",
    "    \n",
    "plt.tight_layout()\n",
    "savepath = '../data/publication_figures/Fig5.TMB_filtered_vs_response.pdf'\n",
    "print(savepath)\n",
    "plt.savefig(savepath)\n",
    "plt.show()"
   ]
  },
  {
   "cell_type": "markdown",
   "metadata": {},
   "source": [
    "## PHBR KM analysis"
   ]
  },
  {
   "cell_type": "code",
   "execution_count": 7,
   "metadata": {},
   "outputs": [
    {
     "name": "stdout",
     "output_type": "stream",
     "text": [
      "(71, 8)\n",
      "(71, 8)\n"
     ]
    }
   ],
   "source": [
    "unfiltered_phbr_df = pd.read_csv('../data/moores_predict/unfiltered_phbr.tsv', sep='\\t')\n",
    "print(unfiltered_phbr_df.shape)\n",
    "\n",
    "filtered_phbr_df = pd.read_csv('../data/moores_predict/filtered_phbr.tsv', sep='\\t')\n",
    "print(filtered_phbr_df.shape)"
   ]
  },
  {
   "cell_type": "markdown",
   "metadata": {},
   "source": [
    "#### Overall"
   ]
  },
  {
   "cell_type": "code",
   "execution_count": 8,
   "metadata": {},
   "outputs": [
    {
     "name": "stdout",
     "output_type": "stream",
     "text": [
      "PFS (startdate to PD) Progression = 1\n"
     ]
    },
    {
     "name": "stderr",
     "output_type": "stream",
     "text": [
      "/cellar/users/andreabc/miniconda3/lib/python3.6/site-packages/ipykernel_launcher.py:15: MatplotlibDeprecationWarning: Adding an axes using the same arguments as a previous axes currently reuses the earlier instance.  In a future version, a new instance will always be created and returned.  Meanwhile, this warning can be suppressed, and the future behavior ensured, by passing a unique label to each axes instance.\n",
      "  from ipykernel import kernelapp as app\n"
     ]
    },
    {
     "name": "stdout",
     "output_type": "stream",
     "text": [
      "unfiltered ('PHBR-low', 'PHBR-high') 2.513099387547636 0.11290368307874595\n"
     ]
    },
    {
     "name": "stderr",
     "output_type": "stream",
     "text": [
      "/cellar/users/andreabc/miniconda3/lib/python3.6/site-packages/ipykernel_launcher.py:15: MatplotlibDeprecationWarning: Adding an axes using the same arguments as a previous axes currently reuses the earlier instance.  In a future version, a new instance will always be created and returned.  Meanwhile, this warning can be suppressed, and the future behavior ensured, by passing a unique label to each axes instance.\n",
      "  from ipykernel import kernelapp as app\n"
     ]
    },
    {
     "name": "stdout",
     "output_type": "stream",
     "text": [
      "filtered ('PHBR-low & immuno-loc', 'PHBR-high & immuno-loc') 3.683455235565588 0.054954855331361366\n",
      "../data/publication_figures/Fig5.PFS_KM.pdf\n"
     ]
    },
    {
     "data": {
      "image/png": "[encoded data removed]",
      "text/plain": [
       "<Figure size 648x288 with 2 Axes>"
      ]
     },
     "metadata": {
      "needs_background": "light"
     },
     "output_type": "display_data"
    }
   ],
   "source": [
    "## PHBR only\n",
    "color_list = [ 'mediumblue','dodgerblue','seagreen','red']\n",
    "\n",
    "for duration, event in [('PFS (startdate to PD)','Progression = 1' )]:\n",
    "    print(duration, event)\n",
    "    \n",
    "    plt.figure(figsize=(9,4))\n",
    "    i = 1\n",
    "    for t, df in [('unfiltered', unfiltered_phbr_df),('filtered', filtered_phbr_df), ]:\n",
    "        groups = df['cat']\n",
    "        \n",
    "        for c_i, g in enumerate(df['cat'].unique()):\n",
    "            ix = (groups == g)\n",
    "\n",
    "            plt.subplot(1,2,i)\n",
    "            kmf = KaplanMeierFitter()\n",
    "            kmf.fit(df[duration][ix], df[event][ix], label='{} (n={})'.format(g, len(df[ix])))\n",
    "            ax = kmf.plot_survival_function(ci_show=False, color=color_list[c_i])\n",
    "            plt.title(t)\n",
    "            \n",
    "        plt.ylabel('Progression-free survival'), plt.xlabel('Time (months)')\n",
    "        plt.ylim(0,1),plt.xlim(0,33)\n",
    "        plt.legend(frameon=False)\n",
    "        \n",
    "        for pair in create_pairs(groups.unique()):\n",
    "\n",
    "            a = (groups == pair[0])\n",
    "            b = (groups == pair[1])\n",
    "\n",
    "            pval= logrank_test(df[duration][a], df[duration][b], df[event][a], df[event][b], )\n",
    "            print(t, pair, pval.test_statistic, pval.p_value)\n",
    "\n",
    "            plt.title('{}: log-rank statistic: {:.2}, p={:.2}'.format(t,pval.test_statistic, pval.p_value))\n",
    "\n",
    "        i+=1\n",
    "    plt.tight_layout()\n",
    "    savepath = '../data/publication_figures/Fig5.PFS_KM.pdf'\n",
    "    print(savepath)\n",
    "    plt.savefig(savepath)\n",
    "    plt.show()"
   ]
  },
  {
   "cell_type": "markdown",
   "metadata": {},
   "source": [
    "#### in high tmb patients"
   ]
  },
  {
   "cell_type": "code",
   "execution_count": 9,
   "metadata": {},
   "outputs": [
    {
     "name": "stdout",
     "output_type": "stream",
     "text": [
      "PFS (startdate to PD) Progression = 1\n"
     ]
    },
    {
     "name": "stderr",
     "output_type": "stream",
     "text": [
      "/cellar/users/andreabc/miniconda3/lib/python3.6/site-packages/ipykernel_launcher.py:17: MatplotlibDeprecationWarning: Adding an axes using the same arguments as a previous axes currently reuses the earlier instance.  In a future version, a new instance will always be created and returned.  Meanwhile, this warning can be suppressed, and the future behavior ensured, by passing a unique label to each axes instance.\n"
     ]
    },
    {
     "name": "stdout",
     "output_type": "stream",
     "text": [
      "unfiltered ('PHBR-low', 'PHBR-high') 5.578999792245904e-05 0.9940404400088343\n"
     ]
    },
    {
     "name": "stderr",
     "output_type": "stream",
     "text": [
      "/cellar/users/andreabc/miniconda3/lib/python3.6/site-packages/ipykernel_launcher.py:17: MatplotlibDeprecationWarning: Adding an axes using the same arguments as a previous axes currently reuses the earlier instance.  In a future version, a new instance will always be created and returned.  Meanwhile, this warning can be suppressed, and the future behavior ensured, by passing a unique label to each axes instance.\n"
     ]
    },
    {
     "name": "stdout",
     "output_type": "stream",
     "text": [
      "filtered ('PHBR-low & immuno-loc', 'PHBR-high & immuno-loc') 2.1377457344226727 0.1437129350816506\n"
     ]
    },
    {
     "data": {
      "image/png": "[encoded data removed]",
      "text/plain": [
       "<Figure size 648x288 with 2 Axes>"
      ]
     },
     "metadata": {
      "needs_background": "light"
     },
     "output_type": "display_data"
    }
   ],
   "source": [
    "## PHBR only\n",
    "color_list = [ 'mediumblue','dodgerblue','seagreen','red']\n",
    "\n",
    "for duration, event in [('PFS (startdate to PD)','Progression = 1' )]:\n",
    "    print(duration, event)\n",
    "    \n",
    "    plt.figure(figsize=(9,4))\n",
    "    i = 1\n",
    "    for t, df in [('unfiltered', unfiltered_phbr_df),('filtered', filtered_phbr_df), ]:\n",
    "        df = df[df['TMB_binary_10']=='TMB high']\n",
    "        groups = df['cat']\n",
    "        \n",
    "        \n",
    "        for c_i, g in enumerate(df['cat'].unique()):\n",
    "            ix = (groups == g)\n",
    "\n",
    "            plt.subplot(1,2,i)\n",
    "            kmf = KaplanMeierFitter()\n",
    "            kmf.fit(df[duration][ix], df[event][ix], label='{} (n={})'.format(g, len(df[ix])))\n",
    "            ax = kmf.plot_survival_function(ci_show=False, color=color_list[c_i])\n",
    "            plt.title(t)\n",
    "            \n",
    "        plt.ylabel('Progression-free survival'), plt.xlabel('Time (months)')\n",
    "        plt.ylim(0,1),plt.xlim(0,33)\n",
    "        plt.legend(frameon=False)\n",
    "        \n",
    "        for pair in create_pairs(groups.unique()):\n",
    "\n",
    "            a = (groups == pair[0])\n",
    "            b = (groups == pair[1])\n",
    "\n",
    "            pval= logrank_test(df[duration][a], df[duration][b], df[event][a], df[event][b], )\n",
    "            print(t, pair, pval.test_statistic, pval.p_value)\n",
    "\n",
    "            plt.title('{}: log-rank statistic: {:.2}, p={:.2}'.format(t,pval.test_statistic, pval.p_value))\n",
    "\n",
    "        i+=1\n",
    "    plt.tight_layout()\n",
    "    plt.show()"
   ]
  },
  {
   "cell_type": "code",
   "execution_count": 10,
   "metadata": {
    "scrolled": false
   },
   "outputs": [
    {
     "name": "stdout",
     "output_type": "stream",
     "text": [
      "unfiltered\n",
      "(38, 6)\n",
      "(38, 6)\n",
      "AIC: 151.72382394021926 \n",
      "\n",
      "filtered\n",
      "(38, 6)\n",
      "(38, 6)\n",
      "AIC: 147.86709574330814 \n",
      "\n"
     ]
    },
    {
     "data": {
      "text/html": [
       "<div>\n",
       "<style scoped>\n",
       "    .dataframe tbody tr th:only-of-type {\n",
       "        vertical-align: middle;\n",
       "    }\n",
       "\n",
       "    .dataframe tbody tr th {\n",
       "        vertical-align: top;\n",
       "    }\n",
       "\n",
       "    .dataframe thead th {\n",
       "        text-align: right;\n",
       "    }\n",
       "</style>\n",
       "<table border=\"1\" class=\"dataframe\">\n",
       "  <thead>\n",
       "    <tr style=\"text-align: right;\">\n",
       "      <th></th>\n",
       "      <th>exp(coef)_filtered</th>\n",
       "      <th>se(coef)_filtered</th>\n",
       "      <th>p_filtered</th>\n",
       "      <th>exp(coef)_filtered</th>\n",
       "      <th>se(coef)_filtered</th>\n",
       "      <th>p_filtered</th>\n",
       "    </tr>\n",
       "    <tr>\n",
       "      <th>covariate</th>\n",
       "      <th></th>\n",
       "      <th></th>\n",
       "      <th></th>\n",
       "      <th></th>\n",
       "      <th></th>\n",
       "      <th></th>\n",
       "    </tr>\n",
       "  </thead>\n",
       "  <tbody>\n",
       "    <tr>\n",
       "      <th>PHBR_score</th>\n",
       "      <td>1.359205</td>\n",
       "      <td>0.224658</td>\n",
       "      <td>0.171915</td>\n",
       "      <td>1.273309</td>\n",
       "      <td>0.093965</td>\n",
       "      <td>0.010129</td>\n",
       "    </tr>\n",
       "    <tr>\n",
       "      <th>TMB (mutations per megabase)</th>\n",
       "      <td>0.997227</td>\n",
       "      <td>0.003796</td>\n",
       "      <td>0.464532</td>\n",
       "      <td>0.997931</td>\n",
       "      <td>0.003657</td>\n",
       "      <td>0.571154</td>\n",
       "    </tr>\n",
       "    <tr>\n",
       "      <th>Age (at treatment with immunotherapy)</th>\n",
       "      <td>0.984012</td>\n",
       "      <td>0.016682</td>\n",
       "      <td>0.333970</td>\n",
       "      <td>0.974767</td>\n",
       "      <td>0.017122</td>\n",
       "      <td>0.135535</td>\n",
       "    </tr>\n",
       "    <tr>\n",
       "      <th>Gender</th>\n",
       "      <td>1.880660</td>\n",
       "      <td>0.456175</td>\n",
       "      <td>0.166173</td>\n",
       "      <td>1.555139</td>\n",
       "      <td>0.475311</td>\n",
       "      <td>0.352887</td>\n",
       "    </tr>\n",
       "  </tbody>\n",
       "</table>\n",
       "</div>"
      ],
      "text/plain": [
       "                                       exp(coef)_filtered  se(coef)_filtered  \\\n",
       "covariate                                                                      \n",
       "PHBR_score                                       1.359205           0.224658   \n",
       "TMB (mutations per megabase)                     0.997227           0.003796   \n",
       "Age (at treatment with immunotherapy)            0.984012           0.016682   \n",
       "Gender                                           1.880660           0.456175   \n",
       "\n",
       "                                       p_filtered  exp(coef)_filtered  \\\n",
       "covariate                                                               \n",
       "PHBR_score                               0.171915            1.273309   \n",
       "TMB (mutations per megabase)             0.464532            0.997931   \n",
       "Age (at treatment with immunotherapy)    0.333970            0.974767   \n",
       "Gender                                   0.166173            1.555139   \n",
       "\n",
       "                                       se(coef)_filtered  p_filtered  \n",
       "covariate                                                             \n",
       "PHBR_score                                      0.093965    0.010129  \n",
       "TMB (mutations per megabase)                    0.003657    0.571154  \n",
       "Age (at treatment with immunotherapy)           0.017122    0.135535  \n",
       "Gender                                          0.475311    0.352887  "
      ]
     },
     "execution_count": 10,
     "metadata": {},
     "output_type": "execute_result"
    }
   ],
   "source": [
    "model_cols = ['PHBR_score','TMB (mutations per megabase)', \n",
    "              'Age (at treatment with immunotherapy)','Gender']\n",
    "event, duration = 'Progression = 1', 'PFS (startdate to PD)'\n",
    "\n",
    "cox_df = pd.DataFrame()\n",
    "for t, model_df in [('unfiltered', unfiltered_phbr_df), ('filtered',filtered_phbr_df)]:\n",
    "    print(t)\n",
    "\n",
    "    model_df = model_df[model_df['TMB_binary_10']=='TMB high']\n",
    "    model_df = model_df[model_cols+[event,duration]]\n",
    "\n",
    "    model_df['Gender'] = model_df['Gender'].replace({'Female':1, 'Male':0})\n",
    "    print(model_df.shape)\n",
    "    model_df = model_df.dropna()\n",
    "    print(model_df.shape)\n",
    "\n",
    "    cph = CoxPHFitter()\n",
    "    cph.fit(model_df, duration_col=duration, event_col=event)\n",
    "    res = cph.summary[['exp(coef)','se(coef)','p']]\n",
    "    print('AIC:',cph.AIC_partial_,'\\n')\n",
    "    cox_df = res if len(cox_df)==0 else cox_df.join(res, lsuffix='_{}'.format(t), rsuffix='_{}'.format(t))\n",
    "cox_df"
   ]
  },
  {
   "cell_type": "code",
   "execution_count": null,
   "metadata": {},
   "outputs": [],
   "source": []
  },
  {
   "cell_type": "code",
   "execution_count": null,
   "metadata": {},
   "outputs": [],
   "source": []
  },
  {
   "cell_type": "code",
   "execution_count": null,
   "metadata": {},
   "outputs": [],
   "source": []
  }
 ],
 "metadata": {
  "kernelspec": {
   "display_name": "Python 3",
   "language": "python",
   "name": "python3"
  },
  "language_info": {
   "codemirror_mode": {
    "name": "ipython",
    "version": 3
   },
   "file_extension": ".py",
   "mimetype": "text/x-python",
   "name": "python",
   "nbconvert_exporter": "python",
   "pygments_lexer": "ipython3",
   "version": "3.6.8"
  }
 },
 "nbformat": 4,
 "nbformat_minor": 4
}
