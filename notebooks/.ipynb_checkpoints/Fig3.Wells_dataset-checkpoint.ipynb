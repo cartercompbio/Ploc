{
 "cells": [
  {
   "cell_type": "code",
   "execution_count": 1,
   "metadata": {},
   "outputs": [],
   "source": [
    "import pandas as pd\n",
    "import numpy as np\n",
    "import umap"
   ]
  },
  {
   "cell_type": "code",
   "execution_count": 2,
   "metadata": {},
   "outputs": [],
   "source": [
    "from sklearn.ensemble import RandomForestClassifier\n",
    "from sklearn.metrics import roc_auc_score, precision_recall_curve, auc, roc_curve\n",
    "import joblib"
   ]
  },
  {
   "cell_type": "code",
   "execution_count": 3,
   "metadata": {},
   "outputs": [],
   "source": [
    "import sys\n",
    "sys.path.append('../utils')\n",
    "from flatten import flatten"
   ]
  },
  {
   "cell_type": "code",
   "execution_count": 4,
   "metadata": {},
   "outputs": [],
   "source": [
    "import matplotlib.pyplot as plt\n",
    "from matplotlib_venn import venn2\n",
    "import seaborn as sns\n",
    "sns.set_style('white')\n",
    "sns.set_style('ticks')\n",
    "%matplotlib inline\n",
    "import plotly.express as px\n",
    "\n",
    "import matplotlib as mpl\n",
    "mpl.rcParams['pdf.fonttype'] = 42\n",
    "flierprops = dict(markerfacecolor='lightgrey',markeredgecolor='lightgrey')"
   ]
  },
  {
   "cell_type": "markdown",
   "metadata": {},
   "source": [
    "### Load data"
   ]
  },
  {
   "cell_type": "code",
   "execution_count": 5,
   "metadata": {},
   "outputs": [
    {
     "name": "stdout",
     "output_type": "stream",
     "text": [
      "(598, 42)\n"
     ]
    },
    {
     "data": {
      "text/html": [
       "<div>\n",
       "<style scoped>\n",
       "    .dataframe tbody tr th:only-of-type {\n",
       "        vertical-align: middle;\n",
       "    }\n",
       "\n",
       "    .dataframe tbody tr th {\n",
       "        vertical-align: top;\n",
       "    }\n",
       "\n",
       "    .dataframe thead th {\n",
       "        text-align: right;\n",
       "    }\n",
       "</style>\n",
       "<table border=\"1\" class=\"dataframe\">\n",
       "  <thead>\n",
       "    <tr style=\"text-align: right;\">\n",
       "      <th></th>\n",
       "      <th>Unnamed: 0</th>\n",
       "      <th>PMHC</th>\n",
       "      <th>PATIENT_ID</th>\n",
       "      <th>TISSUE_TYPE</th>\n",
       "      <th>MHC</th>\n",
       "      <th>ALT_EPI_SEQ</th>\n",
       "      <th>PEP_LEN</th>\n",
       "      <th>MEASURED_BINDING_AFFINITY</th>\n",
       "      <th>NETMHC_PAN_BINDING_AFFINITY</th>\n",
       "      <th>TUMOR_ABUNDANCE</th>\n",
       "      <th>...</th>\n",
       "      <th>Length</th>\n",
       "      <th>Gene ontology (cellular component)</th>\n",
       "      <th>Gene ontology IDs</th>\n",
       "      <th>cc_ids</th>\n",
       "      <th>vec</th>\n",
       "      <th>UMAP1</th>\n",
       "      <th>UMAP2</th>\n",
       "      <th>validated_class</th>\n",
       "      <th>identified_WT_unique</th>\n",
       "      <th>dataset</th>\n",
       "    </tr>\n",
       "  </thead>\n",
       "  <tbody>\n",
       "    <tr>\n",
       "      <th>0</th>\n",
       "      <td>0</td>\n",
       "      <td>A*01:01_ASSFLKSFY</td>\n",
       "      <td>3</td>\n",
       "      <td>PBMC</td>\n",
       "      <td>A*01:01</td>\n",
       "      <td>ASSFLKSFY</td>\n",
       "      <td>9</td>\n",
       "      <td>45.0</td>\n",
       "      <td>132.1</td>\n",
       "      <td>57.819051</td>\n",
       "      <td>...</td>\n",
       "      <td>1298.0</td>\n",
       "      <td>cytosol [GO:0005829]; vesicle [GO:0031982]</td>\n",
       "      <td>GO:0005096; GO:0005829; GO:0006886; GO:0016192...</td>\n",
       "      <td>['GO:0005829', 'GO:0031982']</td>\n",
       "      <td>[-0.07696256 -0.01049735 -0.0500322   0.109252...</td>\n",
       "      <td>-0.731862</td>\n",
       "      <td>0.135755</td>\n",
       "      <td>None</td>\n",
       "      <td>{'APSFLKSFY'}</td>\n",
       "      <td>train</td>\n",
       "    </tr>\n",
       "    <tr>\n",
       "      <th>1</th>\n",
       "      <td>1</td>\n",
       "      <td>A*01:01_ATLFSDSWYY</td>\n",
       "      <td>3</td>\n",
       "      <td>PBMC</td>\n",
       "      <td>A*01:01</td>\n",
       "      <td>ATLFSDSWYY</td>\n",
       "      <td>10</td>\n",
       "      <td>33.0</td>\n",
       "      <td>251.7</td>\n",
       "      <td>51.857250</td>\n",
       "      <td>...</td>\n",
       "      <td>339.0</td>\n",
       "      <td>endoplasmic reticulum [GO:0005783]; endoplasmi...</td>\n",
       "      <td>GO:0005783; GO:0006816; GO:0030176; GO:0140268...</td>\n",
       "      <td>['GO:0005783', 'GO:0140268', 'GO:0030176']</td>\n",
       "      <td>[ 0.11766019 -0.12152778 -0.21554139  0.073761...</td>\n",
       "      <td>-0.871912</td>\n",
       "      <td>-0.267886</td>\n",
       "      <td>None</td>\n",
       "      <td>{'ATPFSDSWYY'}</td>\n",
       "      <td>train</td>\n",
       "    </tr>\n",
       "  </tbody>\n",
       "</table>\n",
       "<p>2 rows × 43 columns</p>\n",
       "</div>"
      ],
      "text/plain": [
       "   Unnamed: 0                PMHC  PATIENT_ID TISSUE_TYPE      MHC  \\\n",
       "0           0   A*01:01_ASSFLKSFY           3        PBMC  A*01:01   \n",
       "1           1  A*01:01_ATLFSDSWYY           3        PBMC  A*01:01   \n",
       "\n",
       "  ALT_EPI_SEQ  PEP_LEN  MEASURED_BINDING_AFFINITY  \\\n",
       "0   ASSFLKSFY        9                       45.0   \n",
       "1  ATLFSDSWYY       10                       33.0   \n",
       "\n",
       "   NETMHC_PAN_BINDING_AFFINITY  TUMOR_ABUNDANCE  ...  Length  \\\n",
       "0                        132.1        57.819051  ...  1298.0   \n",
       "1                        251.7        51.857250  ...   339.0   \n",
       "\n",
       "                  Gene ontology (cellular component)  \\\n",
       "0         cytosol [GO:0005829]; vesicle [GO:0031982]   \n",
       "1  endoplasmic reticulum [GO:0005783]; endoplasmi...   \n",
       "\n",
       "                                   Gene ontology IDs  \\\n",
       "0  GO:0005096; GO:0005829; GO:0006886; GO:0016192...   \n",
       "1  GO:0005783; GO:0006816; GO:0030176; GO:0140268...   \n",
       "\n",
       "                                       cc_ids  \\\n",
       "0                ['GO:0005829', 'GO:0031982']   \n",
       "1  ['GO:0005783', 'GO:0140268', 'GO:0030176']   \n",
       "\n",
       "                                                 vec     UMAP1     UMAP2  \\\n",
       "0  [-0.07696256 -0.01049735 -0.0500322   0.109252... -0.731862  0.135755   \n",
       "1  [ 0.11766019 -0.12152778 -0.21554139  0.073761... -0.871912 -0.267886   \n",
       "\n",
       "   validated_class  identified_WT_unique  dataset  \n",
       "0             None         {'APSFLKSFY'}    train  \n",
       "1             None        {'ATPFSDSWYY'}    train  \n",
       "\n",
       "[2 rows x 43 columns]"
      ]
     },
     "execution_count": 5,
     "metadata": {},
     "output_type": "execute_result"
    }
   ],
   "source": [
    "train_df = pd.read_csv('../data/wells_pMHC_Cell/discovery_aggregated.tsv', sep='\\t')\n",
    "print(train_df.shape)\n",
    "train_df['dataset'] = 'train'\n",
    "\n",
    "train_df.head(2)"
   ]
  },
  {
   "cell_type": "code",
   "execution_count": 6,
   "metadata": {},
   "outputs": [
    {
     "name": "stdout",
     "output_type": "stream",
     "text": [
      "(310, 37)\n"
     ]
    },
    {
     "data": {
      "text/html": [
       "<div>\n",
       "<style scoped>\n",
       "    .dataframe tbody tr th:only-of-type {\n",
       "        vertical-align: middle;\n",
       "    }\n",
       "\n",
       "    .dataframe tbody tr th {\n",
       "        vertical-align: top;\n",
       "    }\n",
       "\n",
       "    .dataframe thead th {\n",
       "        text-align: right;\n",
       "    }\n",
       "</style>\n",
       "<table border=\"1\" class=\"dataframe\">\n",
       "  <thead>\n",
       "    <tr style=\"text-align: right;\">\n",
       "      <th></th>\n",
       "      <th>PMHC</th>\n",
       "      <th>PATIENT_ID</th>\n",
       "      <th>TISSUE_TYPE</th>\n",
       "      <th>ALT_EPI_SEQ</th>\n",
       "      <th>PEP_LEN</th>\n",
       "      <th>PREDICTED_BINDING_AFFINITY</th>\n",
       "      <th>NETMHC_PAN_BINDING_AFFINITY</th>\n",
       "      <th>TUMOR_ABUNDANCE</th>\n",
       "      <th>BINDING_STABILITY</th>\n",
       "      <th>AGRETOPICITY</th>\n",
       "      <th>...</th>\n",
       "      <th>Gene ontology (cellular component)</th>\n",
       "      <th>Gene ontology IDs</th>\n",
       "      <th>cc_ids</th>\n",
       "      <th>vec</th>\n",
       "      <th>UMAP1</th>\n",
       "      <th>UMAP2</th>\n",
       "      <th>validated_class</th>\n",
       "      <th>identified_WT_unique</th>\n",
       "      <th>MHC</th>\n",
       "      <th>dataset</th>\n",
       "    </tr>\n",
       "    <tr>\n",
       "      <th>Unnamed: 0</th>\n",
       "      <th></th>\n",
       "      <th></th>\n",
       "      <th></th>\n",
       "      <th></th>\n",
       "      <th></th>\n",
       "      <th></th>\n",
       "      <th></th>\n",
       "      <th></th>\n",
       "      <th></th>\n",
       "      <th></th>\n",
       "      <th></th>\n",
       "      <th></th>\n",
       "      <th></th>\n",
       "      <th></th>\n",
       "      <th></th>\n",
       "      <th></th>\n",
       "      <th></th>\n",
       "      <th></th>\n",
       "      <th></th>\n",
       "      <th></th>\n",
       "      <th></th>\n",
       "    </tr>\n",
       "  </thead>\n",
       "  <tbody>\n",
       "    <tr>\n",
       "      <th>0</th>\n",
       "      <td>A*01:01_AISDSLLWKY</td>\n",
       "      <td>8</td>\n",
       "      <td>TIL</td>\n",
       "      <td>AISDSLLWKY</td>\n",
       "      <td>10</td>\n",
       "      <td>62.9</td>\n",
       "      <td>32.15</td>\n",
       "      <td>16.319886</td>\n",
       "      <td>1.65</td>\n",
       "      <td>0.164746</td>\n",
       "      <td>...</td>\n",
       "      <td>cytoplasm [GO:0005737]; NLRP3 inflammasome com...</td>\n",
       "      <td>GO:0000182; GO:0003723; GO:0003724; GO:0003725...</td>\n",
       "      <td>['GO:0005737', 'GO:0072559', 'GO:0005730', 'GO...</td>\n",
       "      <td>[-0.04997961  0.14805909 -0.12782927 -0.026010...</td>\n",
       "      <td>0.279450</td>\n",
       "      <td>-0.555821</td>\n",
       "      <td>None</td>\n",
       "      <td>{'AISDSLLRKY'}</td>\n",
       "      <td>A*01:01</td>\n",
       "      <td>test</td>\n",
       "    </tr>\n",
       "    <tr>\n",
       "      <th>1</th>\n",
       "      <td>A*01:01_ASSSGTRLY</td>\n",
       "      <td>8</td>\n",
       "      <td>TIL</td>\n",
       "      <td>ASSSGTRLY</td>\n",
       "      <td>9</td>\n",
       "      <td>218.7</td>\n",
       "      <td>334.79</td>\n",
       "      <td>3.024792</td>\n",
       "      <td>1.31</td>\n",
       "      <td>0.020218</td>\n",
       "      <td>...</td>\n",
       "      <td>cytoplasm [GO:0005737]; cytosol [GO:0005829]</td>\n",
       "      <td>GO:0004620; GO:0005737; GO:0005829; GO:0006654...</td>\n",
       "      <td>['GO:0005737', 'GO:0005829']</td>\n",
       "      <td>[-0.05264508  0.02865264 -0.00164553 -0.031719...</td>\n",
       "      <td>-0.772993</td>\n",
       "      <td>-0.563778</td>\n",
       "      <td>None</td>\n",
       "      <td>{'ASSSGTRLH'}</td>\n",
       "      <td>A*01:01</td>\n",
       "      <td>test</td>\n",
       "    </tr>\n",
       "  </tbody>\n",
       "</table>\n",
       "<p>2 rows × 37 columns</p>\n",
       "</div>"
      ],
      "text/plain": [
       "                          PMHC  PATIENT_ID TISSUE_TYPE ALT_EPI_SEQ  PEP_LEN  \\\n",
       "Unnamed: 0                                                                    \n",
       "0           A*01:01_AISDSLLWKY           8         TIL  AISDSLLWKY       10   \n",
       "1            A*01:01_ASSSGTRLY           8         TIL   ASSSGTRLY        9   \n",
       "\n",
       "            PREDICTED_BINDING_AFFINITY  NETMHC_PAN_BINDING_AFFINITY  \\\n",
       "Unnamed: 0                                                            \n",
       "0                                 62.9                        32.15   \n",
       "1                                218.7                       334.79   \n",
       "\n",
       "            TUMOR_ABUNDANCE  BINDING_STABILITY  AGRETOPICITY  ...  \\\n",
       "Unnamed: 0                                                    ...   \n",
       "0                 16.319886               1.65      0.164746  ...   \n",
       "1                  3.024792               1.31      0.020218  ...   \n",
       "\n",
       "                           Gene ontology (cellular component)  \\\n",
       "Unnamed: 0                                                      \n",
       "0           cytoplasm [GO:0005737]; NLRP3 inflammasome com...   \n",
       "1                cytoplasm [GO:0005737]; cytosol [GO:0005829]   \n",
       "\n",
       "                                            Gene ontology IDs  \\\n",
       "Unnamed: 0                                                      \n",
       "0           GO:0000182; GO:0003723; GO:0003724; GO:0003725...   \n",
       "1           GO:0004620; GO:0005737; GO:0005829; GO:0006654...   \n",
       "\n",
       "                                                       cc_ids  \\\n",
       "Unnamed: 0                                                      \n",
       "0           ['GO:0005737', 'GO:0072559', 'GO:0005730', 'GO...   \n",
       "1                                ['GO:0005737', 'GO:0005829']   \n",
       "\n",
       "                                                          vec     UMAP1  \\\n",
       "Unnamed: 0                                                                \n",
       "0           [-0.04997961  0.14805909 -0.12782927 -0.026010...  0.279450   \n",
       "1           [-0.05264508  0.02865264 -0.00164553 -0.031719... -0.772993   \n",
       "\n",
       "               UMAP2 validated_class  identified_WT_unique      MHC dataset  \n",
       "Unnamed: 0                                                                   \n",
       "0          -0.555821            None        {'AISDSLLRKY'}  A*01:01    test  \n",
       "1          -0.563778            None         {'ASSSGTRLH'}  A*01:01    test  \n",
       "\n",
       "[2 rows x 37 columns]"
      ]
     },
     "execution_count": 6,
     "metadata": {},
     "output_type": "execute_result"
    }
   ],
   "source": [
    "test_df = pd.read_csv('../data/wells_pMHC_Cell/val_aggregated.tsv', sep='\\t', index_col=0)\n",
    "test_df = test_df.rename(columns={'NETMHC_BINDING_AFFINITY': 'NETMHC_PAN_BINDING_AFFINITY'})\n",
    "test_df['dataset'] = 'test'\n",
    "print(test_df.shape)\n",
    "test_df.head(2)"
   ]
  },
  {
   "cell_type": "code",
   "execution_count": 7,
   "metadata": {
    "scrolled": true
   },
   "outputs": [],
   "source": [
    "total = train_df.append(test_df)\n",
    "total[['NETMHC_PAN_BINDING_AFFINITY','BINDING_STABILITY','FOREIGNNESS','AGRETOPICITY','UMAP1','UMAP2','dataset']]\n",
    "total.to_csv('../data/wells_pMHC_Cell/total_aggregated.tsv', sep='\\t')"
   ]
  },
  {
   "cell_type": "code",
   "execution_count": 8,
   "metadata": {},
   "outputs": [
    {
     "name": "stdout",
     "output_type": "stream",
     "text": [
      "(908, 10)\n"
     ]
    },
    {
     "data": {
      "text/html": [
       "<div>\n",
       "<style scoped>\n",
       "    .dataframe tbody tr th:only-of-type {\n",
       "        vertical-align: middle;\n",
       "    }\n",
       "\n",
       "    .dataframe tbody tr th {\n",
       "        vertical-align: top;\n",
       "    }\n",
       "\n",
       "    .dataframe thead th {\n",
       "        text-align: right;\n",
       "    }\n",
       "</style>\n",
       "<table border=\"1\" class=\"dataframe\">\n",
       "  <thead>\n",
       "    <tr style=\"text-align: right;\">\n",
       "      <th></th>\n",
       "      <th>PATIENT_ID</th>\n",
       "      <th>MHC</th>\n",
       "      <th>NETMHC_PAN_BINDING_AFFINITY</th>\n",
       "      <th>BINDING_STABILITY</th>\n",
       "      <th>AGRETOPICITY</th>\n",
       "      <th>FOREIGNNESS</th>\n",
       "      <th>Entry</th>\n",
       "      <th>UMAP1</th>\n",
       "      <th>UMAP2</th>\n",
       "      <th>dataset</th>\n",
       "    </tr>\n",
       "  </thead>\n",
       "  <tbody>\n",
       "    <tr>\n",
       "      <th>0</th>\n",
       "      <td>3</td>\n",
       "      <td>A*01:01</td>\n",
       "      <td>132.1</td>\n",
       "      <td>0.76</td>\n",
       "      <td>0.019019</td>\n",
       "      <td>0.0</td>\n",
       "      <td>O60343</td>\n",
       "      <td>-0.731862</td>\n",
       "      <td>0.135755</td>\n",
       "      <td>train</td>\n",
       "    </tr>\n",
       "    <tr>\n",
       "      <th>1</th>\n",
       "      <td>3</td>\n",
       "      <td>A*01:01</td>\n",
       "      <td>251.7</td>\n",
       "      <td>2.20</td>\n",
       "      <td>0.838765</td>\n",
       "      <td>0.0</td>\n",
       "      <td>Q96BY9</td>\n",
       "      <td>-0.871912</td>\n",
       "      <td>-0.267886</td>\n",
       "      <td>train</td>\n",
       "    </tr>\n",
       "  </tbody>\n",
       "</table>\n",
       "</div>"
      ],
      "text/plain": [
       "   PATIENT_ID      MHC  NETMHC_PAN_BINDING_AFFINITY  BINDING_STABILITY  \\\n",
       "0           3  A*01:01                        132.1               0.76   \n",
       "1           3  A*01:01                        251.7               2.20   \n",
       "\n",
       "   AGRETOPICITY  FOREIGNNESS   Entry     UMAP1     UMAP2 dataset  \n",
       "0      0.019019          0.0  O60343 -0.731862  0.135755   train  \n",
       "1      0.838765          0.0  Q96BY9 -0.871912 -0.267886   train  "
      ]
     },
     "execution_count": 8,
     "metadata": {},
     "output_type": "execute_result"
    }
   ],
   "source": [
    "total = pd.read_csv('../data/wells_pMHC_Cell/total_aggregated.tsv', sep='\\t',\n",
    "                    usecols=['Entry','PATIENT_ID','MHC','NETMHC_PAN_BINDING_AFFINITY','BINDING_STABILITY',\n",
    "                             'FOREIGNNESS','AGRETOPICITY','UMAP1','UMAP2','dataset'])\n",
    "print(total.shape)\n",
    "total.head(2)"
   ]
  },
  {
   "cell_type": "code",
   "execution_count": 9,
   "metadata": {},
   "outputs": [
    {
     "name": "stdout",
     "output_type": "stream",
     "text": [
      "../data/wells_pMHC_Cell/Table_S2.dataset.tsv\n"
     ]
    }
   ],
   "source": [
    "savepath = '../data/wells_pMHC_Cell/Table_S2.dataset.tsv'\n",
    "print(savepath)\n",
    "total.to_csv(savepath, sep='\\t', index=False)"
   ]
  },
  {
   "cell_type": "markdown",
   "metadata": {},
   "source": [
    "### Fig3. Train on IEDB & Wells discovery set and test on Wells test set "
   ]
  },
  {
   "cell_type": "code",
   "execution_count": 10,
   "metadata": {
    "scrolled": true
   },
   "outputs": [],
   "source": [
    "# load entire IEDB dataset\n",
    "iedb_df = pd.read_csv('../data/IEDB/aggregated.hyperboloid_disk.10-01.tsv', sep='\\t')\n",
    "iedb_df = iedb_df.rename(columns={'nM':'NETMHC_PAN_BINDING_AFFINITY', 'immunogenic':'VALIDATED',\n",
    "                                  'Thalf(h)': 'BINDING_STABILITY','foreignness_score' :'FOREIGNNESS'})\n"
   ]
  },
  {
   "cell_type": "code",
   "execution_count": 11,
   "metadata": {},
   "outputs": [
    {
     "name": "stdout",
     "output_type": "stream",
     "text": [
      "(598, 42)\n",
      "(310, 37)\n"
     ]
    }
   ],
   "source": [
    "# load Wells discovery dataset\n",
    "train_df = pd.read_csv('../data/wells_pMHC_Cell/discovery_aggregated.tsv', sep='\\t')\n",
    "print(train_df.shape)\n",
    "\n",
    "# load Wells test dataset\n",
    "test_df_orig = pd.read_csv('../data/wells_pMHC_Cell/val_aggregated.tsv', sep='\\t')\n",
    "test_df_orig = test_df_orig.rename(columns={'NETMHC_BINDING_AFFINITY': 'NETMHC_PAN_BINDING_AFFINITY'})\n",
    "print(test_df_orig.shape)"
   ]
  },
  {
   "cell_type": "markdown",
   "metadata": {},
   "source": [
    "#### train/test model with location"
   ]
  },
  {
   "cell_type": "code",
   "execution_count": 12,
   "metadata": {},
   "outputs": [
    {
     "name": "stdout",
     "output_type": "stream",
     "text": [
      "best threshold: 0.7177790316955703\n"
     ]
    }
   ],
   "source": [
    "#############\n",
    "### TRAIN ###\n",
    "#############\n",
    "\n",
    "rf = RandomForestClassifier(random_state=2021, class_weight='balanced')\n",
    "xcols= ['NETMHC_PAN_BINDING_AFFINITY','BINDING_STABILITY','FOREIGNNESS', 'UMAP1','UMAP2']\n",
    "ycols='VALIDATED'\n",
    "\n",
    "model_df = iedb_df.append(train_df) # IEDB+Wells discovery\n",
    "model_df = model_df[xcols+[ycols]].dropna()\n",
    "rf.fit(model_df[xcols], model_df[ycols])\n",
    "\n",
    "############\n",
    "### TEST ###\n",
    "############\n",
    "\n",
    "xcols= ['NETMHC_PAN_BINDING_AFFINITY','BINDING_STABILITY','FOREIGNNESS','UMAP1','UMAP2']\n",
    "\n",
    "test_df = test_df_orig.copy()\n",
    "test_df = test_df[xcols+[ycols]].dropna()\n",
    "\n",
    "test_df['preds'] = rf.predict_proba(test_df[xcols])[:,1]            # get predictions\n",
    "umap_preds, umap_ytrue = test_df[['preds','VALIDATED']].T.values\n",
    "\n",
    "umap_fpr, umap_tpr, t = roc_curve(test_df[ycols], test_df['preds']) # get FPR, TPR, thresholds\n",
    "print('best threshold:',t[np.argmax(umap_tpr-umap_fpr)])            # print optimal threshold for preds\n",
    "umap_auc = roc_auc_score(test_df[ycols], test_df['preds'])          # calculate AUROC\n",
    "umap_pr, umap_re, _ = precision_recall_curve(test_df[ycols], test_df['preds'])  # get precision, recall\n",
    "umap_pr_auc = auc(umap_re, umap_pr)                                 # calculate AUPRC"
   ]
  },
  {
   "cell_type": "code",
   "execution_count": 13,
   "metadata": {},
   "outputs": [
    {
     "name": "stderr",
     "output_type": "stream",
     "text": [
      "/cellar/users/andreabc/miniconda3/lib/python3.6/site-packages/ipykernel_launcher.py:3: SettingWithCopyWarning:\n",
      "\n",
      "\n",
      "A value is trying to be set on a copy of a slice from a DataFrame.\n",
      "Try using .loc[row_indexer,col_indexer] = value instead\n",
      "\n",
      "See the caveats in the documentation: https://pandas.pydata.org/pandas-docs/stable/user_guide/indexing.html#returning-a-view-versus-a-copy\n",
      "\n"
     ]
    }
   ],
   "source": [
    "# save preds for further analysis\n",
    "r = test_df[['preds', ycols]]\n",
    "r['category'] = 'with location'"
   ]
  },
  {
   "cell_type": "markdown",
   "metadata": {},
   "source": [
    "#### train/test without location"
   ]
  },
  {
   "cell_type": "code",
   "execution_count": 14,
   "metadata": {},
   "outputs": [
    {
     "name": "stdout",
     "output_type": "stream",
     "text": [
      "best threshold: 0.19677748394408767\n"
     ]
    }
   ],
   "source": [
    "#############\n",
    "### TRAIN ###\n",
    "#############\n",
    "\n",
    "rf = RandomForestClassifier(random_state=2021, class_weight='balanced')\n",
    "xcols= ['NETMHC_PAN_BINDING_AFFINITY','BINDING_STABILITY','FOREIGNNESS']\n",
    "ycols='VALIDATED'\n",
    "\n",
    "model_df = iedb_df.append(train_df)\n",
    "model_df = model_df[xcols+[ycols]].dropna()\n",
    "\n",
    "rf.fit(model_df[xcols], model_df[ycols]) # fit model\n",
    "\n",
    "############\n",
    "### TEST ###\n",
    "############\n",
    "\n",
    "xcols= ['NETMHC_PAN_BINDING_AFFINITY','BINDING_STABILITY','FOREIGNNESS']\n",
    "test_df = test_df_orig.copy()\n",
    "test_df = test_df[xcols+[ycols]].dropna()\n",
    "\n",
    "test_df['preds'] = rf.predict_proba(test_df[xcols])[:,1]                       # make preds\n",
    "\n",
    "no_umap_fpr, no_umap_tpr, t = roc_curve(test_df[ycols], test_df['preds'])      # get FPR, TPR, thresholds\n",
    "print('best threshold:', t[np.argmax(no_umap_tpr-no_umap_fpr)])\n",
    "no_umap_auc = roc_auc_score(test_df[ycols], test_df['preds'])                  # calculate AUROC\n",
    "no_umap_pr, no_umap_re, _ = precision_recall_curve(test_df[ycols], test_df['preds']) # get precision, recall\n",
    "no_umap_pr_auc = auc(no_umap_re,no_umap_pr )                                   # calculate AUPRC"
   ]
  },
  {
   "cell_type": "markdown",
   "metadata": {},
   "source": [
    "#### Analyze differentially classified peptides"
   ]
  },
  {
   "cell_type": "code",
   "execution_count": 15,
   "metadata": {},
   "outputs": [],
   "source": [
    "# save preds for further analysis\n",
    "r = r.join(test_df[[*xcols,'preds']], rsuffix='no_loc')\n",
    "\n",
    "# binarize predictions according to best thresholds\n",
    "r['preds_bin'] = r['preds']>0.7177790316955703\n",
    "r['predsno_loc_bin'] = r['predsno_loc']>0.19677748394408767"
   ]
  },
  {
   "cell_type": "code",
   "execution_count": 16,
   "metadata": {},
   "outputs": [
    {
     "name": "stdout",
     "output_type": "stream",
     "text": [
      "../data/publication_figures/Fig3.Wells.RF_IEDB+Wells.compare_immuno_peptide_predictions.scatter.pdf\n"
     ]
    },
    {
     "data": {
      "image/png": "[encoded data removed]",
      "text/plain": [
       "<Figure size 432x432 with 1 Axes>"
      ]
     },
     "metadata": {
      "needs_background": "light"
     },
     "output_type": "display_data"
    }
   ],
   "source": [
    "plt.figure(figsize=(6,6))\n",
    "\n",
    "# prettier labels\n",
    "r['VALIDATED'] = r['VALIDATED'].replace({0:'non-immunogenic peptide', 1:'immunogenic peptide'})\n",
    "\n",
    "# plot optimal thresholds from model\n",
    "plt.axvline(0.7177790316955703,  ls='--',c='lightgrey')  \n",
    "plt.axhline(0.19677748394408767,  ls='--', c='lightgrey')\n",
    "\n",
    "# plot diff classified peptides\n",
    "sns.scatterplot(x='preds', y='predsno_loc', data=r.sort_values(by=['VALIDATED'], ascending=False), \n",
    "                hue='VALIDATED', palette='Set2')\n",
    "\n",
    "plt.xlabel('Immunogenicity predictions with location')\n",
    "plt.ylabel('Immunogenicity predictions without location')\n",
    "plt.legend()\n",
    "\n",
    "savepath = '../data/publication_figures/Fig3.Wells.RF_IEDB+Wells.compare_immuno_peptide_predictions.scatter.pdf'\n",
    "print(savepath)\n",
    "plt.savefig(savepath, bbox_inches='tight')\n",
    "\n",
    "plt.show()"
   ]
  },
  {
   "cell_type": "markdown",
   "metadata": {},
   "source": [
    "#### Plot AUROC with and without location"
   ]
  },
  {
   "cell_type": "code",
   "execution_count": 17,
   "metadata": {},
   "outputs": [
    {
     "name": "stdout",
     "output_type": "stream",
     "text": [
      "Saving to ../data/publication_figures/Fig3.IEDB+Wells_disc.AUROC.lineplot.pdf\n"
     ]
    },
    {
     "data": {
      "image/png": "[encoded data removed]",
      "text/plain": [
       "<Figure size 288x288 with 1 Axes>"
      ]
     },
     "metadata": {
      "needs_background": "light"
     },
     "output_type": "display_data"
    }
   ],
   "source": [
    "plt.figure(figsize=(4,4))\n",
    "\n",
    "# with location\n",
    "plt.plot(umap_fpr, umap_tpr, label='Incl. location (AUC: {:.2})'.format(umap_auc)) \n",
    "\n",
    "# without location\n",
    "plt.plot(no_umap_fpr, no_umap_tpr, label='Not incl. location (AUC: {:.2})'.format(no_umap_auc), color='k')\n",
    "\n",
    "# random indicator\n",
    "plt.plot([0,1],[0,1], ls='--', c='grey')\n",
    "\n",
    "plt.xlabel('False Positive Rate')\n",
    "plt.ylabel('True Positive Rate')\n",
    "\n",
    "plt.legend(bbox_to_anchor=(0.18,0.2), frameon=False)\n",
    "savepath = '../data/publication_figures/Fig3.IEDB+Wells_disc.AUROC.lineplot.pdf'\n",
    "print('Saving to {}'.format(savepath))\n",
    "plt.savefig(savepath, bbox_inches='tight')\n",
    "plt.show()"
   ]
  },
  {
   "cell_type": "markdown",
   "metadata": {},
   "source": [
    "#### Plot AUPRC with and without location"
   ]
  },
  {
   "cell_type": "code",
   "execution_count": 18,
   "metadata": {},
   "outputs": [
    {
     "name": "stdout",
     "output_type": "stream",
     "text": [
      "Saving to ../data/publication_figures/Fig3.IEDB+Wells_disc.AUPRC.lineplot.pdf\n"
     ]
    },
    {
     "data": {
      "image/png": "[encoded data removed]",
      "text/plain": [
       "<Figure size 288x288 with 1 Axes>"
      ]
     },
     "metadata": {
      "needs_background": "light"
     },
     "output_type": "display_data"
    }
   ],
   "source": [
    "plt.figure(figsize=(4,4))\n",
    "\n",
    "# with location\n",
    "plt.plot(umap_re,umap_pr, label='Incl. location (AUC: {:.2})'.format(umap_pr_auc))\n",
    "\n",
    "# without location\n",
    "plt.plot(no_umap_re,no_umap_pr,  label='Not incl. location (AUC: {:.2})'.format(no_umap_pr_auc), color='k')\n",
    "\n",
    "plt.xlabel('Recall'), plt.ylabel('Precision')\n",
    "plt.legend(loc='right',frameon=False)\n",
    "\n",
    "savepath = '../data/publication_figures/Fig3.IEDB+Wells_disc.AUPRC.lineplot.pdf'\n",
    "print('Saving to {}'.format(savepath))\n",
    "\n",
    "plt.savefig(savepath, bbox_inches='tight')\n",
    "plt.show()"
   ]
  },
  {
   "cell_type": "code",
   "execution_count": null,
   "metadata": {},
   "outputs": [],
   "source": []
  },
  {
   "cell_type": "code",
   "execution_count": null,
   "metadata": {},
   "outputs": [],
   "source": []
  }
 ],
 "metadata": {
  "kernelspec": {
   "display_name": "Python 3",
   "language": "python",
   "name": "python3"
  },
  "language_info": {
   "codemirror_mode": {
    "name": "ipython",
    "version": 3
   },
   "file_extension": ".py",
   "mimetype": "text/x-python",
   "name": "python",
   "nbconvert_exporter": "python",
   "pygments_lexer": "ipython3",
   "version": "3.6.8"
  }
 },
 "nbformat": 4,
 "nbformat_minor": 4
}
