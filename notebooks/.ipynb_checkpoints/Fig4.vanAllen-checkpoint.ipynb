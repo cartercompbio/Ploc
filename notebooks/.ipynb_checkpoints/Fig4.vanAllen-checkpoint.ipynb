{
 "cells": [
  {
   "cell_type": "code",
   "execution_count": 1,
   "metadata": {},
   "outputs": [],
   "source": [
    "import pandas as pd\n",
    "import numpy as np\n",
    "from statannot import add_stat_annotation\n",
    "from scipy.stats import fisher_exact\n",
    "from ast import literal_eval"
   ]
  },
  {
   "cell_type": "code",
   "execution_count": 2,
   "metadata": {},
   "outputs": [],
   "source": [
    "import sys\n",
    "sys.path.append('../utils/')\n",
    "from stat_annot_utils import create_pairs, create_hue_pairs, parse_results_from_statannot\n",
    "from plot_medians_in_boxplot import plot_medians_in_boxplot\n",
    "from cliffs_d import calc_boxplot_effect_size"
   ]
  },
  {
   "cell_type": "code",
   "execution_count": 3,
   "metadata": {},
   "outputs": [],
   "source": [
    "import matplotlib.pyplot as plt\n",
    "import seaborn as sns\n",
    "sns.set_style('white')\n",
    "sns.set_style('ticks')\n",
    "%matplotlib inline\n",
    "\n",
    "import matplotlib as mpl\n",
    "mpl.rcParams['pdf.fonttype'] = 42\n",
    "flierprops = dict(markerfacecolor='lightgrey',markeredgecolor='lightgrey')"
   ]
  },
  {
   "cell_type": "markdown",
   "metadata": {},
   "source": [
    "### Load data"
   ]
  },
  {
   "cell_type": "code",
   "execution_count": 4,
   "metadata": {},
   "outputs": [
    {
     "data": {
      "text/plain": [
       "368"
      ]
     },
     "execution_count": 4,
     "metadata": {},
     "output_type": "execute_result"
    }
   ],
   "source": [
    "# load locations previously observed to be immunogenic\n",
    "immunogenic_loc = np.load('../data/generated_data/previously_obs_immunogenic_loc.npy', allow_pickle=True)\n",
    "len(immunogenic_loc)"
   ]
  },
  {
   "cell_type": "code",
   "execution_count": 5,
   "metadata": {
    "scrolled": true
   },
   "outputs": [
    {
     "name": "stdout",
     "output_type": "stream",
     "text": [
      "(110, 40)\n",
      "(110, 41)\n"
     ]
    },
    {
     "data": {
      "text/html": [
       "<div>\n",
       "<style scoped>\n",
       "    .dataframe tbody tr th:only-of-type {\n",
       "        vertical-align: middle;\n",
       "    }\n",
       "\n",
       "    .dataframe tbody tr th {\n",
       "        vertical-align: top;\n",
       "    }\n",
       "\n",
       "    .dataframe thead th {\n",
       "        text-align: right;\n",
       "    }\n",
       "</style>\n",
       "<table border=\"1\" class=\"dataframe\">\n",
       "  <thead>\n",
       "    <tr style=\"text-align: right;\">\n",
       "      <th></th>\n",
       "      <th>age_start</th>\n",
       "      <th>gct</th>\n",
       "      <th>RECIST</th>\n",
       "      <th>overall_survival</th>\n",
       "      <th>progression_free</th>\n",
       "      <th>primary</th>\n",
       "      <th>group</th>\n",
       "      <th>histology</th>\n",
       "      <th>stage</th>\n",
       "      <th>M</th>\n",
       "      <th>...</th>\n",
       "      <th>mtc_tumor</th>\n",
       "      <th>mtc_normal</th>\n",
       "      <th>hla.a1</th>\n",
       "      <th>hla.a2</th>\n",
       "      <th>hla.b1</th>\n",
       "      <th>hla.b2</th>\n",
       "      <th>hla.c1</th>\n",
       "      <th>hla.c2</th>\n",
       "      <th>&gt;6mo</th>\n",
       "      <th>response_CR_PR_SD6</th>\n",
       "    </tr>\n",
       "    <tr>\n",
       "      <th>patient</th>\n",
       "      <th></th>\n",
       "      <th></th>\n",
       "      <th></th>\n",
       "      <th></th>\n",
       "      <th></th>\n",
       "      <th></th>\n",
       "      <th></th>\n",
       "      <th></th>\n",
       "      <th></th>\n",
       "      <th></th>\n",
       "      <th></th>\n",
       "      <th></th>\n",
       "      <th></th>\n",
       "      <th></th>\n",
       "      <th></th>\n",
       "      <th></th>\n",
       "      <th></th>\n",
       "      <th></th>\n",
       "      <th></th>\n",
       "      <th></th>\n",
       "      <th></th>\n",
       "    </tr>\n",
       "  </thead>\n",
       "  <tbody>\n",
       "    <tr>\n",
       "      <th>Pat02</th>\n",
       "      <td>42</td>\n",
       "      <td>1</td>\n",
       "      <td>SD</td>\n",
       "      <td>1632</td>\n",
       "      <td>538</td>\n",
       "      <td>occult</td>\n",
       "      <td>response</td>\n",
       "      <td>Unknown or NA</td>\n",
       "      <td>Stage 4</td>\n",
       "      <td>M1c</td>\n",
       "      <td>...</td>\n",
       "      <td>125.846615</td>\n",
       "      <td>34.933691</td>\n",
       "      <td>HLA-A02:01</td>\n",
       "      <td>HLA-A26:01</td>\n",
       "      <td>HLA-B08:01</td>\n",
       "      <td>HLA-B07:02</td>\n",
       "      <td>HLA-C07:02</td>\n",
       "      <td>HLA-C07:02</td>\n",
       "      <td>True</td>\n",
       "      <td>responder</td>\n",
       "    </tr>\n",
       "    <tr>\n",
       "      <th>Pat03</th>\n",
       "      <td>61</td>\n",
       "      <td>1</td>\n",
       "      <td>PD</td>\n",
       "      <td>100</td>\n",
       "      <td>76</td>\n",
       "      <td>skin</td>\n",
       "      <td>nonresponse</td>\n",
       "      <td>Acrolentigenous</td>\n",
       "      <td>Stage 4</td>\n",
       "      <td>M1c</td>\n",
       "      <td>...</td>\n",
       "      <td>228.711135</td>\n",
       "      <td>158.387861</td>\n",
       "      <td>HLA-A03:01</td>\n",
       "      <td>HLA-A29:01</td>\n",
       "      <td>HLA-B07:05</td>\n",
       "      <td>HLA-B35:01</td>\n",
       "      <td>HLA-C15:05</td>\n",
       "      <td>HLA-C04:01</td>\n",
       "      <td>False</td>\n",
       "      <td>nonresponder</td>\n",
       "    </tr>\n",
       "  </tbody>\n",
       "</table>\n",
       "<p>2 rows × 41 columns</p>\n",
       "</div>"
      ],
      "text/plain": [
       "         age_start  gct RECIST  overall_survival  progression_free primary  \\\n",
       "patient                                                                      \n",
       "Pat02           42    1     SD              1632               538  occult   \n",
       "Pat03           61    1     PD               100                76    skin   \n",
       "\n",
       "               group        histology    stage    M  ...   mtc_tumor  \\\n",
       "patient                                              ...               \n",
       "Pat02       response    Unknown or NA  Stage 4  M1c  ...  125.846615   \n",
       "Pat03    nonresponse  Acrolentigenous  Stage 4  M1c  ...  228.711135   \n",
       "\n",
       "         mtc_normal      hla.a1      hla.a2      hla.b1      hla.b2  \\\n",
       "patient                                                               \n",
       "Pat02     34.933691  HLA-A02:01  HLA-A26:01  HLA-B08:01  HLA-B07:02   \n",
       "Pat03    158.387861  HLA-A03:01  HLA-A29:01  HLA-B07:05  HLA-B35:01   \n",
       "\n",
       "             hla.c1      hla.c2   >6mo  response_CR_PR_SD6  \n",
       "patient                                                     \n",
       "Pat02    HLA-C07:02  HLA-C07:02   True           responder  \n",
       "Pat03    HLA-C15:05  HLA-C04:01  False        nonresponder  \n",
       "\n",
       "[2 rows x 41 columns]"
      ]
     },
     "execution_count": 5,
     "metadata": {},
     "output_type": "execute_result"
    }
   ],
   "source": [
    "# load clinical data from manuscript\n",
    "clinical_df = pd.read_excel('../data/vanAllen/clinical_HLA_tableS2.xlsx', )\n",
    "print(clinical_df.shape)\n",
    "\n",
    "clinical_df['>6mo'] = clinical_df['overall_survival'].apply(lambda x: x/30.417 > 6) # 6 months to weeks\n",
    "\n",
    "\n",
    "responders = clinical_df[(clinical_df['RECIST'].isin(['PR','CR']))|\n",
    "                      ((clinical_df['RECIST']=='SD')&(clinical_df['>6mo'])==True)]['patient'].unique()\n",
    "clinical_df['response_CR_PR_SD6'] = clinical_df['patient'].apply(lambda x: 'responder' if x in responders \n",
    "                                                                 else 'nonresponder')\n",
    "clinical_df = clinical_df.set_index('patient')\n",
    "print(clinical_df.shape)\n",
    "clinical_df.head(2)"
   ]
  },
  {
   "cell_type": "code",
   "execution_count": 6,
   "metadata": {},
   "outputs": [
    {
     "name": "stderr",
     "output_type": "stream",
     "text": [
      "/cellar/users/andreabc/miniconda3/lib/python3.6/site-packages/IPython/core/interactiveshell.py:3020: DtypeWarning: Columns (7) have mixed types.Specify dtype option on import or set low_memory=False.\n",
      "  interactivity=interactivity, compiler=compiler, result=result)\n"
     ]
    },
    {
     "name": "stdout",
     "output_type": "stream",
     "text": [
      "(74034, 45)\n"
     ]
    },
    {
     "data": {
      "text/html": [
       "<div>\n",
       "<style scoped>\n",
       "    .dataframe tbody tr th:only-of-type {\n",
       "        vertical-align: middle;\n",
       "    }\n",
       "\n",
       "    .dataframe tbody tr th {\n",
       "        vertical-align: top;\n",
       "    }\n",
       "\n",
       "    .dataframe thead th {\n",
       "        text-align: right;\n",
       "    }\n",
       "</style>\n",
       "<table border=\"1\" class=\"dataframe\">\n",
       "  <thead>\n",
       "    <tr style=\"text-align: right;\">\n",
       "      <th></th>\n",
       "      <th>patient</th>\n",
       "      <th>transcript</th>\n",
       "      <th>gene</th>\n",
       "      <th>gene_number</th>\n",
       "      <th>cdna_change</th>\n",
       "      <th>protein_change</th>\n",
       "      <th>neoORF_status</th>\n",
       "      <th>is_frameshift</th>\n",
       "      <th>peptide_pos</th>\n",
       "      <th>peptide_length</th>\n",
       "      <th>...</th>\n",
       "      <th>UMAP2</th>\n",
       "      <th>nmer</th>\n",
       "      <th>foreignness_score</th>\n",
       "      <th>Peptide</th>\n",
       "      <th>nM</th>\n",
       "      <th>Rank</th>\n",
       "      <th>HLA allele</th>\n",
       "      <th>Thalf(h)</th>\n",
       "      <th>agretopicity</th>\n",
       "      <th>prev_seen_immuno</th>\n",
       "    </tr>\n",
       "  </thead>\n",
       "  <tbody>\n",
       "    <tr>\n",
       "      <th>0</th>\n",
       "      <td>Pat143</td>\n",
       "      <td>uc011dqc.1</td>\n",
       "      <td>HLA-DRB5</td>\n",
       "      <td>3127</td>\n",
       "      <td>c.290A&gt;C</td>\n",
       "      <td>p.*97S</td>\n",
       "      <td>mut|yes</td>\n",
       "      <td>nonstop</td>\n",
       "      <td>6</td>\n",
       "      <td>9</td>\n",
       "      <td>...</td>\n",
       "      <td>-0.577704</td>\n",
       "      <td>NaN</td>\n",
       "      <td>0.0</td>\n",
       "      <td>TFSSSFRNR</td>\n",
       "      <td>424.3188</td>\n",
       "      <td>2.0871</td>\n",
       "      <td>HLA-A68:01</td>\n",
       "      <td>0.1816</td>\n",
       "      <td>NaN</td>\n",
       "      <td>False</td>\n",
       "    </tr>\n",
       "    <tr>\n",
       "      <th>1</th>\n",
       "      <td>Pat143</td>\n",
       "      <td>uc011dqc.1</td>\n",
       "      <td>HLA-DRB5</td>\n",
       "      <td>3127</td>\n",
       "      <td>c.290A&gt;C</td>\n",
       "      <td>p.*97S</td>\n",
       "      <td>mut|yes</td>\n",
       "      <td>nonstop</td>\n",
       "      <td>4</td>\n",
       "      <td>10</td>\n",
       "      <td>...</td>\n",
       "      <td>-0.577704</td>\n",
       "      <td>NaN</td>\n",
       "      <td>0.0</td>\n",
       "      <td>TGNTFSSSFR</td>\n",
       "      <td>76.6534</td>\n",
       "      <td>0.7549</td>\n",
       "      <td>HLA-A68:01</td>\n",
       "      <td>0.3093</td>\n",
       "      <td>NaN</td>\n",
       "      <td>False</td>\n",
       "    </tr>\n",
       "  </tbody>\n",
       "</table>\n",
       "<p>2 rows × 45 columns</p>\n",
       "</div>"
      ],
      "text/plain": [
       "  patient  transcript      gene gene_number cdna_change protein_change  \\\n",
       "0  Pat143  uc011dqc.1  HLA-DRB5        3127    c.290A>C         p.*97S   \n",
       "1  Pat143  uc011dqc.1  HLA-DRB5        3127    c.290A>C         p.*97S   \n",
       "\n",
       "  neoORF_status is_frameshift  peptide_pos  peptide_length  ...     UMAP2  \\\n",
       "0       mut|yes       nonstop            6               9  ... -0.577704   \n",
       "1       mut|yes       nonstop            4              10  ... -0.577704   \n",
       "\n",
       "  nmer foreignness_score     Peptide        nM    Rank  HLA allele  Thalf(h)  \\\n",
       "0  NaN               0.0   TFSSSFRNR  424.3188  2.0871  HLA-A68:01    0.1816   \n",
       "1  NaN               0.0  TGNTFSSSFR   76.6534  0.7549  HLA-A68:01    0.3093   \n",
       "\n",
       "  agretopicity  prev_seen_immuno  \n",
       "0          NaN             False  \n",
       "1          NaN             False  \n",
       "\n",
       "[2 rows x 45 columns]"
      ]
     },
     "execution_count": 6,
     "metadata": {},
     "output_type": "execute_result"
    }
   ],
   "source": [
    "# load mutations with location, affinity, etc info\n",
    "merged_df = pd.read_csv('../data/vanAllen/aggregated.tsv.gz', sep='\\t')\n",
    "merged_df['cc_ids'] = merged_df['cc_ids'].apply(literal_eval)\n",
    "merged_df['prev_seen_immuno'] = merged_df['cc_ids'].apply(lambda x: frozenset(x) in immunogenic_loc)\n",
    "\n",
    "print(merged_df.shape)\n",
    "merged_df.head(2)"
   ]
  },
  {
   "cell_type": "code",
   "execution_count": 7,
   "metadata": {},
   "outputs": [],
   "source": [
    "# join with clinical data\n",
    "merged_df = merged_df.set_index('patient').join(clinical_df, how='left')"
   ]
  },
  {
   "cell_type": "markdown",
   "metadata": {},
   "source": [
    "#### Check for relationship between response and burden of mutations from prev. seen immunogenic locations"
   ]
  },
  {
   "cell_type": "code",
   "execution_count": 8,
   "metadata": {},
   "outputs": [
    {
     "name": "stdout",
     "output_type": "stream",
     "text": [
      "(0.9575639776601313, 0.2409718235400325)\n"
     ]
    },
    {
     "data": {
      "text/html": [
       "<div>\n",
       "<style scoped>\n",
       "    .dataframe tbody tr th:only-of-type {\n",
       "        vertical-align: middle;\n",
       "    }\n",
       "\n",
       "    .dataframe tbody tr th {\n",
       "        vertical-align: top;\n",
       "    }\n",
       "\n",
       "    .dataframe thead th {\n",
       "        text-align: right;\n",
       "    }\n",
       "</style>\n",
       "<table border=\"1\" class=\"dataframe\">\n",
       "  <thead>\n",
       "    <tr style=\"text-align: right;\">\n",
       "      <th>group</th>\n",
       "      <th>response</th>\n",
       "      <th>nonresponse</th>\n",
       "    </tr>\n",
       "    <tr>\n",
       "      <th>prev_seen_immuno</th>\n",
       "      <th></th>\n",
       "      <th></th>\n",
       "    </tr>\n",
       "  </thead>\n",
       "  <tbody>\n",
       "    <tr>\n",
       "      <th>True</th>\n",
       "      <td>1596</td>\n",
       "      <td>2661</td>\n",
       "    </tr>\n",
       "    <tr>\n",
       "      <th>False</th>\n",
       "      <td>4682</td>\n",
       "      <td>7475</td>\n",
       "    </tr>\n",
       "  </tbody>\n",
       "</table>\n",
       "</div>"
      ],
      "text/plain": [
       "group             response  nonresponse\n",
       "prev_seen_immuno                       \n",
       "True                  1596         2661\n",
       "False                 4682         7475"
      ]
     },
     "execution_count": 8,
     "metadata": {},
     "output_type": "execute_result"
    }
   ],
   "source": [
    "# focus on unique genes in each patient\n",
    "fisher_df = merged_df.reset_index().drop_duplicates(subset=['gene','patient'])\n",
    "\n",
    "ct = pd.crosstab(fisher_df['prev_seen_immuno'], fisher_df['group'])\n",
    "ct = ct[['response','nonresponse']]    \n",
    "ct = ct.sort_index(ascending=False, axis=0)\n",
    "print(fisher_exact(ct))\n",
    "ct"
   ]
  },
  {
   "cell_type": "markdown",
   "metadata": {},
   "source": [
    "### Filtering out never seen locations and perform TMB stratification analysis"
   ]
  },
  {
   "cell_type": "code",
   "execution_count": 9,
   "metadata": {},
   "outputs": [
    {
     "name": "stdout",
     "output_type": "stream",
     "text": [
      "(74034, 85)\n",
      "(20878, 85)\n"
     ]
    }
   ],
   "source": [
    "filtered_df = merged_df[merged_df['cc_ids'].apply(frozenset).isin(immunogenic_loc)]\n",
    "\n",
    "print(merged_df.shape)\n",
    "print(filtered_df.shape)"
   ]
  },
  {
   "cell_type": "code",
   "execution_count": 10,
   "metadata": {},
   "outputs": [
    {
     "data": {
      "text/plain": [
       "((105, 1), (106, 1))"
      ]
     },
     "execution_count": 10,
     "metadata": {},
     "output_type": "execute_result"
    }
   ],
   "source": [
    "# recalculate TMB using thresholds defined in the manuscript\n",
    "aff_thresh = 500\n",
    "\n",
    "filtered_burden = filtered_df.pivot_table(index='patient', values='nM', aggfunc=lambda x: len(x[x<aff_thresh]))\n",
    "filtered_burden.columns = ['filtered_burden']\n",
    "\n",
    "burden = merged_df.pivot_table(index='patient', values='nM', aggfunc=lambda x: len(x[x<aff_thresh]))\n",
    "burden.columns = ['unfiltered_burden']\n",
    "\n",
    "filtered_burden.shape, burden.shape"
   ]
  },
  {
   "cell_type": "code",
   "execution_count": 11,
   "metadata": {
    "scrolled": true
   },
   "outputs": [
    {
     "name": "stdout",
     "output_type": "stream",
     "text": [
      "(110, 39)\n",
      "(110, 42)\n"
     ]
    },
    {
     "data": {
      "text/html": [
       "<div>\n",
       "<style scoped>\n",
       "    .dataframe tbody tr th:only-of-type {\n",
       "        vertical-align: middle;\n",
       "    }\n",
       "\n",
       "    .dataframe tbody tr th {\n",
       "        vertical-align: top;\n",
       "    }\n",
       "\n",
       "    .dataframe thead th {\n",
       "        text-align: right;\n",
       "    }\n",
       "</style>\n",
       "<table border=\"1\" class=\"dataframe\">\n",
       "  <thead>\n",
       "    <tr style=\"text-align: right;\">\n",
       "      <th></th>\n",
       "      <th>age_start</th>\n",
       "      <th>gct</th>\n",
       "      <th>RECIST</th>\n",
       "      <th>overall_survival</th>\n",
       "      <th>progression_free</th>\n",
       "      <th>primary</th>\n",
       "      <th>group</th>\n",
       "      <th>histology</th>\n",
       "      <th>stage</th>\n",
       "      <th>M</th>\n",
       "      <th>...</th>\n",
       "      <th>mtc_normal</th>\n",
       "      <th>hla.a1</th>\n",
       "      <th>hla.a2</th>\n",
       "      <th>hla.b1</th>\n",
       "      <th>hla.b2</th>\n",
       "      <th>hla.c1</th>\n",
       "      <th>hla.c2</th>\n",
       "      <th>filtered_burden</th>\n",
       "      <th>unfiltered_burden</th>\n",
       "      <th>female=1</th>\n",
       "    </tr>\n",
       "    <tr>\n",
       "      <th>patient</th>\n",
       "      <th></th>\n",
       "      <th></th>\n",
       "      <th></th>\n",
       "      <th></th>\n",
       "      <th></th>\n",
       "      <th></th>\n",
       "      <th></th>\n",
       "      <th></th>\n",
       "      <th></th>\n",
       "      <th></th>\n",
       "      <th></th>\n",
       "      <th></th>\n",
       "      <th></th>\n",
       "      <th></th>\n",
       "      <th></th>\n",
       "      <th></th>\n",
       "      <th></th>\n",
       "      <th></th>\n",
       "      <th></th>\n",
       "      <th></th>\n",
       "      <th></th>\n",
       "    </tr>\n",
       "  </thead>\n",
       "  <tbody>\n",
       "    <tr>\n",
       "      <th>Pat02</th>\n",
       "      <td>42</td>\n",
       "      <td>1</td>\n",
       "      <td>SD</td>\n",
       "      <td>1632</td>\n",
       "      <td>538</td>\n",
       "      <td>occult</td>\n",
       "      <td>response</td>\n",
       "      <td>Unknown or NA</td>\n",
       "      <td>Stage 4</td>\n",
       "      <td>M1c</td>\n",
       "      <td>...</td>\n",
       "      <td>34.933691</td>\n",
       "      <td>HLA-A02:01</td>\n",
       "      <td>HLA-A26:01</td>\n",
       "      <td>HLA-B08:01</td>\n",
       "      <td>HLA-B07:02</td>\n",
       "      <td>HLA-C07:02</td>\n",
       "      <td>HLA-C07:02</td>\n",
       "      <td>51.0</td>\n",
       "      <td>122.0</td>\n",
       "      <td>1</td>\n",
       "    </tr>\n",
       "    <tr>\n",
       "      <th>Pat03</th>\n",
       "      <td>61</td>\n",
       "      <td>1</td>\n",
       "      <td>PD</td>\n",
       "      <td>100</td>\n",
       "      <td>76</td>\n",
       "      <td>skin</td>\n",
       "      <td>nonresponse</td>\n",
       "      <td>Acrolentigenous</td>\n",
       "      <td>Stage 4</td>\n",
       "      <td>M1c</td>\n",
       "      <td>...</td>\n",
       "      <td>158.387861</td>\n",
       "      <td>HLA-A03:01</td>\n",
       "      <td>HLA-A29:01</td>\n",
       "      <td>HLA-B07:05</td>\n",
       "      <td>HLA-B35:01</td>\n",
       "      <td>HLA-C15:05</td>\n",
       "      <td>HLA-C04:01</td>\n",
       "      <td>55.0</td>\n",
       "      <td>274.0</td>\n",
       "      <td>1</td>\n",
       "    </tr>\n",
       "  </tbody>\n",
       "</table>\n",
       "<p>2 rows × 42 columns</p>\n",
       "</div>"
      ],
      "text/plain": [
       "         age_start  gct RECIST  overall_survival  progression_free primary  \\\n",
       "patient                                                                      \n",
       "Pat02           42    1     SD              1632               538  occult   \n",
       "Pat03           61    1     PD               100                76    skin   \n",
       "\n",
       "               group        histology    stage    M  ...  mtc_normal  \\\n",
       "patient                                              ...               \n",
       "Pat02       response    Unknown or NA  Stage 4  M1c  ...   34.933691   \n",
       "Pat03    nonresponse  Acrolentigenous  Stage 4  M1c  ...  158.387861   \n",
       "\n",
       "             hla.a1      hla.a2      hla.b1      hla.b2      hla.c1  \\\n",
       "patient                                                               \n",
       "Pat02    HLA-A02:01  HLA-A26:01  HLA-B08:01  HLA-B07:02  HLA-C07:02   \n",
       "Pat03    HLA-A03:01  HLA-A29:01  HLA-B07:05  HLA-B35:01  HLA-C15:05   \n",
       "\n",
       "             hla.c2 filtered_burden unfiltered_burden  female=1  \n",
       "patient                                                          \n",
       "Pat02    HLA-C07:02            51.0             122.0         1  \n",
       "Pat03    HLA-C04:01            55.0             274.0         1  \n",
       "\n",
       "[2 rows x 42 columns]"
      ]
     },
     "execution_count": 11,
     "metadata": {},
     "output_type": "execute_result"
    }
   ],
   "source": [
    "# add clinical info\n",
    "clinical_df = pd.read_excel('../data/vanAllen/clinical_HLA_tableS2.xlsx', index_col='patient')\n",
    "print(clinical_df.shape)\n",
    "\n",
    "clinical_df = clinical_df.join(filtered_burden).join(burden)\n",
    "clinical_df['female=1'] = clinical_df['gender'].replace({'female':1, 'male':0})\n",
    "\n",
    "print(clinical_df.shape)\n",
    "clinical_df.head(2)"
   ]
  },
  {
   "cell_type": "markdown",
   "metadata": {},
   "source": [
    "### Predict immunogneic peptides with IEDB+Wells+Liu (OV) model"
   ]
  },
  {
   "cell_type": "code",
   "execution_count": 12,
   "metadata": {},
   "outputs": [],
   "source": [
    "import joblib\n",
    "from sklearn.ensemble import RandomForestClassifier\n",
    "from sklearn.metrics import roc_auc_score, precision_recall_curve, auc, roc_curve"
   ]
  },
  {
   "cell_type": "code",
   "execution_count": 13,
   "metadata": {},
   "outputs": [
    {
     "name": "stdout",
     "output_type": "stream",
     "text": [
      "(74034, 85)\n"
     ]
    }
   ],
   "source": [
    "# model with location\n",
    "rf = joblib.load('../data/generated_data/Wells_and_IEDB_and_Liu.RF.train_all.aff_stab_foreign_loc.hyperboloid_disk.joblib')\n",
    "\n",
    "xcols = ['nM','Thalf(h)','foreignness_score', 'UMAP1', 'UMAP2'] \n",
    "model_loc_df = merged_df.dropna(subset=xcols)\n",
    "print(model_loc_df.shape)\n",
    "\n",
    "model_loc_df['preds'] = rf.predict_proba(model_loc_df[xcols])[:,1]"
   ]
  },
  {
   "cell_type": "code",
   "execution_count": 14,
   "metadata": {},
   "outputs": [
    {
     "name": "stdout",
     "output_type": "stream",
     "text": [
      "(74034, 86)\n"
     ]
    }
   ],
   "source": [
    "# model without location\n",
    "rf = joblib.load('../data/generated_data/Wells_and_IEDB_and_Liu.RF.train_all.aff_stab_foreign.hyperboloid_disk.joblib')\n",
    "\n",
    "xcols = ['nM','Thalf(h)','foreignness_score']\n",
    "model_noloc_df = merged_df.dropna(subset=xcols)\n",
    "\n",
    "print(model_loc_df.shape)\n",
    "\n",
    "model_noloc_df['preds'] = rf.predict_proba(model_noloc_df[xcols])[:,1]"
   ]
  },
  {
   "cell_type": "code",
   "execution_count": 15,
   "metadata": {
    "scrolled": true
   },
   "outputs": [],
   "source": [
    "# calculate new TMB using optimal thresholds from model crossvalidation\n",
    "\n",
    "model_loc = model_loc_df[model_loc_df['preds']>0.35].pivot_table(index='patient', values='peptide_mut', aggfunc='count')\n",
    "model_noloc = model_noloc_df[model_noloc_df['preds']>0.375].pivot_table(index='patient', values='peptide_mut', aggfunc='count')\n",
    "model_tmb_only_df = merged_df.dropna(subset=xcols)[merged_df.dropna(subset=xcols)['nM']<500].pivot_table(index='patient', values='peptide_mut', aggfunc='count')"
   ]
  },
  {
   "cell_type": "code",
   "execution_count": 16,
   "metadata": {
    "scrolled": false
   },
   "outputs": [
    {
     "name": "stdout",
     "output_type": "stream",
     "text": [
      "model_loc Effect size: nonresponse/response r=0.225\n",
      "model_noloc Effect size: nonresponse/response r=0.205\n",
      "tmb_500nM Effect size: nonresponse/response r=0.183\n",
      "../data/publication_figures/Fig4.VanAllen_filtered_TMB.boxplot.pdf\n"
     ]
    },
    {
     "data": {
      "image/png": "[encoded data removed]",
      "text/plain": [
       "<Figure size 648x288 with 3 Axes>"
      ]
     },
     "metadata": {
      "needs_background": "light"
     },
     "output_type": "display_data"
    }
   ],
   "source": [
    "e_list, label_list = [],[]\n",
    "ylabel_dict = {'model_loc': 'Number of predicted neoantigens (with location)',\n",
    "               'model_noloc': 'Number of predicted neoantigens (without location)',\n",
    "               'tmb_500nM': 'Number of predicted neoantigens (<500nM)'}\n",
    "\n",
    "plt.figure(figsize=(9,4))\n",
    "i=0\n",
    "for l, df in [('model_loc', model_loc),('model_noloc', model_noloc),('tmb_500nM', model_tmb_only_df)]:\n",
    "    plt.subplot(1,3,i+1)\n",
    "    clinical_df = pd.read_excel('../data/vanAllen/clinical_HLA_tableS2.xlsx')\n",
    "    clinical_df = clinical_df.set_index('patient').join(df)\n",
    "\n",
    "    x, y = 'group','peptide_mut'\n",
    "    order = clinical_df[x].unique()\n",
    "\n",
    "    bp = sns.boxplot(x=x, y=y, data=clinical_df, palette='Blues',flierprops=flierprops, )\n",
    "    plt.ylim(-10,350) if i < 2 else plt.ylim(-10,800)\n",
    "    stat_res= add_stat_annotation(ax=bp, x=x, y=y, box_pairs=create_pairs(order), order=order, \n",
    "                        test='Mann-Whitney',comparisons_correction=None, text_format='simple',\n",
    "                        data=clinical_df, loc='outside', verbose=False)\n",
    "    stat_res = parse_results_from_statannot(stat_res)\n",
    "    \n",
    "    for pair in create_pairs(order):\n",
    "        pair = sorted(pair)\n",
    "        U = stat_res[tuple(pair)][0]\n",
    "        e = calc_boxplot_effect_size(len(clinical_df[clinical_df[x]==pair[0]]), len(clinical_df[clinical_df[x]==pair[1]]), U)\n",
    "    \n",
    "        if pair == ['nonresponse','response']:\n",
    "            print(l, 'Effect size: {} r={:.3}'.format('/'.join(pair), e))\n",
    "            e_list.append(e)\n",
    "    \n",
    "\n",
    "    medians = clinical_df.groupby([x])[y].median()\n",
    "    plot_medians_in_boxplot(medians, vertical_offset=10, ax=bp)\n",
    "    plt.ylim(-10,500) if i < 2 else plt.ylim(-10,1100)\n",
    "    counts = clinical_df[x].value_counts()\n",
    "    if l in ylabel_dict:\n",
    "        plt.ylabel(ylabel_dict[l])\n",
    "    \n",
    "    format_xtick_dict = {'long-survival': 'long\\nsurvival', 'nonresponse':'non\\nresponse','response':'response'}\n",
    "    plt.xlabel('')\n",
    "    bp.set_xticklabels(['{}\\n({})'.format(format_xtick_dict[x.get_text()], counts.loc[x.get_text()]) for x in bp.get_xticklabels()])\n",
    "    i+=1\n",
    "    \n",
    "\n",
    "\n",
    "#     plt.xticks(rotation=45, ha='right')\n",
    "plt.tight_layout()\n",
    "savepath = '../data/publication_figures/Fig4.VanAllen_filtered_TMB.boxplot.pdf'\n",
    "print(savepath)\n",
    "plt.savefig(savepath, bbox_inches='tight')\n",
    "plt.show()"
   ]
  },
  {
   "cell_type": "markdown",
   "metadata": {},
   "source": [
    "#### Plot effect sizes\n",
    "- Liu values from Fig4.LiuNatMed.ipynb"
   ]
  },
  {
   "cell_type": "code",
   "execution_count": 17,
   "metadata": {},
   "outputs": [
    {
     "data": {
      "text/html": [
       "<div>\n",
       "<style scoped>\n",
       "    .dataframe tbody tr th:only-of-type {\n",
       "        vertical-align: middle;\n",
       "    }\n",
       "\n",
       "    .dataframe tbody tr th {\n",
       "        vertical-align: top;\n",
       "    }\n",
       "\n",
       "    .dataframe thead th {\n",
       "        text-align: right;\n",
       "    }\n",
       "</style>\n",
       "<table border=\"1\" class=\"dataframe\">\n",
       "  <thead>\n",
       "    <tr style=\"text-align: right;\">\n",
       "      <th></th>\n",
       "      <th>index</th>\n",
       "      <th>study</th>\n",
       "      <th>Effect size (Cliff's d)</th>\n",
       "    </tr>\n",
       "  </thead>\n",
       "  <tbody>\n",
       "    <tr>\n",
       "      <th>0</th>\n",
       "      <td>Filtering by predicted non-immunogneic\\npeptid...</td>\n",
       "      <td>Liu (NatMed)</td>\n",
       "      <td>0.408854</td>\n",
       "    </tr>\n",
       "    <tr>\n",
       "      <th>1</th>\n",
       "      <td>Filtering by predicted non-immunogneic\\npeptid...</td>\n",
       "      <td>Liu (NatMed)</td>\n",
       "      <td>0.383557</td>\n",
       "    </tr>\n",
       "    <tr>\n",
       "      <th>2</th>\n",
       "      <td>Filtering by &lt;500nM peptides</td>\n",
       "      <td>Liu (NatMed)</td>\n",
       "      <td>0.313988</td>\n",
       "    </tr>\n",
       "    <tr>\n",
       "      <th>3</th>\n",
       "      <td>Filtering by predicted non-immunogneic\\npeptid...</td>\n",
       "      <td>VanAllen</td>\n",
       "      <td>0.224759</td>\n",
       "    </tr>\n",
       "    <tr>\n",
       "      <th>4</th>\n",
       "      <td>Filtering by predicted non-immunogneic\\npeptid...</td>\n",
       "      <td>VanAllen</td>\n",
       "      <td>0.204972</td>\n",
       "    </tr>\n",
       "    <tr>\n",
       "      <th>5</th>\n",
       "      <td>Filtering by &lt;500nM peptides</td>\n",
       "      <td>VanAllen</td>\n",
       "      <td>0.182648</td>\n",
       "    </tr>\n",
       "  </tbody>\n",
       "</table>\n",
       "</div>"
      ],
      "text/plain": [
       "                                               index         study  \\\n",
       "0  Filtering by predicted non-immunogneic\\npeptid...  Liu (NatMed)   \n",
       "1  Filtering by predicted non-immunogneic\\npeptid...  Liu (NatMed)   \n",
       "2                       Filtering by <500nM peptides  Liu (NatMed)   \n",
       "3  Filtering by predicted non-immunogneic\\npeptid...      VanAllen   \n",
       "4  Filtering by predicted non-immunogneic\\npeptid...      VanAllen   \n",
       "5                       Filtering by <500nM peptides      VanAllen   \n",
       "\n",
       "   Effect size (Cliff's d)  \n",
       "0                 0.408854  \n",
       "1                 0.383557  \n",
       "2                 0.313988  \n",
       "3                 0.224759  \n",
       "4                 0.204972  \n",
       "5                 0.182648  "
      ]
     },
     "execution_count": 17,
     "metadata": {},
     "output_type": "execute_result"
    }
   ],
   "source": [
    "liu_e_list = [0.40885416666666663, 0.38355654761904767, 0.31398809523809523]\n",
    "vanAllen_e_list = [0.22475900558092343, 0.20497209538305428, 0.182648401826484]\n",
    "\n",
    "e_df = pd.DataFrame({'Liu (NatMed)': liu_e_list, 'VanAllen': vanAllen_e_list}, \n",
    "                    index=['Filtering by predicted non-immunogneic\\npeptides (location model)',\n",
    "                           'Filtering by predicted non-immunogneic\\npeptides (non-location model)',\n",
    "                           'Filtering by <500nM peptides'])\n",
    "e_df = pd.melt(e_df.reset_index(), id_vars=['index'], value_name='Effect size (Cliff\\'s d)', var_name='study')\n",
    "e_df"
   ]
  },
  {
   "cell_type": "code",
   "execution_count": 18,
   "metadata": {},
   "outputs": [
    {
     "name": "stdout",
     "output_type": "stream",
     "text": [
      "../data/publication_figures/Fig4.Liu_VanAllen_filtered_TMB.effect_size.barplot.pdf\n"
     ]
    },
    {
     "data": {
      "image/png": "[encoded data removed]",
      "text/plain": [
       "<Figure size 144x288 with 1 Axes>"
      ]
     },
     "metadata": {
      "needs_background": "light"
     },
     "output_type": "display_data"
    }
   ],
   "source": [
    "plt.figure(figsize=(2,4))\n",
    "sns.barplot(x='Effect size (Cliff\\'s d)', hue='index', y='study', data=e_df, palette='Oranges_r')\n",
    "plt.legend(bbox_to_anchor=(1,0.8), frameon=False)\n",
    "plt.ylabel('')\n",
    "plt.xlim(0,0.5)\n",
    "savepath = '../data/publication_figures/Fig4.Liu_VanAllen_filtered_TMB.effect_size.barplot.pdf'\n",
    "print(savepath)\n",
    "plt.savefig(savepath, bbox_inches='tight')\n",
    "plt.show()"
   ]
  },
  {
   "cell_type": "code",
   "execution_count": null,
   "metadata": {},
   "outputs": [],
   "source": []
  }
 ],
 "metadata": {
  "kernelspec": {
   "display_name": "Python 3",
   "language": "python",
   "name": "python3"
  },
  "language_info": {
   "codemirror_mode": {
    "name": "ipython",
    "version": 3
   },
   "file_extension": ".py",
   "mimetype": "text/x-python",
   "name": "python",
   "nbconvert_exporter": "python",
   "pygments_lexer": "ipython3",
   "version": "3.6.8"
  }
 },
 "nbformat": 4,
 "nbformat_minor": 4
}
