{
 "cells": [
  {
   "cell_type": "code",
   "execution_count": 2,
   "metadata": {},
   "outputs": [],
   "source": [
    "import pandas as pd\n",
    "import numpy as np\n",
    "import os\n",
    "from sklearn.ensemble import RandomForestClassifier\n",
    "from sklearn.metrics import roc_auc_score, precision_recall_curve, auc, roc_curve, average_precision_score\n",
    "from sklearn.inspection import permutation_importance\n",
    "import joblib\n",
    "from ast import literal_eval\n",
    "from collections import Counter\n",
    "from scipy.stats import fisher_exact"
   ]
  },
  {
   "cell_type": "code",
   "execution_count": 3,
   "metadata": {},
   "outputs": [],
   "source": [
    "import matplotlib.pyplot as plt\n",
    "import seaborn as sns\n",
    "sns.set_style('white')\n",
    "sns.set_style('ticks')\n",
    "%matplotlib inline\n",
    "from statannot import add_stat_annotation\n",
    "\n",
    "import matplotlib as mpl\n",
    "mpl.rcParams['pdf.fonttype'] = 42"
   ]
  },
  {
   "cell_type": "code",
   "execution_count": 4,
   "metadata": {},
   "outputs": [],
   "source": [
    "import sys\n",
    "sys.path.append('../utils/')\n",
    "from flatten import flatten\n",
    "from stat_annot_utils import create_pairs, create_hue_pairs\n",
    "from plot_medians_in_boxplot import plot_medians_in_boxplot\n",
    "\n",
    "sys.path.append('../utils/roc_comparison/')\n",
    "import compare_auc_delong_xu"
   ]
  },
  {
   "cell_type": "markdown",
   "metadata": {},
   "source": [
    "### Overview plots\n",
    "- hex location plots\n",
    "- IEDB immunogenic feature boxplots"
   ]
  },
  {
   "cell_type": "code",
   "execution_count": 5,
   "metadata": {},
   "outputs": [
    {
     "name": "stdout",
     "output_type": "stream",
     "text": [
      "(2949, 32)\n",
      "(2332, 32)\n"
     ]
    },
    {
     "data": {
      "text/html": [
       "<div>\n",
       "<style scoped>\n",
       "    .dataframe tbody tr th:only-of-type {\n",
       "        vertical-align: middle;\n",
       "    }\n",
       "\n",
       "    .dataframe tbody tr th {\n",
       "        vertical-align: top;\n",
       "    }\n",
       "\n",
       "    .dataframe thead th {\n",
       "        text-align: right;\n",
       "    }\n",
       "</style>\n",
       "<table border=\"1\" class=\"dataframe\">\n",
       "  <thead>\n",
       "    <tr style=\"text-align: right;\">\n",
       "      <th></th>\n",
       "      <th>index</th>\n",
       "      <th>Reference PubMed ID</th>\n",
       "      <th>Assay Antigen Antigen Description</th>\n",
       "      <th>Epitope Description</th>\n",
       "      <th>Assay Method/Technique</th>\n",
       "      <th>Assay Assay Group</th>\n",
       "      <th>Assay Qualitative Measure</th>\n",
       "      <th>Antigen Presenting Cells Cell Tissue Type</th>\n",
       "      <th>MHC Allele Name</th>\n",
       "      <th>Related Object Parent Protein IRI</th>\n",
       "      <th>...</th>\n",
       "      <th>foreignness_score</th>\n",
       "      <th>Peptide</th>\n",
       "      <th>nM</th>\n",
       "      <th>Rank</th>\n",
       "      <th>Thalf(h)</th>\n",
       "      <th>Entry</th>\n",
       "      <th>UMAP1</th>\n",
       "      <th>UMAP2</th>\n",
       "      <th>cc_ids</th>\n",
       "      <th>immunogenic</th>\n",
       "    </tr>\n",
       "  </thead>\n",
       "  <tbody>\n",
       "    <tr>\n",
       "      <th>0</th>\n",
       "      <td>A0A087WUL8</td>\n",
       "      <td>27198675</td>\n",
       "      <td>SSFHALEEK</td>\n",
       "      <td>SSFHALEEK</td>\n",
       "      <td>biological activity</td>\n",
       "      <td>activation</td>\n",
       "      <td>Negative</td>\n",
       "      <td>Blood</td>\n",
       "      <td>HLA-A*11:01</td>\n",
       "      <td>http://www.uniprot.org/uniprot/A0A087WUL8</td>\n",
       "      <td>...</td>\n",
       "      <td>0.000059</td>\n",
       "      <td>SSFHALEEK</td>\n",
       "      <td>10.3012</td>\n",
       "      <td>0.0271</td>\n",
       "      <td>6.7664</td>\n",
       "      <td>A0A087WUL8</td>\n",
       "      <td>0.959718</td>\n",
       "      <td>-0.048351</td>\n",
       "      <td>['GO:0005737']</td>\n",
       "      <td>0</td>\n",
       "    </tr>\n",
       "    <tr>\n",
       "      <th>1</th>\n",
       "      <td>A0A087WUL8</td>\n",
       "      <td>27198675</td>\n",
       "      <td>GSSFHALEEK</td>\n",
       "      <td>GSSFHALEEK</td>\n",
       "      <td>biological activity</td>\n",
       "      <td>activation</td>\n",
       "      <td>Negative</td>\n",
       "      <td>Blood</td>\n",
       "      <td>HLA-A*11:01</td>\n",
       "      <td>http://www.uniprot.org/uniprot/A0A087WUL8</td>\n",
       "      <td>...</td>\n",
       "      <td>0.000059</td>\n",
       "      <td>GSSFHALEEK</td>\n",
       "      <td>34.7047</td>\n",
       "      <td>0.2095</td>\n",
       "      <td>3.8003</td>\n",
       "      <td>A0A087WUL8</td>\n",
       "      <td>0.959718</td>\n",
       "      <td>-0.048351</td>\n",
       "      <td>['GO:0005737']</td>\n",
       "      <td>0</td>\n",
       "    </tr>\n",
       "  </tbody>\n",
       "</table>\n",
       "<p>2 rows × 32 columns</p>\n",
       "</div>"
      ],
      "text/plain": [
       "        index  Reference PubMed ID Assay Antigen Antigen Description  \\\n",
       "0  A0A087WUL8             27198675                         SSFHALEEK   \n",
       "1  A0A087WUL8             27198675                        GSSFHALEEK   \n",
       "\n",
       "  Epitope Description Assay Method/Technique Assay Assay Group  \\\n",
       "0           SSFHALEEK    biological activity        activation   \n",
       "1          GSSFHALEEK    biological activity        activation   \n",
       "\n",
       "  Assay Qualitative Measure Antigen Presenting Cells Cell Tissue Type  \\\n",
       "0                  Negative                                     Blood   \n",
       "1                  Negative                                     Blood   \n",
       "\n",
       "  MHC Allele Name          Related Object Parent Protein IRI  ...  \\\n",
       "0     HLA-A*11:01  http://www.uniprot.org/uniprot/A0A087WUL8  ...   \n",
       "1     HLA-A*11:01  http://www.uniprot.org/uniprot/A0A087WUL8  ...   \n",
       "\n",
       "  foreignness_score     Peptide       nM    Rank Thalf(h)       Entry  \\\n",
       "0          0.000059   SSFHALEEK  10.3012  0.0271   6.7664  A0A087WUL8   \n",
       "1          0.000059  GSSFHALEEK  34.7047  0.2095   3.8003  A0A087WUL8   \n",
       "\n",
       "      UMAP1     UMAP2          cc_ids  immunogenic  \n",
       "0  0.959718 -0.048351  ['GO:0005737']            0  \n",
       "1  0.959718 -0.048351  ['GO:0005737']            0  \n",
       "\n",
       "[2 rows x 32 columns]"
      ]
     },
     "execution_count": 5,
     "metadata": {},
     "output_type": "execute_result"
    }
   ],
   "source": [
    "# load IEDB data with GTEx median expression\n",
    "merged_df = pd.read_csv('../data/IEDB/aggregated.hyperboloid_disk.10-01.tsv', sep='\\t')\n",
    "print(merged_df.shape)\n",
    "merged_df = merged_df.drop_duplicates(subset=['Epitope Description','immunogenic'])\n",
    "print(merged_df.shape)\n",
    "merged_df.head(2)"
   ]
  },
  {
   "cell_type": "code",
   "execution_count": 6,
   "metadata": {},
   "outputs": [],
   "source": [
    "def hexbin(x, y, color, **kwargs):\n",
    "    cmap = sns.light_palette(color, as_cmap=True)\n",
    "    plt.hexbin(x, y, gridsize=25, mincnt=1, cmap=cmap, **kwargs)\n",
    "    plt.colorbar()"
   ]
  },
  {
   "cell_type": "code",
   "execution_count": 7,
   "metadata": {},
   "outputs": [
    {
     "name": "stdout",
     "output_type": "stream",
     "text": [
      "../data/publication_figures/Supplementary.IEDB.all.covariates_vs_immunogenicity.boxplot.pdf\n"
     ]
    },
    {
     "data": {
      "image/png": "[encoded data removed]",
      "text/plain": [
       "<Figure size 864x216 with 4 Axes>"
      ]
     },
     "metadata": {
      "needs_background": "light"
     },
     "output_type": "display_data"
    }
   ],
   "source": [
    "plt.figure(figsize=(12,3))\n",
    "x='immunogenic'\n",
    "merged_df[x] = merged_df[x].apply(str)\n",
    "order = sorted(merged_df[x].unique())\n",
    "ylim_dict = {'Rank': (-1,21), 'Thalf(h)': (-0.9,15), }\n",
    "\n",
    "i=1\n",
    "for y in ['Rank','Thalf(h)','foreignness_score','median_exp']:\n",
    "\n",
    "    plt.subplot(1,4,i)\n",
    "    ax = sns.boxplot(x=x, y=y, data=merged_df, order=order, palette='autumn')\n",
    "    if y in ylim_dict :\n",
    "        ax.set_ylim(ylim_dict[y]) \n",
    "        \n",
    "    plot_medians_in_boxplot(merged_df.groupby([x])[y].median(), merged_df[y].median()*0.05, \n",
    "                            ax=ax, fontcolor='w' if y!='foreignness_score' else 'k')\n",
    "    add_stat_annotation(ax=ax, x=x, y=y, data=merged_df, box_pairs=create_pairs(order), order=order, \n",
    "                        test='Mann-Whitney', verbose=0, loc='outside')\n",
    "    ax.set_xticklabels(['non\\nimmunogenic','immunogenic'])\n",
    "    plt.xlabel('')\n",
    "    i+=1\n",
    "plt.tight_layout()\n",
    "\n",
    "savepath = '../data/publication_figures/Supplementary.IEDB.all.covariates_vs_immunogenicity.boxplot.pdf'\n",
    "print(savepath)\n",
    "plt.savefig(savepath, bbox_inches='tight')\n",
    "plt.show()"
   ]
  },
  {
   "cell_type": "markdown",
   "metadata": {},
   "source": [
    "### Do cross validation (Fig 2DEF)"
   ]
  },
  {
   "cell_type": "code",
   "execution_count": 8,
   "metadata": {},
   "outputs": [],
   "source": [
    "from sklearn.model_selection import train_test_split, cross_val_score, StratifiedKFold\n",
    "from sklearn.metrics import plot_roc_curve\n",
    "from sklearn.svm import SVC"
   ]
  },
  {
   "cell_type": "code",
   "execution_count": 9,
   "metadata": {},
   "outputs": [
    {
     "name": "stdout",
     "output_type": "stream",
     "text": [
      "(2949, 32)\n"
     ]
    },
    {
     "data": {
      "text/html": [
       "<div>\n",
       "<style scoped>\n",
       "    .dataframe tbody tr th:only-of-type {\n",
       "        vertical-align: middle;\n",
       "    }\n",
       "\n",
       "    .dataframe tbody tr th {\n",
       "        vertical-align: top;\n",
       "    }\n",
       "\n",
       "    .dataframe thead th {\n",
       "        text-align: right;\n",
       "    }\n",
       "</style>\n",
       "<table border=\"1\" class=\"dataframe\">\n",
       "  <thead>\n",
       "    <tr style=\"text-align: right;\">\n",
       "      <th></th>\n",
       "      <th>index</th>\n",
       "      <th>Reference PubMed ID</th>\n",
       "      <th>Assay Antigen Antigen Description</th>\n",
       "      <th>Epitope Description</th>\n",
       "      <th>Assay Method/Technique</th>\n",
       "      <th>Assay Assay Group</th>\n",
       "      <th>Assay Qualitative Measure</th>\n",
       "      <th>Antigen Presenting Cells Cell Tissue Type</th>\n",
       "      <th>MHC Allele Name</th>\n",
       "      <th>Related Object Parent Protein IRI</th>\n",
       "      <th>...</th>\n",
       "      <th>foreignness_score</th>\n",
       "      <th>Peptide</th>\n",
       "      <th>nM</th>\n",
       "      <th>Rank</th>\n",
       "      <th>Thalf(h)</th>\n",
       "      <th>Entry</th>\n",
       "      <th>UMAP1</th>\n",
       "      <th>UMAP2</th>\n",
       "      <th>cc_ids</th>\n",
       "      <th>immunogenic</th>\n",
       "    </tr>\n",
       "  </thead>\n",
       "  <tbody>\n",
       "    <tr>\n",
       "      <th>0</th>\n",
       "      <td>A0A087WUL8</td>\n",
       "      <td>27198675</td>\n",
       "      <td>SSFHALEEK</td>\n",
       "      <td>SSFHALEEK</td>\n",
       "      <td>biological activity</td>\n",
       "      <td>activation</td>\n",
       "      <td>Negative</td>\n",
       "      <td>Blood</td>\n",
       "      <td>HLA-A*11:01</td>\n",
       "      <td>http://www.uniprot.org/uniprot/A0A087WUL8</td>\n",
       "      <td>...</td>\n",
       "      <td>0.000059</td>\n",
       "      <td>SSFHALEEK</td>\n",
       "      <td>10.3012</td>\n",
       "      <td>0.0271</td>\n",
       "      <td>6.7664</td>\n",
       "      <td>A0A087WUL8</td>\n",
       "      <td>0.959718</td>\n",
       "      <td>-0.048351</td>\n",
       "      <td>['GO:0005737']</td>\n",
       "      <td>0</td>\n",
       "    </tr>\n",
       "    <tr>\n",
       "      <th>1</th>\n",
       "      <td>A0A087WUL8</td>\n",
       "      <td>27198675</td>\n",
       "      <td>GSSFHALEEK</td>\n",
       "      <td>GSSFHALEEK</td>\n",
       "      <td>biological activity</td>\n",
       "      <td>activation</td>\n",
       "      <td>Negative</td>\n",
       "      <td>Blood</td>\n",
       "      <td>HLA-A*11:01</td>\n",
       "      <td>http://www.uniprot.org/uniprot/A0A087WUL8</td>\n",
       "      <td>...</td>\n",
       "      <td>0.000059</td>\n",
       "      <td>GSSFHALEEK</td>\n",
       "      <td>34.7047</td>\n",
       "      <td>0.2095</td>\n",
       "      <td>3.8003</td>\n",
       "      <td>A0A087WUL8</td>\n",
       "      <td>0.959718</td>\n",
       "      <td>-0.048351</td>\n",
       "      <td>['GO:0005737']</td>\n",
       "      <td>0</td>\n",
       "    </tr>\n",
       "  </tbody>\n",
       "</table>\n",
       "<p>2 rows × 32 columns</p>\n",
       "</div>"
      ],
      "text/plain": [
       "        index  Reference PubMed ID Assay Antigen Antigen Description  \\\n",
       "0  A0A087WUL8             27198675                         SSFHALEEK   \n",
       "1  A0A087WUL8             27198675                        GSSFHALEEK   \n",
       "\n",
       "  Epitope Description Assay Method/Technique Assay Assay Group  \\\n",
       "0           SSFHALEEK    biological activity        activation   \n",
       "1          GSSFHALEEK    biological activity        activation   \n",
       "\n",
       "  Assay Qualitative Measure Antigen Presenting Cells Cell Tissue Type  \\\n",
       "0                  Negative                                     Blood   \n",
       "1                  Negative                                     Blood   \n",
       "\n",
       "  MHC Allele Name          Related Object Parent Protein IRI  ...  \\\n",
       "0     HLA-A*11:01  http://www.uniprot.org/uniprot/A0A087WUL8  ...   \n",
       "1     HLA-A*11:01  http://www.uniprot.org/uniprot/A0A087WUL8  ...   \n",
       "\n",
       "  foreignness_score     Peptide       nM    Rank Thalf(h)       Entry  \\\n",
       "0          0.000059   SSFHALEEK  10.3012  0.0271   6.7664  A0A087WUL8   \n",
       "1          0.000059  GSSFHALEEK  34.7047  0.2095   3.8003  A0A087WUL8   \n",
       "\n",
       "      UMAP1     UMAP2          cc_ids  immunogenic  \n",
       "0  0.959718 -0.048351  ['GO:0005737']            0  \n",
       "1  0.959718 -0.048351  ['GO:0005737']            0  \n",
       "\n",
       "[2 rows x 32 columns]"
      ]
     },
     "execution_count": 9,
     "metadata": {},
     "output_type": "execute_result"
    }
   ],
   "source": [
    "# load IEDB data with GTEx median expression\n",
    "merged_df = pd.read_csv('../data/IEDB/aggregated.hyperboloid_disk.10-01.tsv', sep='\\t',)\n",
    "print(merged_df.shape)\n",
    "\n",
    "merged_df.head(2)"
   ]
  },
  {
   "cell_type": "code",
   "execution_count": 10,
   "metadata": {
    "scrolled": false
   },
   "outputs": [
    {
     "name": "stdout",
     "output_type": "stream",
     "text": [
      "With location ['nM', 'Thalf(h)', 'foreignness_score', 'UMAP1', 'UMAP2'] immunogenic (2946, 32)\n",
      "(With location) median youden index: 0.41861425339366515\n",
      "Without location ['nM', 'Thalf(h)', 'foreignness_score'] immunogenic (2946, 32)\n",
      "(Without location) median youden index: 0.44479596375159836\n",
      "Saving to ../data/publication_figures/Fig2.IEDB.cross_validation_RF.AUROC.pdf\n"
     ]
    },
    {
     "data": {
      "image/png": "[encoded data removed]",
      "text/plain": [
       "<Figure size 288x288 with 1 Axes>"
      ]
     },
     "metadata": {
      "needs_background": "light"
     },
     "output_type": "display_data"
    }
   ],
   "source": [
    "def perform_cross_val_plot(xcols, ycols, model_df, label, fig, ax):\n",
    "    print(label, xcols, ycols, model_df.shape)\n",
    "    \n",
    "    pred_results = pd.DataFrame()\n",
    "\n",
    "    X, y = model_df.reset_index()[xcols], model_df.reset_index()[ycols]\n",
    "    cv = StratifiedKFold(n_splits=10, shuffle=True, random_state=2021)\n",
    "    classifier = RandomForestClassifier(class_weight='balanced', random_state=2021)\n",
    "\n",
    "    tprs = []\n",
    "    aucs = []\n",
    "    pr_list, re_list = [],[]\n",
    "    pr_rc_auc = []\n",
    "    mean_fpr = np.linspace(0, 1, 100)\n",
    "    youden_indicies = []\n",
    "    feature_importances = []\n",
    "\n",
    "\n",
    "    for i, (train, test) in enumerate(cv.split(X, y)):\n",
    "        classifier.fit(X.loc[train], y.loc[train])\n",
    "        fpr, tpr, thresholds = roc_curve(y.loc[test], classifier.predict_proba(X.loc[test])[:,1])\n",
    "        youden_indicies.append(thresholds[np.argmax(tpr - fpr)])\n",
    "\n",
    "        viz = plot_roc_curve(classifier, X.loc[test], y.loc[test],\n",
    "                             name='',\n",
    "                             alpha=0.1, lw=1, ax=ax)\n",
    "        interp_tpr = np.interp(mean_fpr, viz.fpr, viz.tpr)\n",
    "        interp_tpr[0] = 0.0\n",
    "        tprs.append(interp_tpr)\n",
    "        aucs.append(viz.roc_auc)\n",
    "        preds = classifier.predict_proba(X.loc[test])[:,1]\n",
    "        umap_pr, umap_re, _ = precision_recall_curve(y.loc[test],preds)\n",
    "        pr_list.append(umap_pr)\n",
    "        re_list.append(umap_re)\n",
    "        pr_rc_auc.append(auc(umap_re,umap_pr))\n",
    "\n",
    "        p = model_df.reset_index().loc[test]\n",
    "        p['preds'] = preds\n",
    "        p['iteration'] = i\n",
    "        pred_results = pred_results.append(p)\n",
    "        temp = pd.DataFrame(preds, y.loc[test])\n",
    "        result = permutation_importance(classifier, X.loc[test], y.loc[test], n_repeats=10, \n",
    "                                        random_state=2021, n_jobs=2)\n",
    "        feature_importances.append(result.importances_mean)\n",
    "#         feature_importances.append(classifier.feature_importances_)\n",
    "        \n",
    "\n",
    "\n",
    "    ax.plot([0, 1], [0, 1], linestyle='--', lw=2, color='grey')\n",
    "\n",
    "\n",
    "    mean_tpr = np.mean(tprs, axis=0)\n",
    "    mean_tpr[-1] = 1.0\n",
    "    mean_auc = auc(mean_fpr, mean_tpr)\n",
    "    mean_thresholds = np.mean(thresholds, axis=0)\n",
    "    print('({}) median youden index: {}'.format(label, np.median(youden_indicies)))\n",
    "\n",
    "    std_auc = np.std(aucs)\n",
    "    ax.plot(mean_fpr, mean_tpr, color='b' if label=='With location' else 'r',\n",
    "            label=r'{}. ROC (AUC = {:.2})'.format(label, mean_auc),\n",
    "            lw=2, alpha=.8)\n",
    "    \n",
    "    \n",
    "    return pred_results, feature_importances\n",
    "\n",
    "\n",
    "fig, ax = plt.subplots(figsize=(4,4))\n",
    "\n",
    "\n",
    "xcols=['nM','Thalf(h)','foreignness_score', 'UMAP1','UMAP2']#,'median_exp'] \n",
    "ycols = 'immunogenic'\n",
    "w_loc_preds, w_loc_featimport = perform_cross_val_plot(xcols, ycols, model_df=merged_df.dropna(subset=xcols+[ycols]), label='With location', fig=fig, ax=ax)\n",
    "\n",
    "xcols=['nM','Thalf(h)','foreignness_score']#,'median_exp'] \n",
    "wo_loc_preds, wo_loc_featimport = perform_cross_val_plot(xcols, ycols, model_df=merged_df.dropna(subset=xcols+[ycols]), label='Without location', fig=fig, ax=ax)\n",
    "\n",
    "# keep only final legend \n",
    "handles, labels = ax.get_legend_handles_labels()\n",
    "idx_keep = [i for i,x in enumerate(labels) if 'location' in x]\n",
    "\n",
    "handles = np.array(handles)[idx_keep]\n",
    "labels = np.array(labels)[idx_keep]\n",
    "by_label = dict(zip(labels, handles))\n",
    "plt.legend(by_label.values(), by_label.keys())\n",
    "plt.xlabel('False positive rate'), plt.ylabel('True positive rate')\n",
    "\n",
    "savepath = '../data/publication_figures/Fig2.IEDB.cross_validation_RF.AUROC.pdf'\n",
    "print('Saving to {}'.format(savepath))\n",
    "plt.savefig(savepath, bbox_inches='tight')\n",
    "\n",
    "plt.show()"
   ]
  },
  {
   "cell_type": "markdown",
   "metadata": {},
   "source": [
    "#### plot feature importances"
   ]
  },
  {
   "cell_type": "code",
   "execution_count": 11,
   "metadata": {
    "scrolled": true
   },
   "outputs": [
    {
     "data": {
      "text/plain": [
       "Affinity (nM)           0.104422\n",
       "UMAP1+UMAP2             0.080475\n",
       "Stability (Thalf(h))    0.064237\n",
       "Foreignness             0.012034\n",
       "dtype: float64"
      ]
     },
     "execution_count": 11,
     "metadata": {},
     "output_type": "execute_result"
    }
   ],
   "source": [
    "rf_feat_df = pd.DataFrame(w_loc_featimport, columns=['Affinity (nM)','Stability (Thalf(h))','Foreignness', \n",
    "                                                     'UMAP1','UMAP2'])\n",
    "rf_feat_df['UMAP1+UMAP2'] = rf_feat_df['UMAP1']+rf_feat_df['UMAP2']\n",
    "del rf_feat_df['UMAP1']\n",
    "del rf_feat_df['UMAP2']\n",
    "rf_feat_df = rf_feat_df.apply(np.median).sort_values(ascending=False)\n",
    "rf_feat_df"
   ]
  },
  {
   "cell_type": "code",
   "execution_count": 13,
   "metadata": {},
   "outputs": [
    {
     "name": "stdout",
     "output_type": "stream",
     "text": [
      "../data/publication_figures/IEDB.cross_val.feature_importance.permutation.barplot.pdf\n"
     ]
    },
    {
     "data": {
      "image/png": "[encoded data removed]",
      "text/plain": [
       "<Figure size 144x288 with 1 Axes>"
      ]
     },
     "metadata": {
      "needs_background": "light"
     },
     "output_type": "display_data"
    }
   ],
   "source": [
    "plt.figure(figsize=(2,4))\n",
    "sns.barplot(y=rf_feat_df.index, x=rf_feat_df.values, palette='gist_gray')\n",
    "plt.ylabel('')\n",
    "plt.xlim(0,0.15)\n",
    "plt.xlabel('Feature importance')\n",
    "savepath = '../data/publication_figures/IEDB.cross_val.feature_importance.permutation.barplot.pdf'\n",
    "print(savepath)\n",
    "plt.savefig(savepath, bbox_inches='tight')"
   ]
  },
  {
   "cell_type": "markdown",
   "metadata": {},
   "source": [
    "#### Differential prediction using median Youden index\n",
    "- Values from above cross validation"
   ]
  },
  {
   "cell_type": "code",
   "execution_count": 14,
   "metadata": {},
   "outputs": [],
   "source": [
    "w_loc_preds['preds_bin_w_loc'] = w_loc_preds['preds']>0.41861425339366515\n",
    "wo_loc_preds['preds_bin_wo_loc'] = wo_loc_preds['preds']>0.44479596375159836"
   ]
  },
  {
   "cell_type": "code",
   "execution_count": 15,
   "metadata": {
    "scrolled": true
   },
   "outputs": [
    {
     "name": "stdout",
     "output_type": "stream",
     "text": [
      "(254, 37)\n"
     ]
    },
    {
     "data": {
      "text/html": [
       "<div>\n",
       "<style scoped>\n",
       "    .dataframe tbody tr th:only-of-type {\n",
       "        vertical-align: middle;\n",
       "    }\n",
       "\n",
       "    .dataframe tbody tr th {\n",
       "        vertical-align: top;\n",
       "    }\n",
       "\n",
       "    .dataframe thead th {\n",
       "        text-align: right;\n",
       "    }\n",
       "</style>\n",
       "<table border=\"1\" class=\"dataframe\">\n",
       "  <thead>\n",
       "    <tr style=\"text-align: right;\">\n",
       "      <th></th>\n",
       "      <th>level_0</th>\n",
       "      <th>index</th>\n",
       "      <th>Reference PubMed ID</th>\n",
       "      <th>Assay Antigen Antigen Description</th>\n",
       "      <th>Epitope Description</th>\n",
       "      <th>Assay Method/Technique</th>\n",
       "      <th>Assay Assay Group</th>\n",
       "      <th>Assay Qualitative Measure</th>\n",
       "      <th>Antigen Presenting Cells Cell Tissue Type</th>\n",
       "      <th>MHC Allele Name</th>\n",
       "      <th>...</th>\n",
       "      <th>Thalf(h)</th>\n",
       "      <th>Entry</th>\n",
       "      <th>UMAP1</th>\n",
       "      <th>UMAP2</th>\n",
       "      <th>cc_ids</th>\n",
       "      <th>immunogenic</th>\n",
       "      <th>preds</th>\n",
       "      <th>iteration</th>\n",
       "      <th>preds_bin_w_loc</th>\n",
       "      <th>preds_bin_wo_loc</th>\n",
       "    </tr>\n",
       "  </thead>\n",
       "  <tbody>\n",
       "    <tr>\n",
       "      <th>7</th>\n",
       "      <td>7</td>\n",
       "      <td>A0A087WYG2</td>\n",
       "      <td>31511069</td>\n",
       "      <td>RLDSTLLLY</td>\n",
       "      <td>RLDSTLLLY</td>\n",
       "      <td>multimer/tetramer</td>\n",
       "      <td>qualitative binding</td>\n",
       "      <td>Positive</td>\n",
       "      <td>NaN</td>\n",
       "      <td>HLA-A*03:01</td>\n",
       "      <td>...</td>\n",
       "      <td>0.4250</td>\n",
       "      <td>A0A087WYG2</td>\n",
       "      <td>-0.733591</td>\n",
       "      <td>-0.486856</td>\n",
       "      <td>['GO:0030673', 'GO:1904115', 'GO:0044297', 'GO...</td>\n",
       "      <td>1</td>\n",
       "      <td>0.194654</td>\n",
       "      <td>0</td>\n",
       "      <td>False</td>\n",
       "      <td>True</td>\n",
       "    </tr>\n",
       "    <tr>\n",
       "      <th>126</th>\n",
       "      <td>126</td>\n",
       "      <td>B7Z3R2</td>\n",
       "      <td>31511069</td>\n",
       "      <td>SIISLFVLL</td>\n",
       "      <td>SIISLFVLL</td>\n",
       "      <td>multimer/tetramer</td>\n",
       "      <td>qualitative binding</td>\n",
       "      <td>Negative</td>\n",
       "      <td>NaN</td>\n",
       "      <td>HLA-A*02:01</td>\n",
       "      <td>...</td>\n",
       "      <td>1.2075</td>\n",
       "      <td>B7Z3R2</td>\n",
       "      <td>0.189781</td>\n",
       "      <td>0.943716</td>\n",
       "      <td>['GO:0016021']</td>\n",
       "      <td>0</td>\n",
       "      <td>0.430000</td>\n",
       "      <td>0</td>\n",
       "      <td>True</td>\n",
       "      <td>False</td>\n",
       "    </tr>\n",
       "  </tbody>\n",
       "</table>\n",
       "<p>2 rows × 37 columns</p>\n",
       "</div>"
      ],
      "text/plain": [
       "     level_0       index  Reference PubMed ID  \\\n",
       "7          7  A0A087WYG2             31511069   \n",
       "126      126      B7Z3R2             31511069   \n",
       "\n",
       "    Assay Antigen Antigen Description Epitope Description  \\\n",
       "7                           RLDSTLLLY           RLDSTLLLY   \n",
       "126                         SIISLFVLL           SIISLFVLL   \n",
       "\n",
       "    Assay Method/Technique    Assay Assay Group Assay Qualitative Measure  \\\n",
       "7        multimer/tetramer  qualitative binding                  Positive   \n",
       "126      multimer/tetramer  qualitative binding                  Negative   \n",
       "\n",
       "    Antigen Presenting Cells Cell Tissue Type MHC Allele Name  ... Thalf(h)  \\\n",
       "7                                         NaN     HLA-A*03:01  ...   0.4250   \n",
       "126                                       NaN     HLA-A*02:01  ...   1.2075   \n",
       "\n",
       "          Entry     UMAP1     UMAP2  \\\n",
       "7    A0A087WYG2 -0.733591 -0.486856   \n",
       "126      B7Z3R2  0.189781  0.943716   \n",
       "\n",
       "                                                cc_ids immunogenic     preds  \\\n",
       "7    ['GO:0030673', 'GO:1904115', 'GO:0044297', 'GO...           1  0.194654   \n",
       "126                                     ['GO:0016021']           0  0.430000   \n",
       "\n",
       "     iteration preds_bin_w_loc preds_bin_wo_loc  \n",
       "7            0           False             True  \n",
       "126          0            True            False  \n",
       "\n",
       "[2 rows x 37 columns]"
      ]
     },
     "execution_count": 15,
     "metadata": {},
     "output_type": "execute_result"
    }
   ],
   "source": [
    "r = w_loc_preds.join(wo_loc_preds[['preds_bin_wo_loc']])\n",
    "r = r[r['preds_bin_w_loc']!=r['preds_bin_wo_loc']]\n",
    "\n",
    "print(r.shape)\n",
    "r.head(2)"
   ]
  },
  {
   "cell_type": "code",
   "execution_count": 16,
   "metadata": {},
   "outputs": [
    {
     "name": "stdout",
     "output_type": "stream",
     "text": [
      "(1.7439024390243902, 0.04553922894966515)\n"
     ]
    },
    {
     "data": {
      "text/html": [
       "<div>\n",
       "<style scoped>\n",
       "    .dataframe tbody tr th:only-of-type {\n",
       "        vertical-align: middle;\n",
       "    }\n",
       "\n",
       "    .dataframe tbody tr th {\n",
       "        vertical-align: top;\n",
       "    }\n",
       "\n",
       "    .dataframe thead th {\n",
       "        text-align: right;\n",
       "    }\n",
       "</style>\n",
       "<table border=\"1\" class=\"dataframe\">\n",
       "  <thead>\n",
       "    <tr style=\"text-align: right;\">\n",
       "      <th>immunogenic</th>\n",
       "      <th>0</th>\n",
       "      <th>1</th>\n",
       "    </tr>\n",
       "    <tr>\n",
       "      <th>preds_bin_w_loc</th>\n",
       "      <th></th>\n",
       "      <th></th>\n",
       "    </tr>\n",
       "  </thead>\n",
       "  <tbody>\n",
       "    <tr>\n",
       "      <th>False</th>\n",
       "      <td>88</td>\n",
       "      <td>32</td>\n",
       "    </tr>\n",
       "    <tr>\n",
       "      <th>True</th>\n",
       "      <td>82</td>\n",
       "      <td>52</td>\n",
       "    </tr>\n",
       "  </tbody>\n",
       "</table>\n",
       "</div>"
      ],
      "text/plain": [
       "immunogenic       0   1\n",
       "preds_bin_w_loc        \n",
       "False            88  32\n",
       "True             82  52"
      ]
     },
     "execution_count": 16,
     "metadata": {},
     "output_type": "execute_result"
    }
   ],
   "source": [
    "ct = pd.crosstab(r['preds_bin_w_loc'], r['immunogenic'])\n",
    "print(fisher_exact(ct))\n",
    "ct"
   ]
  },
  {
   "cell_type": "markdown",
   "metadata": {},
   "source": [
    "#### Plot characteristics of differentially classified peptides with and without location"
   ]
  },
  {
   "cell_type": "code",
   "execution_count": 17,
   "metadata": {},
   "outputs": [
    {
     "name": "stdout",
     "output_type": "stream",
     "text": [
      "../data/publication_figures/Supplementary.IEDB.diff_classified_peptides_RF.covariates_vs_immunogenicity.boxplot.pdf\n"
     ]
    },
    {
     "data": {
      "image/png": "[encoded data removed]",
      "text/plain": [
       "<Figure size 864x216 with 4 Axes>"
      ]
     },
     "metadata": {
      "needs_background": "light"
     },
     "output_type": "display_data"
    }
   ],
   "source": [
    "plt.figure(figsize=(12,3))\n",
    "x='immunogenic'\n",
    "r = r[r['preds_bin_w_loc'].apply(int)==r['immunogenic'].apply(int)]\n",
    "r[x] = r[x].apply(str)\n",
    "\n",
    "order = sorted(r[x].unique())\n",
    "ylim_dict = {'Rank': (-1,21), 'Thalf(h)': (-0.9,15), }\n",
    "\n",
    "i=1\n",
    "for y in ['nM','Thalf(h)','foreignness_score','median_exp']:\n",
    "\n",
    "    plt.subplot(1,4,i)\n",
    "    ax = sns.boxplot(x=x, y=y, data=r, order=order, palette='autumn')\n",
    "    if y in ylim_dict :\n",
    "        ax.set_ylim(ylim_dict[y]) \n",
    "        \n",
    "    plot_medians_in_boxplot(r.groupby([x])[y].median(), r[y].median()*0.05, \n",
    "                            ax=ax, fontcolor='w' if y!='foreignness_score' else 'k')\n",
    "    add_stat_annotation(ax=ax, x=x, y=y, data=r, box_pairs=create_pairs(order), order=order, \n",
    "                        test='Mann-Whitney', verbose=0, loc='outside')\n",
    "    ax.set_xticklabels(['non\\nimmunogenic','immunogenic'])\n",
    "    plt.xlabel('')\n",
    "    i+=1\n",
    "plt.tight_layout()\n",
    "\n",
    "savepath = '../data/publication_figures/Supplementary.IEDB.diff_classified_peptides_RF.covariates_vs_immunogenicity.boxplot.pdf'\n",
    "print(savepath)\n",
    "plt.savefig(savepath, bbox_inches='tight')\n",
    "plt.show()"
   ]
  },
  {
   "cell_type": "markdown",
   "metadata": {},
   "source": [
    "#### Examine peptides that are now correctly classified"
   ]
  },
  {
   "cell_type": "code",
   "execution_count": 18,
   "metadata": {},
   "outputs": [],
   "source": [
    "now_correct = r[(r['preds_bin_w_loc'].apply(int)==r['immunogenic'].apply(int))]\n",
    "now_correct = now_correct.drop_duplicates(subset=['Entry','immunogenic','Reference PubMed ID'], keep='first')"
   ]
  },
  {
   "cell_type": "code",
   "execution_count": 19,
   "metadata": {},
   "outputs": [
    {
     "name": "stdout",
     "output_type": "stream",
     "text": [
      "printing 6\n",
      "-0.8843312609526186 -0.25602153928571425\n",
      "['PLPL4_HUMAN' 'MYO19_HUMAN' 'COX11_HUMAN' 'MIA2_HUMAN' 'INSI1_HUMAN']\n",
      "-0.6557288280954138 -0.6599321857142857\n",
      "['EGFR_HUMAN' 'NOS1_HUMAN' 'STX1A_HUMAN']\n",
      "-0.6557288280954138 -0.39065842142857143\n",
      "['DYH12_HUMAN' 'SSPN_HUMAN' 'AKAP3_HUMAN' 'AMPE_HUMAN']\n",
      "0.9444882019050201 0.28252598928571426\n",
      "['ZBTB9_HUMAN' 'ARIP4_HUMAN' 'Z587B_HUMAN' 'ZN277_HUMAN']\n",
      "-0.617628422619213 -0.7272506267857143\n",
      "['GRPR_HUMAN' 'MAS_HUMAN' 'ANPRB_HUMAN']\n",
      "0.8301869854764176 -0.5926137446428571\n",
      "saving to ../data/publication_figures/Supplementary.IEDB.now_correct_peptides_RF.location_vs_immunogenic.facet_hex_w_loc.25.pdf\n"
     ]
    },
    {
     "data": {
      "image/png": "[encoded data removed]",
      "text/plain": [
       "<Figure size 0.72x0.72 with 1 Axes>"
      ]
     },
     "metadata": {
      "needs_background": "light"
     },
     "output_type": "display_data"
    },
    {
     "data": {
      "image/png": "[encoded data removed]",
      "text/plain": [
       "<Figure size 432x360 with 2 Axes>"
      ]
     },
     "metadata": {
      "needs_background": "light"
     },
     "output_type": "display_data"
    }
   ],
   "source": [
    "# difference\n",
    "gridsize=25\n",
    "printed_labels = []\n",
    "plot_df = now_correct.copy()\n",
    "\n",
    "fig = plt.figure(figsize=(0.01,0.01))\n",
    "\n",
    "h1=plt.hexbin(plot_df[plot_df['immunogenic']=='0']['UMAP1'], plot_df[plot_df['immunogenic']=='0']['UMAP2'],\n",
    "              gridsize=gridsize, cmap=plt.cm.Blues)\n",
    "h2=plt.hexbin(plot_df[plot_df['immunogenic']=='1']['UMAP1'], plot_df[plot_df['immunogenic']=='1']['UMAP2'],\n",
    "              gridsize=gridsize,cmap=plt.cm.Reds)\n",
    "fig.set_visible(False)\n",
    "\n",
    "\n",
    "plt.figure(figsize=(6,5))\n",
    "# # Create dummy hexbin using whatever data..:\n",
    "h3 = plt.hexbin(plot_df['UMAP1'], plot_df['UMAP2'], gridsize=gridsize, vmin=-10, vmax=10,\n",
    "              cmap=sns.diverging_palette(240, 35, s=99, sep=1, l=60, as_cmap=True))\n",
    "diff_array = h2.get_array()-h1.get_array()\n",
    "diff_array[diff_array==0] = np.nan # hide zeros\n",
    "h3.set_array(diff_array)\n",
    "plt.colorbar()\n",
    "\n",
    "# labels\n",
    "plt.xlabel('UMAP1'), plt.ylabel('UMAP2')\n",
    "plt.xlim(-1.1,1.1), plt.ylim(-1.1,1.1)\n",
    "h3.axes.spines['right'].set_visible(False)\n",
    "h3.axes.spines['top'].set_visible(False)\n",
    "plt.title('Difference')\n",
    "\n",
    "# annotate top hits\n",
    "hex_counts = h3.get_array()\n",
    "immuno_thresh = 3#np.nanpercentile(hex_counts,95)\n",
    "nonimmuno_thresh = -3#np.nanpercentile(hex_counts,95)\n",
    "\n",
    "# print(thresh)\n",
    "indices = [i for i,x in enumerate(hex_counts) if x>=immuno_thresh or x<=nonimmuno_thresh]\n",
    "top = np.array([h3.get_offsets()[x] for x in indices])\n",
    "buffer = 0.05\n",
    "\n",
    "# plot top CCs\n",
    "print('printing {}'.format(len(top)))\n",
    "for t in top:\n",
    "    x,y=t\n",
    "    \n",
    "    df = plot_df[(plot_df['UMAP1']>=x-buffer)&(plot_df['UMAP1']<=x+buffer) &\n",
    "                 (plot_df['UMAP2']>=y-buffer)&(plot_df['UMAP2']<=y+buffer)]\n",
    "    print(x,y)\n",
    "#     plt.scatter(x,y,color='k', )\n",
    "#     plt.scatter(x+buffer,y+buffer,color='red', s=1)\n",
    "#     plt.scatter(x-buffer,y-buffer,color='red', s=1)\n",
    "\n",
    "    top_ccs = df['Entry name'].unique()\n",
    "    if len(top_ccs)>0:\n",
    "#         top_ccs = top_ccs.index[0] \n",
    "        print(top_ccs)\n",
    "#     thresh = 3#.3*len(df)\n",
    "        top_ccs = [x.split('_')[0] for x in top_ccs]\n",
    "        printed_labels.extend(top_ccs)\n",
    "\n",
    "    \n",
    "        plt.text(x, y,'\\n'.join(top_ccs), fontsize='small', \n",
    "                 bbox=dict(edgecolor='lightgrey', pad=1, facecolor='white', alpha=0.5))\n",
    "        \n",
    "\n",
    "savepath = '../data/publication_figures/Supplementary.IEDB.now_correct_peptides_RF.location_vs_immunogenic.facet_hex_w_loc.{}.pdf'.format(gridsize)\n",
    "print('saving to {}'.format(savepath))\n",
    "plt.savefig(savepath, bbox_inches='tight')\n",
    "plt.show()"
   ]
  },
  {
   "cell_type": "markdown",
   "metadata": {},
   "source": [
    "#### Plot AUPRC"
   ]
  },
  {
   "cell_type": "code",
   "execution_count": 20,
   "metadata": {},
   "outputs": [],
   "source": [
    "def draw_cv_pr_curve(classifier, cv, X, y, title=None, label=None, color=None):\n",
    "    \"\"\"\n",
    "    Draw a Cross Validated PR Curve.\n",
    "    Keyword Args:\n",
    "        classifier: Classifier Object\n",
    "        cv: StratifiedKFold Object: (https://stats.stackexchange.com/questions/49540/understanding-stratified-cross-validation)\n",
    "        X: Feature Pandas DataFrame\n",
    "        y: Response Pandas Series\n",
    "        \n",
    "    Largely taken from: https://stackoverflow.com/questions/29656550/how-to-plot-pr-curve-over-10-folds-of-cross-validation-in-scikit-learn\n",
    "    \"\"\"\n",
    "    y_real = []\n",
    "    y_proba = []\n",
    "\n",
    "    for train, test in cv.split(X, y):\n",
    "        probas_ = classifier.fit(X.loc[train], y.loc[train]).predict_proba(X.iloc[test])\n",
    "        # Compute ROC curve and area the curve\n",
    "        precision, recall, _ = precision_recall_curve(y.iloc[test], probas_[:, 1])\n",
    "        \n",
    "        # Plotting each individual PR Curve\n",
    "        plt.plot(recall, precision, lw=1, alpha=0.1, label='')\n",
    "        \n",
    "        y_real.append(y.iloc[test])\n",
    "        y_proba.append(probas_[:, 1])\n",
    "\n",
    "    \n",
    "    y_real = np.concatenate(y_real)\n",
    "    y_proba = np.concatenate(y_proba)\n",
    "    \n",
    "    precision, recall, _ = precision_recall_curve(y_real, y_proba)\n",
    "\n",
    "    plt.plot(recall, precision, color=color,\n",
    "             label=r'{}. PR (AUC = {:.3})'.format(label, average_precision_score(y_real, y_proba)),\n",
    "             lw=2, alpha=.8)\n",
    "\n",
    "    "
   ]
  },
  {
   "cell_type": "code",
   "execution_count": null,
   "metadata": {},
   "outputs": [],
   "source": [
    "ycols = 'immunogenic'\n",
    "fig, ax = plt.subplots(figsize=(4,4))\n",
    "\n",
    "### with location\n",
    "xcols = ['nM','Thalf(h)','foreignness_score','UMAP1','UMAP2']\n",
    "model_df = merged_df[xcols+[ycols]].dropna()\n",
    "\n",
    "X, y = model_df.reset_index()[xcols], model_df.reset_index()[ycols]\n",
    "cv = StratifiedKFold(n_splits=10, shuffle=True, random_state=2021)\n",
    "classifier = RandomForestClassifier(class_weight='balanced', random_state=2021)\n",
    "draw_cv_pr_curve(classifier, cv, X, y, label='With location', color='blue')\n",
    "\n",
    "### without location\n",
    "xcols = ['nM','Thalf(h)','foreignness_score',]\n",
    "model_df = merged_df[xcols+[ycols]].dropna()\n",
    "\n",
    "X, y = model_df.reset_index()[xcols], model_df.reset_index()[ycols]\n",
    "cv = StratifiedKFold(n_splits=10, shuffle=True, random_state=2021)\n",
    "classifier = RandomForestClassifier(class_weight='balanced', random_state=2021)\n",
    "draw_cv_pr_curve(classifier, cv, X, y, label='Without location', color='red')\n",
    "\n",
    "### plot legend \n",
    "handles, labels = ax.get_legend_handles_labels()\n",
    "idx_keep = [i for i,x in enumerate(labels) if 'location' in x]\n",
    "\n",
    "handles = np.array(handles)[idx_keep]\n",
    "labels = np.array(labels)[idx_keep]\n",
    "by_label = dict(zip(labels, handles))\n",
    "plt.legend(by_label.values(), by_label.keys())\n",
    "\n",
    "plt.xlim([-0.05, 1.05])\n",
    "plt.ylim([-0.05, 1.05])\n",
    "plt.xlabel('Recall')\n",
    "plt.ylabel('Precision')\n",
    "\n",
    "plt.plot([1,0],[0,1],ls='--', color='grey', lw=2)\n",
    "\n",
    "savepath = '../data/publication_figures/Fig2.IEDB.cross_validation_RF.AUPRC.pdf'\n",
    "print('Saving to {}'.format(savepath))\n",
    "plt.savefig(savepath, bbox_inches='tight')\n",
    "\n",
    "plt.show()"
   ]
  },
  {
   "cell_type": "code",
   "execution_count": null,
   "metadata": {},
   "outputs": [],
   "source": []
  }
 ],
 "metadata": {
  "kernelspec": {
   "display_name": "Python 3",
   "language": "python",
   "name": "python3"
  },
  "language_info": {
   "codemirror_mode": {
    "name": "ipython",
    "version": 3
   },
   "file_extension": ".py",
   "mimetype": "text/x-python",
   "name": "python",
   "nbconvert_exporter": "python",
   "pygments_lexer": "ipython3",
   "version": "3.6.8"
  }
 },
 "nbformat": 4,
 "nbformat_minor": 4
}
