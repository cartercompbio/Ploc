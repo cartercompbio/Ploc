{
 "cells": [
  {
   "cell_type": "code",
   "execution_count": 1,
   "metadata": {},
   "outputs": [],
   "source": [
    "import pandas as pd\n",
    "import numpy as np\n",
    "from ast import literal_eval\n",
    "from scipy.stats import fisher_exact"
   ]
  },
  {
   "cell_type": "code",
   "execution_count": 2,
   "metadata": {},
   "outputs": [],
   "source": [
    "import matplotlib.pyplot as plt\n",
    "import seaborn as sns\n",
    "sns.set_style('white')\n",
    "sns.set_style('ticks')\n",
    "%matplotlib inline\n",
    "\n",
    "import matplotlib as mpl\n",
    "mpl.rcParams['pdf.fonttype'] = 42\n",
    "flierprops = dict(markerfacecolor='lightgrey',markeredgecolor='lightgrey')\n",
    "from statannot import add_stat_annotation\n",
    "\n",
    "import sys\n",
    "sys.path.append('../utils')\n",
    "from stat_annot_utils import create_pairs, create_hue_pairs, parse_results_from_statannot\n",
    "from plot_medians_in_boxplot import plot_medians_in_boxplot\n",
    "from cliffs_d import calc_boxplot_effect_size"
   ]
  },
  {
   "cell_type": "markdown",
   "metadata": {},
   "source": [
    "### Load data"
   ]
  },
  {
   "cell_type": "code",
   "execution_count": 3,
   "metadata": {},
   "outputs": [
    {
     "name": "stdout",
     "output_type": "stream",
     "text": [
      "(122, 14)\n"
     ]
    },
    {
     "data": {
      "text/html": [
       "<div>\n",
       "<style scoped>\n",
       "    .dataframe tbody tr th:only-of-type {\n",
       "        vertical-align: middle;\n",
       "    }\n",
       "\n",
       "    .dataframe tbody tr th {\n",
       "        vertical-align: top;\n",
       "    }\n",
       "\n",
       "    .dataframe thead th {\n",
       "        text-align: right;\n",
       "    }\n",
       "</style>\n",
       "<table border=\"1\" class=\"dataframe\">\n",
       "  <thead>\n",
       "    <tr style=\"text-align: right;\">\n",
       "      <th></th>\n",
       "      <th>No.</th>\n",
       "      <th>Run</th>\n",
       "      <th>Patient</th>\n",
       "      <th>Unnamed: 3</th>\n",
       "      <th>biopsy site</th>\n",
       "      <th>MPS</th>\n",
       "      <th>days Biopsy To PD1</th>\n",
       "      <th>days Biopsy After Ipi Start</th>\n",
       "      <th>biopsyContext (1=Pre-Ipi; 2=On-Ipi; 3=Pre-PD1; 4=On-PD1)</th>\n",
       "      <th>Unnamed: 9</th>\n",
       "      <th>BR</th>\n",
       "      <th>PFS</th>\n",
       "      <th>OS</th>\n",
       "      <th>biopsyContext</th>\n",
       "    </tr>\n",
       "  </thead>\n",
       "  <tbody>\n",
       "    <tr>\n",
       "      <th>0</th>\n",
       "      <td>56</td>\n",
       "      <td>SRR10900001</td>\n",
       "      <td>Patient1</td>\n",
       "      <td>T_M</td>\n",
       "      <td>skin</td>\n",
       "      <td>-393.07</td>\n",
       "      <td>-84</td>\n",
       "      <td>NaN</td>\n",
       "      <td>3seq</td>\n",
       "      <td>③</td>\n",
       "      <td>PD</td>\n",
       "      <td>93</td>\n",
       "      <td>283</td>\n",
       "      <td>pre-PD1</td>\n",
       "    </tr>\n",
       "    <tr>\n",
       "      <th>1</th>\n",
       "      <td>6</td>\n",
       "      <td>SRR10842352</td>\n",
       "      <td>Patient10</td>\n",
       "      <td>T_M</td>\n",
       "      <td>skin</td>\n",
       "      <td>-169.61</td>\n",
       "      <td>-12</td>\n",
       "      <td>107.0</td>\n",
       "      <td>3seq</td>\n",
       "      <td>③</td>\n",
       "      <td>PR</td>\n",
       "      <td>169</td>\n",
       "      <td>1139</td>\n",
       "      <td>pre-PD1</td>\n",
       "    </tr>\n",
       "  </tbody>\n",
       "</table>\n",
       "</div>"
      ],
      "text/plain": [
       "   No.          Run    Patient Unnamed: 3 biopsy site     MPS  \\\n",
       "0   56  SRR10900001   Patient1        T_M        skin -393.07   \n",
       "1    6  SRR10842352  Patient10        T_M        skin -169.61   \n",
       "\n",
       "   days Biopsy To PD1  days Biopsy After Ipi Start  \\\n",
       "0                 -84                          NaN   \n",
       "1                 -12                        107.0   \n",
       "\n",
       "  biopsyContext (1=Pre-Ipi; 2=On-Ipi; 3=Pre-PD1; 4=On-PD1) Unnamed: 9  BR  \\\n",
       "0                                               3seq                ③  PD   \n",
       "1                                               3seq                ③  PR   \n",
       "\n",
       "   PFS    OS biopsyContext  \n",
       "0   93   283       pre-PD1  \n",
       "1  169  1139       pre-PD1  "
      ]
     },
     "execution_count": 3,
     "metadata": {},
     "output_type": "execute_result"
    }
   ],
   "source": [
    "clinical = pd.read_csv('../data/liu_ICB_NatMed2019/data_summary.cleaned.tsv', sep='\\t')\n",
    "\n",
    "print(clinical.shape)\n",
    "clinical.head(2)"
   ]
  },
  {
   "cell_type": "code",
   "execution_count": 5,
   "metadata": {},
   "outputs": [
    {
     "name": "stdout",
     "output_type": "stream",
     "text": [
      "(122262, 34)\n"
     ]
    },
    {
     "data": {
      "text/html": [
       "<div>\n",
       "<style scoped>\n",
       "    .dataframe tbody tr th:only-of-type {\n",
       "        vertical-align: middle;\n",
       "    }\n",
       "\n",
       "    .dataframe tbody tr th {\n",
       "        vertical-align: top;\n",
       "    }\n",
       "\n",
       "    .dataframe thead th {\n",
       "        text-align: right;\n",
       "    }\n",
       "</style>\n",
       "<table border=\"1\" class=\"dataframe\">\n",
       "  <thead>\n",
       "    <tr style=\"text-align: right;\">\n",
       "      <th></th>\n",
       "      <th>Hugo_Symbol</th>\n",
       "      <th>Chromosome</th>\n",
       "      <th>Variant_Classification</th>\n",
       "      <th>Variant_Type</th>\n",
       "      <th>cDNA_Change</th>\n",
       "      <th>Protein_Change</th>\n",
       "      <th>Start_position</th>\n",
       "      <th>End_position</th>\n",
       "      <th>Reference_Allele</th>\n",
       "      <th>Tumor_Seq_Allele1</th>\n",
       "      <th>...</th>\n",
       "      <th>Protein names</th>\n",
       "      <th>Gene names</th>\n",
       "      <th>Organism</th>\n",
       "      <th>Length</th>\n",
       "      <th>Gene ontology (cellular component)</th>\n",
       "      <th>Gene ontology IDs</th>\n",
       "      <th>cc_ids</th>\n",
       "      <th>UMAP1</th>\n",
       "      <th>UMAP2</th>\n",
       "      <th>gene</th>\n",
       "    </tr>\n",
       "  </thead>\n",
       "  <tbody>\n",
       "    <tr>\n",
       "      <th>0</th>\n",
       "      <td>LRP1B</td>\n",
       "      <td>2</td>\n",
       "      <td>Missense_Mutation</td>\n",
       "      <td>SNP</td>\n",
       "      <td>c.2482G&gt;A</td>\n",
       "      <td>p.E828K</td>\n",
       "      <td>141762925</td>\n",
       "      <td>141762925</td>\n",
       "      <td>C</td>\n",
       "      <td>C</td>\n",
       "      <td>...</td>\n",
       "      <td>Low-density lipoprotein receptor-related prote...</td>\n",
       "      <td>LRP1B LRPDIT</td>\n",
       "      <td>Homo sapiens (Human)</td>\n",
       "      <td>4599</td>\n",
       "      <td>integral component of membrane [GO:0016021]; r...</td>\n",
       "      <td>GO:0005509; GO:0006898; GO:0015031; GO:0016021...</td>\n",
       "      <td>['GO:0016021', 'GO:0043235']</td>\n",
       "      <td>0.648405</td>\n",
       "      <td>-0.69124</td>\n",
       "      <td>LRP1B</td>\n",
       "    </tr>\n",
       "    <tr>\n",
       "      <th>1</th>\n",
       "      <td>LRP1B</td>\n",
       "      <td>2</td>\n",
       "      <td>Silent</td>\n",
       "      <td>SNP</td>\n",
       "      <td>c.12963G&gt;A</td>\n",
       "      <td>p.Q4321Q</td>\n",
       "      <td>141055381</td>\n",
       "      <td>141055381</td>\n",
       "      <td>C</td>\n",
       "      <td>C</td>\n",
       "      <td>...</td>\n",
       "      <td>Low-density lipoprotein receptor-related prote...</td>\n",
       "      <td>LRP1B LRPDIT</td>\n",
       "      <td>Homo sapiens (Human)</td>\n",
       "      <td>4599</td>\n",
       "      <td>integral component of membrane [GO:0016021]; r...</td>\n",
       "      <td>GO:0005509; GO:0006898; GO:0015031; GO:0016021...</td>\n",
       "      <td>['GO:0016021', 'GO:0043235']</td>\n",
       "      <td>0.648405</td>\n",
       "      <td>-0.69124</td>\n",
       "      <td>LRP1B</td>\n",
       "    </tr>\n",
       "  </tbody>\n",
       "</table>\n",
       "<p>2 rows × 34 columns</p>\n",
       "</div>"
      ],
      "text/plain": [
       "  Hugo_Symbol Chromosome Variant_Classification Variant_Type cDNA_Change  \\\n",
       "0       LRP1B          2      Missense_Mutation          SNP   c.2482G>A   \n",
       "1       LRP1B          2                 Silent          SNP  c.12963G>A   \n",
       "\n",
       "  Protein_Change  Start_position  End_position Reference_Allele  \\\n",
       "0        p.E828K       141762925     141762925                C   \n",
       "1       p.Q4321Q       141055381     141055381                C   \n",
       "\n",
       "  Tumor_Seq_Allele1  ...                                      Protein names  \\\n",
       "0                 C  ...  Low-density lipoprotein receptor-related prote...   \n",
       "1                 C  ...  Low-density lipoprotein receptor-related prote...   \n",
       "\n",
       "     Gene names              Organism  Length  \\\n",
       "0  LRP1B LRPDIT  Homo sapiens (Human)    4599   \n",
       "1  LRP1B LRPDIT  Homo sapiens (Human)    4599   \n",
       "\n",
       "                  Gene ontology (cellular component)  \\\n",
       "0  integral component of membrane [GO:0016021]; r...   \n",
       "1  integral component of membrane [GO:0016021]; r...   \n",
       "\n",
       "                                   Gene ontology IDs  \\\n",
       "0  GO:0005509; GO:0006898; GO:0015031; GO:0016021...   \n",
       "1  GO:0005509; GO:0006898; GO:0015031; GO:0016021...   \n",
       "\n",
       "                         cc_ids     UMAP1    UMAP2   gene  \n",
       "0  ['GO:0016021', 'GO:0043235']  0.648405 -0.69124  LRP1B  \n",
       "1  ['GO:0016021', 'GO:0043235']  0.648405 -0.69124  LRP1B  \n",
       "\n",
       "[2 rows x 34 columns]"
      ]
     },
     "execution_count": 5,
     "metadata": {},
     "output_type": "execute_result"
    }
   ],
   "source": [
    "maf = pd.read_csv('../data/liu_ICB_NatMed2019/muts.with_location.tsv', sep='\\t')\n",
    "print(maf.shape)\n",
    "maf.head(2)"
   ]
  },
  {
   "cell_type": "code",
   "execution_count": 6,
   "metadata": {},
   "outputs": [
    {
     "name": "stdout",
     "output_type": "stream",
     "text": [
      "(122262, 47)\n",
      "(96477, 47)\n",
      "(96477, 47)\n"
     ]
    },
    {
     "data": {
      "text/html": [
       "<div>\n",
       "<style scoped>\n",
       "    .dataframe tbody tr th:only-of-type {\n",
       "        vertical-align: middle;\n",
       "    }\n",
       "\n",
       "    .dataframe tbody tr th {\n",
       "        vertical-align: top;\n",
       "    }\n",
       "\n",
       "    .dataframe thead th {\n",
       "        text-align: right;\n",
       "    }\n",
       "</style>\n",
       "<table border=\"1\" class=\"dataframe\">\n",
       "  <thead>\n",
       "    <tr style=\"text-align: right;\">\n",
       "      <th></th>\n",
       "      <th>Hugo_Symbol</th>\n",
       "      <th>Chromosome</th>\n",
       "      <th>Variant_Classification</th>\n",
       "      <th>Variant_Type</th>\n",
       "      <th>cDNA_Change</th>\n",
       "      <th>Protein_Change</th>\n",
       "      <th>Start_position</th>\n",
       "      <th>End_position</th>\n",
       "      <th>Reference_Allele</th>\n",
       "      <th>Tumor_Seq_Allele1</th>\n",
       "      <th>...</th>\n",
       "      <th>biopsy site</th>\n",
       "      <th>MPS</th>\n",
       "      <th>days Biopsy To PD1</th>\n",
       "      <th>days Biopsy After Ipi Start</th>\n",
       "      <th>biopsyContext (1=Pre-Ipi; 2=On-Ipi; 3=Pre-PD1; 4=On-PD1)</th>\n",
       "      <th>Unnamed: 9</th>\n",
       "      <th>BR</th>\n",
       "      <th>PFS</th>\n",
       "      <th>OS</th>\n",
       "      <th>biopsyContext</th>\n",
       "    </tr>\n",
       "  </thead>\n",
       "  <tbody>\n",
       "    <tr>\n",
       "      <th>0</th>\n",
       "      <td>LRP1B</td>\n",
       "      <td>2</td>\n",
       "      <td>Missense_Mutation</td>\n",
       "      <td>SNP</td>\n",
       "      <td>c.2482G&gt;A</td>\n",
       "      <td>p.E828K</td>\n",
       "      <td>141762925</td>\n",
       "      <td>141762925</td>\n",
       "      <td>C</td>\n",
       "      <td>C</td>\n",
       "      <td>...</td>\n",
       "      <td>skin</td>\n",
       "      <td>-486.04</td>\n",
       "      <td>-22.0</td>\n",
       "      <td>NaN</td>\n",
       "      <td>3</td>\n",
       "      <td>④</td>\n",
       "      <td>MR</td>\n",
       "      <td>378.0</td>\n",
       "      <td>521.0</td>\n",
       "      <td>on-PD1</td>\n",
       "    </tr>\n",
       "    <tr>\n",
       "      <th>1</th>\n",
       "      <td>LRP1B</td>\n",
       "      <td>2</td>\n",
       "      <td>Silent</td>\n",
       "      <td>SNP</td>\n",
       "      <td>c.12963G&gt;A</td>\n",
       "      <td>p.Q4321Q</td>\n",
       "      <td>141055381</td>\n",
       "      <td>141055381</td>\n",
       "      <td>C</td>\n",
       "      <td>C</td>\n",
       "      <td>...</td>\n",
       "      <td>skin</td>\n",
       "      <td>-200.90</td>\n",
       "      <td>-112.0</td>\n",
       "      <td>-13.0</td>\n",
       "      <td>1</td>\n",
       "      <td>①</td>\n",
       "      <td>PD</td>\n",
       "      <td>99.0</td>\n",
       "      <td>626.0</td>\n",
       "      <td>pre-Ipi</td>\n",
       "    </tr>\n",
       "  </tbody>\n",
       "</table>\n",
       "<p>2 rows × 47 columns</p>\n",
       "</div>"
      ],
      "text/plain": [
       "  Hugo_Symbol Chromosome Variant_Classification Variant_Type cDNA_Change  \\\n",
       "0       LRP1B          2      Missense_Mutation          SNP   c.2482G>A   \n",
       "1       LRP1B          2                 Silent          SNP  c.12963G>A   \n",
       "\n",
       "  Protein_Change  Start_position  End_position Reference_Allele  \\\n",
       "0        p.E828K       141762925     141762925                C   \n",
       "1       p.Q4321Q       141055381     141055381                C   \n",
       "\n",
       "  Tumor_Seq_Allele1  ... biopsy site     MPS  days Biopsy To PD1  \\\n",
       "0                 C  ...        skin -486.04               -22.0   \n",
       "1                 C  ...        skin -200.90              -112.0   \n",
       "\n",
       "   days Biopsy After Ipi Start  \\\n",
       "0                          NaN   \n",
       "1                        -13.0   \n",
       "\n",
       "  biopsyContext (1=Pre-Ipi; 2=On-Ipi; 3=Pre-PD1; 4=On-PD1)  Unnamed: 9  BR  \\\n",
       "0                                                  3                 ④  MR   \n",
       "1                                                  1                 ①  PD   \n",
       "\n",
       "     PFS     OS  biopsyContext  \n",
       "0  378.0  521.0         on-PD1  \n",
       "1   99.0  626.0        pre-Ipi  \n",
       "\n",
       "[2 rows x 47 columns]"
      ]
     },
     "execution_count": 6,
     "metadata": {},
     "output_type": "execute_result"
    }
   ],
   "source": [
    "# merge clinical and mutations\n",
    "df = pd.merge(maf, clinical, on=['Patient'], how='left')\n",
    "print(df.shape)\n",
    "df = df.dropna(subset=['BR'])\n",
    "print(df.shape)\n",
    "df = df.dropna(subset=['cc_ids'])\n",
    "print(df.shape)\n",
    "\n",
    "df.head(2)"
   ]
  },
  {
   "cell_type": "markdown",
   "metadata": {},
   "source": [
    "##### Preprocess"
   ]
  },
  {
   "cell_type": "code",
   "execution_count": 7,
   "metadata": {},
   "outputs": [
    {
     "data": {
      "text/plain": [
       "(59939, 47)"
      ]
     },
     "execution_count": 7,
     "metadata": {},
     "output_type": "execute_result"
    }
   ],
   "source": [
    "# Ignore noncoding and silent mutation types for TMB calculation\n",
    "noncoding_silent_mut_types = ['Silent','RNA','Intron','5\\'UTR','3\\'UTR','Start_Codon_Del',\n",
    "                              'Stop_Codon_Ins','Nonsense_Mutation']\n",
    "\n",
    "df = df[~df['Variant_Classification'].isin(noncoding_silent_mut_types)]\n",
    "df.shape"
   ]
  },
  {
   "cell_type": "code",
   "execution_count": 15,
   "metadata": {},
   "outputs": [
    {
     "data": {
      "text/plain": [
       "368"
      ]
     },
     "execution_count": 15,
     "metadata": {},
     "output_type": "execute_result"
    }
   ],
   "source": [
    "# load previously observed immunogenic locations\n",
    "immunogenic_loc = np.load('../data/generated_data/previously_obs_immunogenic_loc.npy', allow_pickle=True)\n",
    "len(immunogenic_loc)\n"
   ]
  },
  {
   "cell_type": "code",
   "execution_count": 16,
   "metadata": {},
   "outputs": [],
   "source": [
    "# annotate\n",
    "df['prev_seen_immuno'] = df['cc_ids'].apply(lambda x: frozenset(literal_eval(x)) in immunogenic_loc)"
   ]
  },
  {
   "cell_type": "markdown",
   "metadata": {},
   "source": [
    "### Analysis for responders to be enriched for mutations in locations that were previously seen to induce an immunogenic response"
   ]
  },
  {
   "cell_type": "code",
   "execution_count": 17,
   "metadata": {},
   "outputs": [
    {
     "name": "stdout",
     "output_type": "stream",
     "text": [
      "(1.0649724250614045, 0.0014963437963711294)\n"
     ]
    },
    {
     "data": {
      "text/html": [
       "<div>\n",
       "<style scoped>\n",
       "    .dataframe tbody tr th:only-of-type {\n",
       "        vertical-align: middle;\n",
       "    }\n",
       "\n",
       "    .dataframe tbody tr th {\n",
       "        vertical-align: top;\n",
       "    }\n",
       "\n",
       "    .dataframe thead th {\n",
       "        text-align: right;\n",
       "    }\n",
       "</style>\n",
       "<table border=\"1\" class=\"dataframe\">\n",
       "  <thead>\n",
       "    <tr style=\"text-align: right;\">\n",
       "      <th>response_binary</th>\n",
       "      <th>response</th>\n",
       "      <th>nonresponse</th>\n",
       "    </tr>\n",
       "    <tr>\n",
       "      <th>prev_seen_immuno</th>\n",
       "      <th></th>\n",
       "      <th></th>\n",
       "    </tr>\n",
       "  </thead>\n",
       "  <tbody>\n",
       "    <tr>\n",
       "      <th>True</th>\n",
       "      <td>7493</td>\n",
       "      <td>6237</td>\n",
       "    </tr>\n",
       "    <tr>\n",
       "      <th>False</th>\n",
       "      <td>21578</td>\n",
       "      <td>19128</td>\n",
       "    </tr>\n",
       "  </tbody>\n",
       "</table>\n",
       "</div>"
      ],
      "text/plain": [
       "response_binary   response  nonresponse\n",
       "prev_seen_immuno                       \n",
       "True                  7493         6237\n",
       "False                21578        19128"
      ]
     },
     "execution_count": 17,
     "metadata": {},
     "output_type": "execute_result"
    }
   ],
   "source": [
    "df['response_binary'] = df['BR'].map({'CR': 'response', 'PR': 'response', 'PD': 'nonresponse', })\n",
    "\n",
    "ct = pd.crosstab(df['prev_seen_immuno'], df['response_binary'])\n",
    "ct = ct[['response','nonresponse']]    \n",
    "ct = ct.sort_index(ascending=False, axis=0)\n",
    "print(fisher_exact(ct))\n",
    "ct"
   ]
  },
  {
   "cell_type": "markdown",
   "metadata": {},
   "source": [
    "### Plot filtered TMB"
   ]
  },
  {
   "cell_type": "code",
   "execution_count": 20,
   "metadata": {
    "scrolled": false
   },
   "outputs": [
    {
     "name": "stdout",
     "output_type": "stream",
     "text": [
      "Effect size (filtered): response/nonresponse r=0.2258\n",
      "../data/publication_figures/Fig4.LiuNatMed.tmb_filtered.boxplot.pdf\n"
     ]
    },
    {
     "data": {
      "image/png": "[encoded data removed]",
      "text/plain": [
       "<Figure size 216x288 with 1 Axes>"
      ]
     },
     "metadata": {
      "needs_background": "light"
     },
     "output_type": "display_data"
    }
   ],
   "source": [
    "plt.figure(figsize=(3,4))\n",
    "\n",
    "ylabel_dict = {'filtered': 'Predicted neoantigen burden'}\n",
    "i=1\n",
    "\n",
    "for tmb_df, f_status in [(pd.DataFrame(df[df['prev_seen_immuno']==True]['Patient'].value_counts()), 'filtered')]:\n",
    "    \n",
    "    # add clinical/response info\n",
    "    tmb_df = tmb_df.join(clinical.set_index('Patient'))\n",
    "    tmb_df = tmb_df.rename(columns={'Patient': 'tmb'})\n",
    "    tmb_df['response_binary'] = tmb_df['BR'].map({'CR': 'response', 'PR': 'response', \n",
    "                                                  'PD': 'nonresponse', 'SD':'SD/MR', 'MR': 'SD/MR'})\n",
    "\n",
    "    x, y = 'response_binary', 'tmb'\n",
    "    order = ['response','SD/MR','nonresponse']\n",
    "    ax = sns.boxplot(x=x, y=y, data=tmb_df,order=order, palette='Greens', flierprops=flierprops)\n",
    "    plt.ylim(-10,350)\n",
    "    stat_res = add_stat_annotation(ax=ax, x=x, y=y, data=tmb_df, order=order, text_format='simple', verbose=0,\n",
    "                            comparisons_correction=None,\n",
    "                            test='Mann-Whitney', loc='outside',\n",
    "                            box_pairs=create_pairs(order),)\n",
    "    plt.ylim(-10,500)\n",
    "    \n",
    "    # calculate effect size\n",
    "    stat_res = parse_results_from_statannot(stat_res)\n",
    "    U = stat_res['nonresponse','response'][0]\n",
    "    print('Effect size ({}): response/nonresponse r={:.4}'.format(f_status,\n",
    "                                                                calc_boxplot_effect_size(len(tmb_df[tmb_df[x]=='nonresponse']), \n",
    "                                                                                      len(tmb_df[tmb_df[x]=='response']), U)))\n",
    "\n",
    "    # plot medians and counts\n",
    "    medians = tmb_df.groupby(x)[y].median()\n",
    "    plot_medians_in_boxplot(medians, vertical_offset=10, ax=ax, fontcolor='w')\n",
    "\n",
    "    counts = tmb_df[x].value_counts()\n",
    "    \n",
    "    ax.set_xticklabels(['{}\\n({})'.format(x.get_text(), counts.loc[x.get_text()]) for x in ax.get_xticklabels()])\n",
    "    plt.xlabel('')\n",
    "\n",
    "    if f_status in ylabel_dict:\n",
    "        plt.ylabel(ylabel_dict[f_status])\n",
    "    i+=1\n",
    "    \n",
    "plt.tight_layout()\n",
    "savepath = '../data/publication_figures/Fig4.LiuNatMed.tmb_filtered.boxplot.pdf'\n",
    "print(savepath)\n",
    "plt.savefig(savepath)\n",
    "plt.show()"
   ]
  },
  {
   "cell_type": "markdown",
   "metadata": {},
   "source": [
    "### Create effect size plot for filtered TMB vs unfiltered TMB vs predicted immunogenic neoantigen burden"
   ]
  },
  {
   "cell_type": "code",
   "execution_count": 21,
   "metadata": {},
   "outputs": [],
   "source": [
    "import joblib\n",
    "from sklearn.ensemble import RandomForestClassifier\n",
    "from sklearn.metrics import roc_auc_score, precision_recall_curve, auc, roc_curve"
   ]
  },
  {
   "cell_type": "code",
   "execution_count": 22,
   "metadata": {},
   "outputs": [
    {
     "name": "stdout",
     "output_type": "stream",
     "text": [
      "(36949, 24)\n"
     ]
    },
    {
     "data": {
      "text/html": [
       "<div>\n",
       "<style scoped>\n",
       "    .dataframe tbody tr th:only-of-type {\n",
       "        vertical-align: middle;\n",
       "    }\n",
       "\n",
       "    .dataframe tbody tr th {\n",
       "        vertical-align: top;\n",
       "    }\n",
       "\n",
       "    .dataframe thead th {\n",
       "        text-align: right;\n",
       "    }\n",
       "</style>\n",
       "<table border=\"1\" class=\"dataframe\">\n",
       "  <thead>\n",
       "    <tr style=\"text-align: right;\">\n",
       "      <th></th>\n",
       "      <th>Mutation_ID</th>\n",
       "      <th>allele</th>\n",
       "      <th>br_nM</th>\n",
       "      <th>br_peptide</th>\n",
       "      <th>patient</th>\n",
       "      <th>nmer</th>\n",
       "      <th>foreignness_score</th>\n",
       "      <th>Peptide</th>\n",
       "      <th>Thalf(h)</th>\n",
       "      <th>HLA allele</th>\n",
       "      <th>...</th>\n",
       "      <th>Protein names</th>\n",
       "      <th>Gene names</th>\n",
       "      <th>Organism</th>\n",
       "      <th>Length</th>\n",
       "      <th>Gene ontology (cellular component)</th>\n",
       "      <th>Gene ontology IDs</th>\n",
       "      <th>cc_ids</th>\n",
       "      <th>UMAP1</th>\n",
       "      <th>UMAP2</th>\n",
       "      <th>nM</th>\n",
       "    </tr>\n",
       "  </thead>\n",
       "  <tbody>\n",
       "    <tr>\n",
       "      <th>0</th>\n",
       "      <td>M_OR2A12_R121W</td>\n",
       "      <td>HLA-A02:01</td>\n",
       "      <td>1.649</td>\n",
       "      <td>VMMCYDWYV</td>\n",
       "      <td>Patient179</td>\n",
       "      <td>VMMCYDWYV</td>\n",
       "      <td>1.0</td>\n",
       "      <td>VMMCYDWYV</td>\n",
       "      <td>37.4879</td>\n",
       "      <td>HLA-A02:01</td>\n",
       "      <td>...</td>\n",
       "      <td>Olfactory receptor 2A12 (Olfactory receptor OR...</td>\n",
       "      <td>OR2A12 OR2A12P</td>\n",
       "      <td>Homo sapiens (Human)</td>\n",
       "      <td>310.0</td>\n",
       "      <td>integral component of membrane [GO:0016021]; p...</td>\n",
       "      <td>GO:0004930; GO:0004984; GO:0005886; GO:0016021</td>\n",
       "      <td>['GO:0016021', 'GO:0005886']</td>\n",
       "      <td>0.792989</td>\n",
       "      <td>-0.531198</td>\n",
       "      <td>1.649</td>\n",
       "    </tr>\n",
       "  </tbody>\n",
       "</table>\n",
       "<p>1 rows × 25 columns</p>\n",
       "</div>"
      ],
      "text/plain": [
       "      Mutation_ID      allele  br_nM br_peptide     patient       nmer  \\\n",
       "0  M_OR2A12_R121W  HLA-A02:01  1.649  VMMCYDWYV  Patient179  VMMCYDWYV   \n",
       "\n",
       "   foreignness_score    Peptide  Thalf(h)  HLA allele  ...  \\\n",
       "0                1.0  VMMCYDWYV   37.4879  HLA-A02:01  ...   \n",
       "\n",
       "                                       Protein names      Gene names  \\\n",
       "0  Olfactory receptor 2A12 (Olfactory receptor OR...  OR2A12 OR2A12P   \n",
       "\n",
       "               Organism Length  \\\n",
       "0  Homo sapiens (Human)  310.0   \n",
       "\n",
       "                  Gene ontology (cellular component)  \\\n",
       "0  integral component of membrane [GO:0016021]; p...   \n",
       "\n",
       "                                Gene ontology IDs  \\\n",
       "0  GO:0004930; GO:0004984; GO:0005886; GO:0016021   \n",
       "\n",
       "                         cc_ids     UMAP1     UMAP2     nM  \n",
       "0  ['GO:0016021', 'GO:0005886']  0.792989 -0.531198  1.649  \n",
       "\n",
       "[1 rows x 25 columns]"
      ]
     },
     "execution_count": 22,
     "metadata": {},
     "output_type": "execute_result"
    }
   ],
   "source": [
    "pep_df = pd.read_csv('../data/liu_ICB_NatMed2019/neopeptides.best_allele_per_mut.merged.tsv', sep='\\t')\n",
    "print(pep_df.shape)\n",
    "pep_df['nM'] = pep_df['br_nM']\n",
    "pep_df.head(1)"
   ]
  },
  {
   "cell_type": "markdown",
   "metadata": {},
   "source": [
    "#### Predict immunogenic peptides using RF model trained on IEDB+Wells+Liu (OV)"
   ]
  },
  {
   "cell_type": "code",
   "execution_count": 24,
   "metadata": {},
   "outputs": [
    {
     "name": "stderr",
     "output_type": "stream",
     "text": [
      "/cellar/users/andreabc/miniconda3/lib/python3.6/site-packages/ipykernel_launcher.py:6: SettingWithCopyWarning: \n",
      "A value is trying to be set on a copy of a slice from a DataFrame.\n",
      "Try using .loc[row_indexer,col_indexer] = value instead\n",
      "\n",
      "See the caveats in the documentation: https://pandas.pydata.org/pandas-docs/stable/user_guide/indexing.html#returning-a-view-versus-a-copy\n",
      "  \n"
     ]
    }
   ],
   "source": [
    "# location model\n",
    "rf = joblib.load('../data/generated_data/Wells_and_IEDB_and_Liu.RF.train_all.aff_stab_foreign_loc.hyperboloid_disk.joblib')\n",
    "xcols = ['nM','Thalf(h)','foreignness_score', 'UMAP1', 'UMAP2'] \n",
    "\n",
    "model_loc_df = pep_df.dropna(subset=xcols)\n",
    "model_loc_df['preds'] = rf.predict_proba(model_loc_df[xcols])[:,1]"
   ]
  },
  {
   "cell_type": "code",
   "execution_count": 25,
   "metadata": {},
   "outputs": [],
   "source": [
    "# no location model\n",
    "rf = joblib.load('../data/generated_data/Wells_and_IEDB_and_Liu.RF.train_all.aff_stab_foreign.hyperboloid_disk.joblib')\n",
    "xcols = ['nM','Thalf(h)','foreignness_score', ] \n",
    "\n",
    "model_noloc_df = pep_df.dropna(subset=xcols)\n",
    "model_noloc_df['preds'] = rf.predict_proba(model_noloc_df[xcols])[:,1]"
   ]
  },
  {
   "cell_type": "code",
   "execution_count": 26,
   "metadata": {},
   "outputs": [],
   "source": [
    "# use optimal thresholds to binarize\n",
    "model_loc = model_loc_df[model_loc_df['preds']>0.35].pivot_table(index='patient', values='br_peptide', aggfunc='count')\n",
    "model_noloc = model_noloc_df[model_noloc_df['preds']>0.375].pivot_table(index='patient', values='br_peptide', aggfunc='count')\n",
    "model_tmb_only_df = pep_df.dropna(subset=xcols)[pep_df.dropna(subset=xcols)['nM']<500].pivot_table(index='patient', values='br_peptide', aggfunc='count')"
   ]
  },
  {
   "cell_type": "markdown",
   "metadata": {},
   "source": [
    "#### Plot burden and calculate effect sizes"
   ]
  },
  {
   "cell_type": "code",
   "execution_count": 27,
   "metadata": {},
   "outputs": [
    {
     "data": {
      "image/png": "[encoded data removed]",
      "text/plain": [
       "<Figure size 720x288 with 3 Axes>"
      ]
     },
     "metadata": {
      "needs_background": "light"
     },
     "output_type": "display_data"
    }
   ],
   "source": [
    "e_list, label_list = [],[]\n",
    "\n",
    "plt.figure(figsize=(10,4))\n",
    "ylabel_dict = {'model_loc': 'Filtering by predicted non-immunogneic peptides (location model)',\n",
    "               'model_noloc': 'Filtering by predicted non-immunogneic peptides (non-location model)',\n",
    "               'tmb_500nM': 'Filtering by <500nM peptides'}                     \n",
    "i=0\n",
    "\n",
    "for l, df in [('model_loc', model_loc),\n",
    "              ('model_noloc', model_noloc),\n",
    "              ('tmb_500nM', model_tmb_only_df)]:\n",
    "    plt.subplot(1,3,i+1)\n",
    "    \n",
    "    # add clinical/response\n",
    "    df = clinical.set_index('Patient').join(df, how='left')\n",
    "    df['response_binary'] = df['BR'].map({'CR': 'response', 'PR': 'response', \n",
    "                                                  'PD': 'nonresponse', 'SD':'SD/MR', 'MR': 'SD/MR'})\n",
    "\n",
    "    # plot\n",
    "    x, y = 'response_binary','br_peptide'\n",
    "    order = sorted(df[x].unique())\n",
    "\n",
    "    bp = sns.boxplot(x=x, y=y, data=df, palette='Greens',order=order,flierprops=flierprops,)\n",
    "\n",
    "    # calculate effect size\n",
    "    stat_res= add_stat_annotation(ax=bp, x=x, y=y, box_pairs=create_pairs(order), order=order, \n",
    "                        test='Mann-Whitney',comparisons_correction=None, text_format='simple',\n",
    "                        data=df, loc='outside', verbose=False)\n",
    "    stat_res = parse_results_from_statannot(stat_res)\n",
    "    \n",
    "    for pair in create_pairs(order):\n",
    "        pair = sorted(pair)\n",
    "        U = stat_res[tuple(pair)][0]\n",
    "        e = calc_boxplot_effect_size(len(df[df[x]==pair[0]]), len(df[df[x]==pair[1]]), U)\n",
    "    \n",
    "#         print(l, 'Effect size ({}): {} r={:.3}'.format('with location' if i%2==0 else 'without location',\n",
    "#             '/'.join(pair), e))\n",
    "        if pair == ['nonresponse','response']:\n",
    "            e_list.append(e)\n",
    "            label_list.append(ylabel_dict[l])\n",
    "    \n",
    "    # plot medians and counts\n",
    "    medians = df.groupby([x])[y].median()\n",
    "    plot_medians_in_boxplot(medians, vertical_offset=2, ax=bp)\n",
    "    \n",
    "    counts = df[x].value_counts()\n",
    "    \n",
    "    if l in ylabel_dict: plt.ylabel(ylabel_dict[l])\n",
    "    bp.set_xticklabels(['{}\\n({})'.format(x.get_text(), counts.loc[x.get_text()]) \n",
    "                        for x in bp.get_xticklabels()])\n",
    "\n",
    "    i+=1\n",
    "\n",
    "\n",
    "plt.tight_layout()\n",
    "plt.show()"
   ]
  },
  {
   "cell_type": "markdown",
   "metadata": {},
   "source": [
    "#### Compare effect sizes"
   ]
  },
  {
   "cell_type": "code",
   "execution_count": 28,
   "metadata": {},
   "outputs": [
    {
     "data": {
      "image/png": "[encoded data removed]",
      "text/plain": [
       "<Figure size 144x144 with 1 Axes>"
      ]
     },
     "metadata": {
      "needs_background": "light"
     },
     "output_type": "display_data"
    }
   ],
   "source": [
    "plt.figure(figsize=(2,2))\n",
    "sns.barplot(x=e_list, y=label_list)\n",
    "plt.xlim(0,0.5)\n",
    "plt.show()"
   ]
  },
  {
   "cell_type": "code",
   "execution_count": null,
   "metadata": {},
   "outputs": [],
   "source": []
  }
 ],
 "metadata": {
  "kernelspec": {
   "display_name": "Python 3",
   "language": "python",
   "name": "python3"
  },
  "language_info": {
   "codemirror_mode": {
    "name": "ipython",
    "version": 3
   },
   "file_extension": ".py",
   "mimetype": "text/x-python",
   "name": "python",
   "nbconvert_exporter": "python",
   "pygments_lexer": "ipython3",
   "version": "3.6.8"
  }
 },
 "nbformat": 4,
 "nbformat_minor": 4
}
